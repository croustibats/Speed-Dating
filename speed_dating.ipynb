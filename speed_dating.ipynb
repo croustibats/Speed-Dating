{
 "cells": [
  {
   "cell_type": "code",
   "execution_count": 1,
   "metadata": {},
   "outputs": [],
   "source": [
    "import pandas as pd\n",
    "import seaborn as sns\n",
    "import matplotlib.pyplot as plt\n",
    "import plotly.express as px\n",
    "import plotly.graph_objects as go\n",
    "from plotly.subplots import make_subplots\n",
    "#pd.options.display.max_rows = 999\n",
    "#pd.options.display.max_columns = 999"
   ]
  },
  {
   "cell_type": "code",
   "execution_count": 2,
   "metadata": {},
   "outputs": [],
   "source": [
    "df = pd.read_csv('Speed Dating Data.csv')"
   ]
  },
  {
   "cell_type": "code",
   "execution_count": 3,
   "metadata": {},
   "outputs": [
    {
     "data": {
      "text/html": [
       "<div>\n",
       "<style scoped>\n",
       "    .dataframe tbody tr th:only-of-type {\n",
       "        vertical-align: middle;\n",
       "    }\n",
       "\n",
       "    .dataframe tbody tr th {\n",
       "        vertical-align: top;\n",
       "    }\n",
       "\n",
       "    .dataframe thead th {\n",
       "        text-align: right;\n",
       "    }\n",
       "</style>\n",
       "<table border=\"1\" class=\"dataframe\">\n",
       "  <thead>\n",
       "    <tr style=\"text-align: right;\">\n",
       "      <th></th>\n",
       "      <th>iid</th>\n",
       "      <th>id</th>\n",
       "      <th>gender</th>\n",
       "      <th>idg</th>\n",
       "      <th>condtn</th>\n",
       "      <th>wave</th>\n",
       "      <th>round</th>\n",
       "      <th>position</th>\n",
       "      <th>positin1</th>\n",
       "      <th>order</th>\n",
       "      <th>...</th>\n",
       "      <th>attr3_3</th>\n",
       "      <th>sinc3_3</th>\n",
       "      <th>intel3_3</th>\n",
       "      <th>fun3_3</th>\n",
       "      <th>amb3_3</th>\n",
       "      <th>attr5_3</th>\n",
       "      <th>sinc5_3</th>\n",
       "      <th>intel5_3</th>\n",
       "      <th>fun5_3</th>\n",
       "      <th>amb5_3</th>\n",
       "    </tr>\n",
       "  </thead>\n",
       "  <tbody>\n",
       "    <tr>\n",
       "      <th>0</th>\n",
       "      <td>1</td>\n",
       "      <td>1</td>\n",
       "      <td>0</td>\n",
       "      <td>1</td>\n",
       "      <td>1</td>\n",
       "      <td>1</td>\n",
       "      <td>10</td>\n",
       "      <td>7</td>\n",
       "      <td>NaN</td>\n",
       "      <td>4</td>\n",
       "      <td>...</td>\n",
       "      <td>5.0</td>\n",
       "      <td>7.0</td>\n",
       "      <td>7.0</td>\n",
       "      <td>7.0</td>\n",
       "      <td>7.0</td>\n",
       "      <td>NaN</td>\n",
       "      <td>NaN</td>\n",
       "      <td>NaN</td>\n",
       "      <td>NaN</td>\n",
       "      <td>NaN</td>\n",
       "    </tr>\n",
       "    <tr>\n",
       "      <th>1</th>\n",
       "      <td>1</td>\n",
       "      <td>1</td>\n",
       "      <td>0</td>\n",
       "      <td>1</td>\n",
       "      <td>1</td>\n",
       "      <td>1</td>\n",
       "      <td>10</td>\n",
       "      <td>7</td>\n",
       "      <td>NaN</td>\n",
       "      <td>3</td>\n",
       "      <td>...</td>\n",
       "      <td>5.0</td>\n",
       "      <td>7.0</td>\n",
       "      <td>7.0</td>\n",
       "      <td>7.0</td>\n",
       "      <td>7.0</td>\n",
       "      <td>NaN</td>\n",
       "      <td>NaN</td>\n",
       "      <td>NaN</td>\n",
       "      <td>NaN</td>\n",
       "      <td>NaN</td>\n",
       "    </tr>\n",
       "    <tr>\n",
       "      <th>2</th>\n",
       "      <td>1</td>\n",
       "      <td>1</td>\n",
       "      <td>0</td>\n",
       "      <td>1</td>\n",
       "      <td>1</td>\n",
       "      <td>1</td>\n",
       "      <td>10</td>\n",
       "      <td>7</td>\n",
       "      <td>NaN</td>\n",
       "      <td>10</td>\n",
       "      <td>...</td>\n",
       "      <td>5.0</td>\n",
       "      <td>7.0</td>\n",
       "      <td>7.0</td>\n",
       "      <td>7.0</td>\n",
       "      <td>7.0</td>\n",
       "      <td>NaN</td>\n",
       "      <td>NaN</td>\n",
       "      <td>NaN</td>\n",
       "      <td>NaN</td>\n",
       "      <td>NaN</td>\n",
       "    </tr>\n",
       "    <tr>\n",
       "      <th>3</th>\n",
       "      <td>1</td>\n",
       "      <td>1</td>\n",
       "      <td>0</td>\n",
       "      <td>1</td>\n",
       "      <td>1</td>\n",
       "      <td>1</td>\n",
       "      <td>10</td>\n",
       "      <td>7</td>\n",
       "      <td>NaN</td>\n",
       "      <td>5</td>\n",
       "      <td>...</td>\n",
       "      <td>5.0</td>\n",
       "      <td>7.0</td>\n",
       "      <td>7.0</td>\n",
       "      <td>7.0</td>\n",
       "      <td>7.0</td>\n",
       "      <td>NaN</td>\n",
       "      <td>NaN</td>\n",
       "      <td>NaN</td>\n",
       "      <td>NaN</td>\n",
       "      <td>NaN</td>\n",
       "    </tr>\n",
       "    <tr>\n",
       "      <th>4</th>\n",
       "      <td>1</td>\n",
       "      <td>1</td>\n",
       "      <td>0</td>\n",
       "      <td>1</td>\n",
       "      <td>1</td>\n",
       "      <td>1</td>\n",
       "      <td>10</td>\n",
       "      <td>7</td>\n",
       "      <td>NaN</td>\n",
       "      <td>7</td>\n",
       "      <td>...</td>\n",
       "      <td>5.0</td>\n",
       "      <td>7.0</td>\n",
       "      <td>7.0</td>\n",
       "      <td>7.0</td>\n",
       "      <td>7.0</td>\n",
       "      <td>NaN</td>\n",
       "      <td>NaN</td>\n",
       "      <td>NaN</td>\n",
       "      <td>NaN</td>\n",
       "      <td>NaN</td>\n",
       "    </tr>\n",
       "  </tbody>\n",
       "</table>\n",
       "<p>5 rows × 195 columns</p>\n",
       "</div>"
      ],
      "text/plain": [
       "   iid  id  gender  idg  condtn  wave  round  position  positin1  order  ...  \\\n",
       "0    1   1       0    1       1     1     10         7       NaN      4  ...   \n",
       "1    1   1       0    1       1     1     10         7       NaN      3  ...   \n",
       "2    1   1       0    1       1     1     10         7       NaN     10  ...   \n",
       "3    1   1       0    1       1     1     10         7       NaN      5  ...   \n",
       "4    1   1       0    1       1     1     10         7       NaN      7  ...   \n",
       "\n",
       "   attr3_3  sinc3_3  intel3_3  fun3_3  amb3_3  attr5_3  sinc5_3  intel5_3  \\\n",
       "0      5.0      7.0       7.0     7.0     7.0      NaN      NaN       NaN   \n",
       "1      5.0      7.0       7.0     7.0     7.0      NaN      NaN       NaN   \n",
       "2      5.0      7.0       7.0     7.0     7.0      NaN      NaN       NaN   \n",
       "3      5.0      7.0       7.0     7.0     7.0      NaN      NaN       NaN   \n",
       "4      5.0      7.0       7.0     7.0     7.0      NaN      NaN       NaN   \n",
       "\n",
       "   fun5_3  amb5_3  \n",
       "0     NaN     NaN  \n",
       "1     NaN     NaN  \n",
       "2     NaN     NaN  \n",
       "3     NaN     NaN  \n",
       "4     NaN     NaN  \n",
       "\n",
       "[5 rows x 195 columns]"
      ]
     },
     "execution_count": 3,
     "metadata": {},
     "output_type": "execute_result"
    }
   ],
   "source": [
    "df.head()"
   ]
  },
  {
   "cell_type": "code",
   "execution_count": 4,
   "metadata": {},
   "outputs": [
    {
     "data": {
      "text/plain": [
       "(6837, 195)"
      ]
     },
     "execution_count": 4,
     "metadata": {},
     "output_type": "execute_result"
    }
   ],
   "source": [
    "df.shape"
   ]
  },
  {
   "cell_type": "code",
   "execution_count": 5,
   "metadata": {},
   "outputs": [
    {
     "data": {
      "text/html": [
       "<div>\n",
       "<style scoped>\n",
       "    .dataframe tbody tr th:only-of-type {\n",
       "        vertical-align: middle;\n",
       "    }\n",
       "\n",
       "    .dataframe tbody tr th {\n",
       "        vertical-align: top;\n",
       "    }\n",
       "\n",
       "    .dataframe thead th {\n",
       "        text-align: right;\n",
       "    }\n",
       "</style>\n",
       "<table border=\"1\" class=\"dataframe\">\n",
       "  <thead>\n",
       "    <tr style=\"text-align: right;\">\n",
       "      <th></th>\n",
       "      <th>iid</th>\n",
       "      <th>id</th>\n",
       "      <th>gender</th>\n",
       "      <th>idg</th>\n",
       "      <th>condtn</th>\n",
       "      <th>wave</th>\n",
       "      <th>round</th>\n",
       "      <th>position</th>\n",
       "      <th>positin1</th>\n",
       "      <th>order</th>\n",
       "      <th>...</th>\n",
       "      <th>attr3_3</th>\n",
       "      <th>sinc3_3</th>\n",
       "      <th>intel3_3</th>\n",
       "      <th>fun3_3</th>\n",
       "      <th>amb3_3</th>\n",
       "      <th>attr5_3</th>\n",
       "      <th>sinc5_3</th>\n",
       "      <th>intel5_3</th>\n",
       "      <th>fun5_3</th>\n",
       "      <th>amb5_3</th>\n",
       "    </tr>\n",
       "  </thead>\n",
       "  <tbody>\n",
       "    <tr>\n",
       "      <th>count</th>\n",
       "      <td>6837.000000</td>\n",
       "      <td>6837.000000</td>\n",
       "      <td>6837.000000</td>\n",
       "      <td>6837.000000</td>\n",
       "      <td>6837.000000</td>\n",
       "      <td>6837.000000</td>\n",
       "      <td>6837.000000</td>\n",
       "      <td>6837.000000</td>\n",
       "      <td>4991.000000</td>\n",
       "      <td>6837.000000</td>\n",
       "      <td>...</td>\n",
       "      <td>3423.000000</td>\n",
       "      <td>3423.000000</td>\n",
       "      <td>3423.000000</td>\n",
       "      <td>3423.000000</td>\n",
       "      <td>3423.000000</td>\n",
       "      <td>1465.000000</td>\n",
       "      <td>1465.000000</td>\n",
       "      <td>1465.000000</td>\n",
       "      <td>1465.000000</td>\n",
       "      <td>1465.000000</td>\n",
       "    </tr>\n",
       "    <tr>\n",
       "      <th>unique</th>\n",
       "      <td>NaN</td>\n",
       "      <td>NaN</td>\n",
       "      <td>NaN</td>\n",
       "      <td>NaN</td>\n",
       "      <td>NaN</td>\n",
       "      <td>NaN</td>\n",
       "      <td>NaN</td>\n",
       "      <td>NaN</td>\n",
       "      <td>NaN</td>\n",
       "      <td>NaN</td>\n",
       "      <td>...</td>\n",
       "      <td>NaN</td>\n",
       "      <td>NaN</td>\n",
       "      <td>NaN</td>\n",
       "      <td>NaN</td>\n",
       "      <td>NaN</td>\n",
       "      <td>NaN</td>\n",
       "      <td>NaN</td>\n",
       "      <td>NaN</td>\n",
       "      <td>NaN</td>\n",
       "      <td>NaN</td>\n",
       "    </tr>\n",
       "    <tr>\n",
       "      <th>top</th>\n",
       "      <td>NaN</td>\n",
       "      <td>NaN</td>\n",
       "      <td>NaN</td>\n",
       "      <td>NaN</td>\n",
       "      <td>NaN</td>\n",
       "      <td>NaN</td>\n",
       "      <td>NaN</td>\n",
       "      <td>NaN</td>\n",
       "      <td>NaN</td>\n",
       "      <td>NaN</td>\n",
       "      <td>...</td>\n",
       "      <td>NaN</td>\n",
       "      <td>NaN</td>\n",
       "      <td>NaN</td>\n",
       "      <td>NaN</td>\n",
       "      <td>NaN</td>\n",
       "      <td>NaN</td>\n",
       "      <td>NaN</td>\n",
       "      <td>NaN</td>\n",
       "      <td>NaN</td>\n",
       "      <td>NaN</td>\n",
       "    </tr>\n",
       "    <tr>\n",
       "      <th>freq</th>\n",
       "      <td>NaN</td>\n",
       "      <td>NaN</td>\n",
       "      <td>NaN</td>\n",
       "      <td>NaN</td>\n",
       "      <td>NaN</td>\n",
       "      <td>NaN</td>\n",
       "      <td>NaN</td>\n",
       "      <td>NaN</td>\n",
       "      <td>NaN</td>\n",
       "      <td>NaN</td>\n",
       "      <td>...</td>\n",
       "      <td>NaN</td>\n",
       "      <td>NaN</td>\n",
       "      <td>NaN</td>\n",
       "      <td>NaN</td>\n",
       "      <td>NaN</td>\n",
       "      <td>NaN</td>\n",
       "      <td>NaN</td>\n",
       "      <td>NaN</td>\n",
       "      <td>NaN</td>\n",
       "      <td>NaN</td>\n",
       "    </tr>\n",
       "    <tr>\n",
       "      <th>mean</th>\n",
       "      <td>232.077519</td>\n",
       "      <td>8.748866</td>\n",
       "      <td>0.498318</td>\n",
       "      <td>16.900395</td>\n",
       "      <td>1.808249</td>\n",
       "      <td>9.337136</td>\n",
       "      <td>16.458681</td>\n",
       "      <td>8.862513</td>\n",
       "      <td>9.074735</td>\n",
       "      <td>8.718444</td>\n",
       "      <td>...</td>\n",
       "      <td>7.263804</td>\n",
       "      <td>8.113351</td>\n",
       "      <td>8.482033</td>\n",
       "      <td>7.664914</td>\n",
       "      <td>7.430032</td>\n",
       "      <td>6.788396</td>\n",
       "      <td>7.653242</td>\n",
       "      <td>7.955631</td>\n",
       "      <td>7.124915</td>\n",
       "      <td>7.022526</td>\n",
       "    </tr>\n",
       "    <tr>\n",
       "      <th>std</th>\n",
       "      <td>127.215878</td>\n",
       "      <td>5.331983</td>\n",
       "      <td>0.500034</td>\n",
       "      <td>10.610319</td>\n",
       "      <td>0.393707</td>\n",
       "      <td>4.668218</td>\n",
       "      <td>4.141718</td>\n",
       "      <td>5.365227</td>\n",
       "      <td>5.480684</td>\n",
       "      <td>5.314495</td>\n",
       "      <td>...</td>\n",
       "      <td>1.577789</td>\n",
       "      <td>1.588424</td>\n",
       "      <td>1.425599</td>\n",
       "      <td>1.752735</td>\n",
       "      <td>1.988056</td>\n",
       "      <td>1.265452</td>\n",
       "      <td>1.327475</td>\n",
       "      <td>1.345432</td>\n",
       "      <td>1.608579</td>\n",
       "      <td>1.815284</td>\n",
       "    </tr>\n",
       "    <tr>\n",
       "      <th>min</th>\n",
       "      <td>1.000000</td>\n",
       "      <td>1.000000</td>\n",
       "      <td>0.000000</td>\n",
       "      <td>1.000000</td>\n",
       "      <td>1.000000</td>\n",
       "      <td>1.000000</td>\n",
       "      <td>5.000000</td>\n",
       "      <td>1.000000</td>\n",
       "      <td>1.000000</td>\n",
       "      <td>1.000000</td>\n",
       "      <td>...</td>\n",
       "      <td>2.000000</td>\n",
       "      <td>2.000000</td>\n",
       "      <td>4.000000</td>\n",
       "      <td>2.000000</td>\n",
       "      <td>1.000000</td>\n",
       "      <td>2.000000</td>\n",
       "      <td>3.000000</td>\n",
       "      <td>5.000000</td>\n",
       "      <td>1.000000</td>\n",
       "      <td>1.000000</td>\n",
       "    </tr>\n",
       "    <tr>\n",
       "      <th>25%</th>\n",
       "      <td>117.000000</td>\n",
       "      <td>4.000000</td>\n",
       "      <td>0.000000</td>\n",
       "      <td>8.000000</td>\n",
       "      <td>2.000000</td>\n",
       "      <td>5.000000</td>\n",
       "      <td>14.000000</td>\n",
       "      <td>4.000000</td>\n",
       "      <td>4.000000</td>\n",
       "      <td>4.000000</td>\n",
       "      <td>...</td>\n",
       "      <td>7.000000</td>\n",
       "      <td>7.000000</td>\n",
       "      <td>8.000000</td>\n",
       "      <td>7.000000</td>\n",
       "      <td>6.000000</td>\n",
       "      <td>6.000000</td>\n",
       "      <td>7.000000</td>\n",
       "      <td>7.000000</td>\n",
       "      <td>6.000000</td>\n",
       "      <td>6.000000</td>\n",
       "    </tr>\n",
       "    <tr>\n",
       "      <th>50%</th>\n",
       "      <td>235.000000</td>\n",
       "      <td>8.000000</td>\n",
       "      <td>0.000000</td>\n",
       "      <td>16.000000</td>\n",
       "      <td>2.000000</td>\n",
       "      <td>10.000000</td>\n",
       "      <td>18.000000</td>\n",
       "      <td>8.000000</td>\n",
       "      <td>8.000000</td>\n",
       "      <td>8.000000</td>\n",
       "      <td>...</td>\n",
       "      <td>7.000000</td>\n",
       "      <td>8.000000</td>\n",
       "      <td>8.000000</td>\n",
       "      <td>8.000000</td>\n",
       "      <td>8.000000</td>\n",
       "      <td>7.000000</td>\n",
       "      <td>8.000000</td>\n",
       "      <td>8.000000</td>\n",
       "      <td>7.000000</td>\n",
       "      <td>7.000000</td>\n",
       "    </tr>\n",
       "    <tr>\n",
       "      <th>75%</th>\n",
       "      <td>346.000000</td>\n",
       "      <td>13.000000</td>\n",
       "      <td>1.000000</td>\n",
       "      <td>25.000000</td>\n",
       "      <td>2.000000</td>\n",
       "      <td>14.000000</td>\n",
       "      <td>20.000000</td>\n",
       "      <td>13.000000</td>\n",
       "      <td>13.000000</td>\n",
       "      <td>13.000000</td>\n",
       "      <td>...</td>\n",
       "      <td>8.000000</td>\n",
       "      <td>9.000000</td>\n",
       "      <td>9.000000</td>\n",
       "      <td>9.000000</td>\n",
       "      <td>9.000000</td>\n",
       "      <td>8.000000</td>\n",
       "      <td>9.000000</td>\n",
       "      <td>9.000000</td>\n",
       "      <td>8.000000</td>\n",
       "      <td>8.000000</td>\n",
       "    </tr>\n",
       "    <tr>\n",
       "      <th>max</th>\n",
       "      <td>459.000000</td>\n",
       "      <td>21.000000</td>\n",
       "      <td>1.000000</td>\n",
       "      <td>42.000000</td>\n",
       "      <td>2.000000</td>\n",
       "      <td>18.000000</td>\n",
       "      <td>21.000000</td>\n",
       "      <td>21.000000</td>\n",
       "      <td>21.000000</td>\n",
       "      <td>21.000000</td>\n",
       "      <td>...</td>\n",
       "      <td>12.000000</td>\n",
       "      <td>12.000000</td>\n",
       "      <td>12.000000</td>\n",
       "      <td>12.000000</td>\n",
       "      <td>12.000000</td>\n",
       "      <td>9.000000</td>\n",
       "      <td>10.000000</td>\n",
       "      <td>10.000000</td>\n",
       "      <td>10.000000</td>\n",
       "      <td>10.000000</td>\n",
       "    </tr>\n",
       "  </tbody>\n",
       "</table>\n",
       "<p>11 rows × 195 columns</p>\n",
       "</div>"
      ],
      "text/plain": [
       "                iid           id       gender          idg       condtn  \\\n",
       "count   6837.000000  6837.000000  6837.000000  6837.000000  6837.000000   \n",
       "unique          NaN          NaN          NaN          NaN          NaN   \n",
       "top             NaN          NaN          NaN          NaN          NaN   \n",
       "freq            NaN          NaN          NaN          NaN          NaN   \n",
       "mean     232.077519     8.748866     0.498318    16.900395     1.808249   \n",
       "std      127.215878     5.331983     0.500034    10.610319     0.393707   \n",
       "min        1.000000     1.000000     0.000000     1.000000     1.000000   \n",
       "25%      117.000000     4.000000     0.000000     8.000000     2.000000   \n",
       "50%      235.000000     8.000000     0.000000    16.000000     2.000000   \n",
       "75%      346.000000    13.000000     1.000000    25.000000     2.000000   \n",
       "max      459.000000    21.000000     1.000000    42.000000     2.000000   \n",
       "\n",
       "               wave        round     position     positin1        order  ...  \\\n",
       "count   6837.000000  6837.000000  6837.000000  4991.000000  6837.000000  ...   \n",
       "unique          NaN          NaN          NaN          NaN          NaN  ...   \n",
       "top             NaN          NaN          NaN          NaN          NaN  ...   \n",
       "freq            NaN          NaN          NaN          NaN          NaN  ...   \n",
       "mean       9.337136    16.458681     8.862513     9.074735     8.718444  ...   \n",
       "std        4.668218     4.141718     5.365227     5.480684     5.314495  ...   \n",
       "min        1.000000     5.000000     1.000000     1.000000     1.000000  ...   \n",
       "25%        5.000000    14.000000     4.000000     4.000000     4.000000  ...   \n",
       "50%       10.000000    18.000000     8.000000     8.000000     8.000000  ...   \n",
       "75%       14.000000    20.000000    13.000000    13.000000    13.000000  ...   \n",
       "max       18.000000    21.000000    21.000000    21.000000    21.000000  ...   \n",
       "\n",
       "            attr3_3      sinc3_3     intel3_3       fun3_3       amb3_3  \\\n",
       "count   3423.000000  3423.000000  3423.000000  3423.000000  3423.000000   \n",
       "unique          NaN          NaN          NaN          NaN          NaN   \n",
       "top             NaN          NaN          NaN          NaN          NaN   \n",
       "freq            NaN          NaN          NaN          NaN          NaN   \n",
       "mean       7.263804     8.113351     8.482033     7.664914     7.430032   \n",
       "std        1.577789     1.588424     1.425599     1.752735     1.988056   \n",
       "min        2.000000     2.000000     4.000000     2.000000     1.000000   \n",
       "25%        7.000000     7.000000     8.000000     7.000000     6.000000   \n",
       "50%        7.000000     8.000000     8.000000     8.000000     8.000000   \n",
       "75%        8.000000     9.000000     9.000000     9.000000     9.000000   \n",
       "max       12.000000    12.000000    12.000000    12.000000    12.000000   \n",
       "\n",
       "            attr5_3      sinc5_3     intel5_3       fun5_3       amb5_3  \n",
       "count   1465.000000  1465.000000  1465.000000  1465.000000  1465.000000  \n",
       "unique          NaN          NaN          NaN          NaN          NaN  \n",
       "top             NaN          NaN          NaN          NaN          NaN  \n",
       "freq            NaN          NaN          NaN          NaN          NaN  \n",
       "mean       6.788396     7.653242     7.955631     7.124915     7.022526  \n",
       "std        1.265452     1.327475     1.345432     1.608579     1.815284  \n",
       "min        2.000000     3.000000     5.000000     1.000000     1.000000  \n",
       "25%        6.000000     7.000000     7.000000     6.000000     6.000000  \n",
       "50%        7.000000     8.000000     8.000000     7.000000     7.000000  \n",
       "75%        8.000000     9.000000     9.000000     8.000000     8.000000  \n",
       "max        9.000000    10.000000    10.000000    10.000000    10.000000  \n",
       "\n",
       "[11 rows x 195 columns]"
      ]
     },
     "execution_count": 5,
     "metadata": {},
     "output_type": "execute_result"
    }
   ],
   "source": [
    "df.describe(include='all')"
   ]
  },
  {
   "cell_type": "markdown",
   "metadata": {},
   "source": [
    "**Missing values**"
   ]
  },
  {
   "cell_type": "code",
   "execution_count": 6,
   "metadata": {},
   "outputs": [
    {
     "data": {
      "text/plain": [
       "num_in_3    0.924967\n",
       "sinc7_2     0.914875\n",
       "amb7_2      0.914875\n",
       "shar7_2     0.912096\n",
       "attr7_2     0.910633\n",
       "              ...   \n",
       "wave        0.000000\n",
       "condtn      0.000000\n",
       "idg         0.000000\n",
       "gender      0.000000\n",
       "iid         0.000000\n",
       "Length: 195, dtype: float64"
      ]
     },
     "execution_count": 6,
     "metadata": {},
     "output_type": "execute_result"
    }
   ],
   "source": [
    "(df.isna().sum()/df.shape[0]).sort_values(ascending=False)"
   ]
  },
  {
   "cell_type": "code",
   "execution_count": 7,
   "metadata": {},
   "outputs": [
    {
     "data": {
      "text/plain": [
       "<AxesSubplot:>"
      ]
     },
     "execution_count": 7,
     "metadata": {},
     "output_type": "execute_result"
    },
    {
     "data": {
      "image/png": "[encoded data removed]",
      "text/plain": [
       "<Figure size 720x720 with 1 Axes>"
      ]
     },
     "metadata": {
      "needs_background": "light"
     },
     "output_type": "display_data"
    }
   ],
   "source": [
    "plt.figure(figsize=(10, 10))\n",
    "sns.heatmap(df.isna(), cbar=False)"
   ]
  },
  {
   "cell_type": "markdown",
   "metadata": {},
   "source": [
    "**Matches**"
   ]
  },
  {
   "cell_type": "code",
   "execution_count": 8,
   "metadata": {},
   "outputs": [
    {
     "data": {
      "text/plain": [
       "8.40280824923212"
      ]
     },
     "execution_count": 8,
     "metadata": {},
     "output_type": "execute_result"
    }
   ],
   "source": [
    "# percentage of matches\n",
    "df['match'].sum()/2/df.shape[0]*100"
   ]
  },
  {
   "cell_type": "code",
   "execution_count": 9,
   "metadata": {},
   "outputs": [],
   "source": [
    "df['gender_category'] = df['gender'].apply(lambda x: 'female' if x==0 else 'male')"
   ]
  },
  {
   "cell_type": "code",
   "execution_count": 10,
   "metadata": {},
   "outputs": [
    {
     "data": {
      "text/plain": [
       "[Text(0.5, 1.0, 'total count of positive and negative anwser')]"
      ]
     },
     "execution_count": 10,
     "metadata": {},
     "output_type": "execute_result"
    },
    {
     "data": {
      "image/png": "[encoded data removed]",
      "text/plain": [
       "<Figure size 432x288 with 1 Axes>"
      ]
     },
     "metadata": {
      "needs_background": "light"
     },
     "output_type": "display_data"
    }
   ],
   "source": [
    "sns.countplot(x=\"gender_category\", hue='dec', data=df).set(title='total count of positive and negative anwser')"
   ]
  },
  {
   "cell_type": "code",
   "execution_count": 53,
   "metadata": {},
   "outputs": [
    {
     "data": {
      "text/plain": [
       "25.610647945005123"
      ]
     },
     "execution_count": 53,
     "metadata": {},
     "output_type": "execute_result"
    }
   ],
   "source": [
    "no_love_count = len(df[(df['dec_o']==0) & (df['dec']==1)])\n",
    "perc_broken_heart = no_love_count / len(df.index)\n",
    "perc_broken_heart*100"
   ]
  },
  {
   "cell_type": "markdown",
   "metadata": {},
   "source": [
    "About 8% of the date resulted in a match. 25% of the participants had they heart broken. \n",
    "\n",
    "Female are more likely to not propose a second date. For male it's 50/50."
   ]
  },
  {
   "cell_type": "markdown",
   "metadata": {},
   "source": [
    "**Infos about the participants**"
   ]
  },
  {
   "cell_type": "code",
   "execution_count": 11,
   "metadata": {},
   "outputs": [
    {
     "name": "stdout",
     "output_type": "stream",
     "text": [
      "there are 458 participants in total\n"
     ]
    }
   ],
   "source": [
    "print('there are', df['iid'].nunique(), 'participants in total')"
   ]
  },
  {
   "cell_type": "code",
   "execution_count": 12,
   "metadata": {},
   "outputs": [],
   "source": [
    "df_unique_id = df.drop_duplicates(subset = ['iid'])"
   ]
  },
  {
   "cell_type": "code",
   "execution_count": 13,
   "metadata": {},
   "outputs": [
    {
     "name": "stderr",
     "output_type": "stream",
     "text": [
      "C:\\Users\\Baptiste Cournault\\AppData\\Local\\Temp\\ipykernel_18464\\4004362734.py:1: SettingWithCopyWarning: \n",
      "A value is trying to be set on a copy of a slice from a DataFrame.\n",
      "Try using .loc[row_indexer,col_indexer] = value instead\n",
      "\n",
      "See the caveats in the documentation: https://pandas.pydata.org/pandas-docs/stable/user_guide/indexing.html#returning-a-view-versus-a-copy\n",
      "  df_unique_id['gender_category'] = df_unique_id['gender'].apply(lambda x: 'female' if x==0 else 'male')\n"
     ]
    }
   ],
   "source": [
    "df_unique_id['gender_category'] = df_unique_id['gender'].apply(lambda x: 'female' if x==0 else 'male')"
   ]
  },
  {
   "cell_type": "code",
   "execution_count": 14,
   "metadata": {},
   "outputs": [
    {
     "data": {
      "application/vnd.plotly.v1+json": {
       "config": {
        "plotlyServerURL": "https://plot.ly"
       },
       "data": [
        {
         "alignmentgroup": "True",
         "bingroup": "x",
         "hovertemplate": "gender_category=%{x}<br>count=%{y}<extra></extra>",
         "legendgroup": "",
         "marker": {
          "color": "#636efa",
          "pattern": {
           "shape": ""
          }
         },
         "name": "",
         "offsetgroup": "",
         "orientation": "v",
         "showlegend": false,
         "type": "histogram",
         "x": [
          "female",
          "female",
          "female",
          "female",
          "female",
          "female",
          "female",
          "female",
          "female",
          "female",
          "male",
          "male",
          "male",
          "male",
          "male",
          "male",
          "male",
          "male",
          "male",
          "male",
          "female",
          "female",
          "female",
          "female",
          "female",
          "female",
          "female",
          "female",
          "female",
          "female",
          "female",
          "female",
          "female",
          "female",
          "female",
          "female",
          "female",
          "female",
          "female",
          "male",
          "male",
          "male",
          "male",
          "male",
          "male",
          "male",
          "male",
          "male",
          "male",
          "male",
          "male",
          "male",
          "male",
          "male",
          "male",
          "female",
          "female",
          "female",
          "female",
          "female",
          "female",
          "female",
          "female",
          "female",
          "female",
          "male",
          "male",
          "male",
          "male",
          "male",
          "male",
          "male",
          "male",
          "male",
          "male",
          "female",
          "female",
          "female",
          "female",
          "female",
          "female",
          "female",
          "female",
          "female",
          "female",
          "female",
          "female",
          "female",
          "female",
          "female",
          "female",
          "female",
          "female",
          "male",
          "male",
          "male",
          "male",
          "male",
          "male",
          "male",
          "male",
          "male",
          "male",
          "male",
          "male",
          "male",
          "male",
          "male",
          "male",
          "male",
          "male",
          "female",
          "female",
          "female",
          "female",
          "female",
          "female",
          "female",
          "female",
          "female",
          "male",
          "male",
          "male",
          "male",
          "male",
          "male",
          "male",
          "male",
          "male",
          "male",
          "female",
          "female",
          "female",
          "female",
          "female",
          "male",
          "male",
          "male",
          "male",
          "male",
          "female",
          "female",
          "female",
          "female",
          "female",
          "female",
          "female",
          "female",
          "female",
          "female",
          "female",
          "female",
          "female",
          "female",
          "female",
          "female",
          "male",
          "male",
          "male",
          "male",
          "male",
          "male",
          "male",
          "male",
          "male",
          "male",
          "male",
          "male",
          "male",
          "male",
          "male",
          "male",
          "female",
          "female",
          "female",
          "female",
          "female",
          "female",
          "female",
          "female",
          "female",
          "female",
          "male",
          "male",
          "male",
          "male",
          "male",
          "male",
          "male",
          "male",
          "male",
          "male",
          "female",
          "female",
          "female",
          "female",
          "female",
          "female",
          "female",
          "female",
          "female",
          "female",
          "female",
          "female",
          "female",
          "female",
          "female",
          "female",
          "female",
          "female",
          "female",
          "female",
          "male",
          "male",
          "male",
          "male",
          "male",
          "male",
          "male",
          "male",
          "male",
          "male",
          "male",
          "male",
          "male",
          "male",
          "male",
          "male",
          "male",
          "male",
          "male",
          "male",
          "female",
          "female",
          "female",
          "female",
          "female",
          "female",
          "female",
          "female",
          "female",
          "male",
          "male",
          "male",
          "male",
          "male",
          "male",
          "male",
          "male",
          "male",
          "female",
          "female",
          "female",
          "female",
          "female",
          "female",
          "female",
          "female",
          "female",
          "female",
          "female",
          "female",
          "female",
          "female",
          "female",
          "female",
          "female",
          "female",
          "female",
          "female",
          "female",
          "male",
          "male",
          "male",
          "male",
          "male",
          "male",
          "male",
          "male",
          "male",
          "male",
          "male",
          "male",
          "male",
          "male",
          "male",
          "male",
          "male",
          "male",
          "male",
          "male",
          "male",
          "female",
          "female",
          "female",
          "female",
          "female",
          "female",
          "female",
          "female",
          "female",
          "female",
          "female",
          "female",
          "female",
          "female",
          "male",
          "male",
          "male",
          "male",
          "male",
          "male",
          "male",
          "male",
          "male",
          "male",
          "male",
          "male",
          "male",
          "male",
          "female",
          "female",
          "female",
          "female",
          "female",
          "female",
          "female",
          "female",
          "female",
          "female",
          "male",
          "male",
          "male",
          "male",
          "male",
          "male",
          "male",
          "male",
          "male",
          "female",
          "female",
          "female",
          "female",
          "female",
          "female",
          "female",
          "female",
          "female",
          "female",
          "female",
          "female",
          "female",
          "female",
          "female",
          "female",
          "female",
          "female",
          "female",
          "female",
          "male",
          "male",
          "male",
          "male",
          "male",
          "male",
          "male",
          "male",
          "male",
          "male",
          "male",
          "male",
          "male",
          "male",
          "male",
          "male",
          "male",
          "male",
          "female",
          "female",
          "female",
          "female",
          "female",
          "female",
          "female",
          "female",
          "female",
          "female",
          "female",
          "female",
          "female",
          "female",
          "female",
          "female",
          "female",
          "female",
          "male",
          "male",
          "male",
          "male",
          "male",
          "male",
          "male",
          "male",
          "male",
          "male",
          "male",
          "male",
          "male",
          "male",
          "male",
          "male",
          "male",
          "male",
          "male",
          "female",
          "female",
          "female",
          "female",
          "female",
          "female",
          "male",
          "male",
          "male",
          "male",
          "male",
          "male",
          "male",
          "male",
          "female",
          "female",
          "female",
          "female",
          "female",
          "female",
          "female",
          "female",
          "female",
          "female",
          "male",
          "male",
          "male",
          "male",
          "male",
          "male",
          "male",
          "male",
          "male",
          "male",
          "male",
          "male",
          "male",
          "male",
          "female",
          "female",
          "female",
          "female",
          "female",
          "female"
         ],
         "xaxis": "x",
         "yaxis": "y"
        }
       ],
       "layout": {
        "barmode": "relative",
        "height": 400,
        "legend": {
         "tracegroupgap": 0
        },
        "template": {
         "data": {
          "bar": [
           {
            "error_x": {
             "color": "#2a3f5f"
            },
            "error_y": {
             "color": "#2a3f5f"
            },
            "marker": {
             "line": {
              "color": "#E5ECF6",
              "width": 0.5
             },
             "pattern": {
              "fillmode": "overlay",
              "size": 10,
              "solidity": 0.2
             }
            },
            "type": "bar"
           }
          ],
          "barpolar": [
           {
            "marker": {
             "line": {
              "color": "#E5ECF6",
              "width": 0.5
             },
             "pattern": {
              "fillmode": "overlay",
              "size": 10,
              "solidity": 0.2
             }
            },
            "type": "barpolar"
           }
          ],
          "carpet": [
           {
            "aaxis": {
             "endlinecolor": "#2a3f5f",
             "gridcolor": "white",
             "linecolor": "white",
             "minorgridcolor": "white",
             "startlinecolor": "#2a3f5f"
            },
            "baxis": {
             "endlinecolor": "#2a3f5f",
             "gridcolor": "white",
             "linecolor": "white",
             "minorgridcolor": "white",
             "startlinecolor": "#2a3f5f"
            },
            "type": "carpet"
           }
          ],
          "choropleth": [
           {
            "colorbar": {
             "outlinewidth": 0,
             "ticks": ""
            },
            "type": "choropleth"
           }
          ],
          "contour": [
           {
            "colorbar": {
             "outlinewidth": 0,
             "ticks": ""
            },
            "colorscale": [
             [
              0,
              "#0d0887"
             ],
             [
              0.1111111111111111,
              "#46039f"
             ],
             [
              0.2222222222222222,
              "#7201a8"
             ],
             [
              0.3333333333333333,
              "#9c179e"
             ],
             [
              0.4444444444444444,
              "#bd3786"
             ],
             [
              0.5555555555555556,
              "#d8576b"
             ],
             [
              0.6666666666666666,
              "#ed7953"
             ],
             [
              0.7777777777777778,
              "#fb9f3a"
             ],
             [
              0.8888888888888888,
              "#fdca26"
             ],
             [
              1,
              "#f0f921"
             ]
            ],
            "type": "contour"
           }
          ],
          "contourcarpet": [
           {
            "colorbar": {
             "outlinewidth": 0,
             "ticks": ""
            },
            "type": "contourcarpet"
           }
          ],
          "heatmap": [
           {
            "colorbar": {
             "outlinewidth": 0,
             "ticks": ""
            },
            "colorscale": [
             [
              0,
              "#0d0887"
             ],
             [
              0.1111111111111111,
              "#46039f"
             ],
             [
              0.2222222222222222,
              "#7201a8"
             ],
             [
              0.3333333333333333,
              "#9c179e"
             ],
             [
              0.4444444444444444,
              "#bd3786"
             ],
             [
              0.5555555555555556,
              "#d8576b"
             ],
             [
              0.6666666666666666,
              "#ed7953"
             ],
             [
              0.7777777777777778,
              "#fb9f3a"
             ],
             [
              0.8888888888888888,
              "#fdca26"
             ],
             [
              1,
              "#f0f921"
             ]
            ],
            "type": "heatmap"
           }
          ],
          "heatmapgl": [
           {
            "colorbar": {
             "outlinewidth": 0,
             "ticks": ""
            },
            "colorscale": [
             [
              0,
              "#0d0887"
             ],
             [
              0.1111111111111111,
              "#46039f"
             ],
             [
              0.2222222222222222,
              "#7201a8"
             ],
             [
              0.3333333333333333,
              "#9c179e"
             ],
             [
              0.4444444444444444,
              "#bd3786"
             ],
             [
              0.5555555555555556,
              "#d8576b"
             ],
             [
              0.6666666666666666,
              "#ed7953"
             ],
             [
              0.7777777777777778,
              "#fb9f3a"
             ],
             [
              0.8888888888888888,
              "#fdca26"
             ],
             [
              1,
              "#f0f921"
             ]
            ],
            "type": "heatmapgl"
           }
          ],
          "histogram": [
           {
            "marker": {
             "pattern": {
              "fillmode": "overlay",
              "size": 10,
              "solidity": 0.2
             }
            },
            "type": "histogram"
           }
          ],
          "histogram2d": [
           {
            "colorbar": {
             "outlinewidth": 0,
             "ticks": ""
            },
            "colorscale": [
             [
              0,
              "#0d0887"
             ],
             [
              0.1111111111111111,
              "#46039f"
             ],
             [
              0.2222222222222222,
              "#7201a8"
             ],
             [
              0.3333333333333333,
              "#9c179e"
             ],
             [
              0.4444444444444444,
              "#bd3786"
             ],
             [
              0.5555555555555556,
              "#d8576b"
             ],
             [
              0.6666666666666666,
              "#ed7953"
             ],
             [
              0.7777777777777778,
              "#fb9f3a"
             ],
             [
              0.8888888888888888,
              "#fdca26"
             ],
             [
              1,
              "#f0f921"
             ]
            ],
            "type": "histogram2d"
           }
          ],
          "histogram2dcontour": [
           {
            "colorbar": {
             "outlinewidth": 0,
             "ticks": ""
            },
            "colorscale": [
             [
              0,
              "#0d0887"
             ],
             [
              0.1111111111111111,
              "#46039f"
             ],
             [
              0.2222222222222222,
              "#7201a8"
             ],
             [
              0.3333333333333333,
              "#9c179e"
             ],
             [
              0.4444444444444444,
              "#bd3786"
             ],
             [
              0.5555555555555556,
              "#d8576b"
             ],
             [
              0.6666666666666666,
              "#ed7953"
             ],
             [
              0.7777777777777778,
              "#fb9f3a"
             ],
             [
              0.8888888888888888,
              "#fdca26"
             ],
             [
              1,
              "#f0f921"
             ]
            ],
            "type": "histogram2dcontour"
           }
          ],
          "mesh3d": [
           {
            "colorbar": {
             "outlinewidth": 0,
             "ticks": ""
            },
            "type": "mesh3d"
           }
          ],
          "parcoords": [
           {
            "line": {
             "colorbar": {
              "outlinewidth": 0,
              "ticks": ""
             }
            },
            "type": "parcoords"
           }
          ],
          "pie": [
           {
            "automargin": true,
            "type": "pie"
           }
          ],
          "scatter": [
           {
            "marker": {
             "colorbar": {
              "outlinewidth": 0,
              "ticks": ""
             }
            },
            "type": "scatter"
           }
          ],
          "scatter3d": [
           {
            "line": {
             "colorbar": {
              "outlinewidth": 0,
              "ticks": ""
             }
            },
            "marker": {
             "colorbar": {
              "outlinewidth": 0,
              "ticks": ""
             }
            },
            "type": "scatter3d"
           }
          ],
          "scattercarpet": [
           {
            "marker": {
             "colorbar": {
              "outlinewidth": 0,
              "ticks": ""
             }
            },
            "type": "scattercarpet"
           }
          ],
          "scattergeo": [
           {
            "marker": {
             "colorbar": {
              "outlinewidth": 0,
              "ticks": ""
             }
            },
            "type": "scattergeo"
           }
          ],
          "scattergl": [
           {
            "marker": {
             "colorbar": {
              "outlinewidth": 0,
              "ticks": ""
             }
            },
            "type": "scattergl"
           }
          ],
          "scattermapbox": [
           {
            "marker": {
             "colorbar": {
              "outlinewidth": 0,
              "ticks": ""
             }
            },
            "type": "scattermapbox"
           }
          ],
          "scatterpolar": [
           {
            "marker": {
             "colorbar": {
              "outlinewidth": 0,
              "ticks": ""
             }
            },
            "type": "scatterpolar"
           }
          ],
          "scatterpolargl": [
           {
            "marker": {
             "colorbar": {
              "outlinewidth": 0,
              "ticks": ""
             }
            },
            "type": "scatterpolargl"
           }
          ],
          "scatterternary": [
           {
            "marker": {
             "colorbar": {
              "outlinewidth": 0,
              "ticks": ""
             }
            },
            "type": "scatterternary"
           }
          ],
          "surface": [
           {
            "colorbar": {
             "outlinewidth": 0,
             "ticks": ""
            },
            "colorscale": [
             [
              0,
              "#0d0887"
             ],
             [
              0.1111111111111111,
              "#46039f"
             ],
             [
              0.2222222222222222,
              "#7201a8"
             ],
             [
              0.3333333333333333,
              "#9c179e"
             ],
             [
              0.4444444444444444,
              "#bd3786"
             ],
             [
              0.5555555555555556,
              "#d8576b"
             ],
             [
              0.6666666666666666,
              "#ed7953"
             ],
             [
              0.7777777777777778,
              "#fb9f3a"
             ],
             [
              0.8888888888888888,
              "#fdca26"
             ],
             [
              1,
              "#f0f921"
             ]
            ],
            "type": "surface"
           }
          ],
          "table": [
           {
            "cells": {
             "fill": {
              "color": "#EBF0F8"
             },
             "line": {
              "color": "white"
             }
            },
            "header": {
             "fill": {
              "color": "#C8D4E3"
             },
             "line": {
              "color": "white"
             }
            },
            "type": "table"
           }
          ]
         },
         "layout": {
          "annotationdefaults": {
           "arrowcolor": "#2a3f5f",
           "arrowhead": 0,
           "arrowwidth": 1
          },
          "autotypenumbers": "strict",
          "coloraxis": {
           "colorbar": {
            "outlinewidth": 0,
            "ticks": ""
           }
          },
          "colorscale": {
           "diverging": [
            [
             0,
             "#8e0152"
            ],
            [
             0.1,
             "#c51b7d"
            ],
            [
             0.2,
             "#de77ae"
            ],
            [
             0.3,
             "#f1b6da"
            ],
            [
             0.4,
             "#fde0ef"
            ],
            [
             0.5,
             "#f7f7f7"
            ],
            [
             0.6,
             "#e6f5d0"
            ],
            [
             0.7,
             "#b8e186"
            ],
            [
             0.8,
             "#7fbc41"
            ],
            [
             0.9,
             "#4d9221"
            ],
            [
             1,
             "#276419"
            ]
           ],
           "sequential": [
            [
             0,
             "#0d0887"
            ],
            [
             0.1111111111111111,
             "#46039f"
            ],
            [
             0.2222222222222222,
             "#7201a8"
            ],
            [
             0.3333333333333333,
             "#9c179e"
            ],
            [
             0.4444444444444444,
             "#bd3786"
            ],
            [
             0.5555555555555556,
             "#d8576b"
            ],
            [
             0.6666666666666666,
             "#ed7953"
            ],
            [
             0.7777777777777778,
             "#fb9f3a"
            ],
            [
             0.8888888888888888,
             "#fdca26"
            ],
            [
             1,
             "#f0f921"
            ]
           ],
           "sequentialminus": [
            [
             0,
             "#0d0887"
            ],
            [
             0.1111111111111111,
             "#46039f"
            ],
            [
             0.2222222222222222,
             "#7201a8"
            ],
            [
             0.3333333333333333,
             "#9c179e"
            ],
            [
             0.4444444444444444,
             "#bd3786"
            ],
            [
             0.5555555555555556,
             "#d8576b"
            ],
            [
             0.6666666666666666,
             "#ed7953"
            ],
            [
             0.7777777777777778,
             "#fb9f3a"
            ],
            [
             0.8888888888888888,
             "#fdca26"
            ],
            [
             1,
             "#f0f921"
            ]
           ]
          },
          "colorway": [
           "#636efa",
           "#EF553B",
           "#00cc96",
           "#ab63fa",
           "#FFA15A",
           "#19d3f3",
           "#FF6692",
           "#B6E880",
           "#FF97FF",
           "#FECB52"
          ],
          "font": {
           "color": "#2a3f5f"
          },
          "geo": {
           "bgcolor": "white",
           "lakecolor": "white",
           "landcolor": "#E5ECF6",
           "showlakes": true,
           "showland": true,
           "subunitcolor": "white"
          },
          "hoverlabel": {
           "align": "left"
          },
          "hovermode": "closest",
          "mapbox": {
           "style": "light"
          },
          "paper_bgcolor": "white",
          "plot_bgcolor": "#E5ECF6",
          "polar": {
           "angularaxis": {
            "gridcolor": "white",
            "linecolor": "white",
            "ticks": ""
           },
           "bgcolor": "#E5ECF6",
           "radialaxis": {
            "gridcolor": "white",
            "linecolor": "white",
            "ticks": ""
           }
          },
          "scene": {
           "xaxis": {
            "backgroundcolor": "#E5ECF6",
            "gridcolor": "white",
            "gridwidth": 2,
            "linecolor": "white",
            "showbackground": true,
            "ticks": "",
            "zerolinecolor": "white"
           },
           "yaxis": {
            "backgroundcolor": "#E5ECF6",
            "gridcolor": "white",
            "gridwidth": 2,
            "linecolor": "white",
            "showbackground": true,
            "ticks": "",
            "zerolinecolor": "white"
           },
           "zaxis": {
            "backgroundcolor": "#E5ECF6",
            "gridcolor": "white",
            "gridwidth": 2,
            "linecolor": "white",
            "showbackground": true,
            "ticks": "",
            "zerolinecolor": "white"
           }
          },
          "shapedefaults": {
           "line": {
            "color": "#2a3f5f"
           }
          },
          "ternary": {
           "aaxis": {
            "gridcolor": "white",
            "linecolor": "white",
            "ticks": ""
           },
           "baxis": {
            "gridcolor": "white",
            "linecolor": "white",
            "ticks": ""
           },
           "bgcolor": "#E5ECF6",
           "caxis": {
            "gridcolor": "white",
            "linecolor": "white",
            "ticks": ""
           }
          },
          "title": {
           "x": 0.05
          },
          "xaxis": {
           "automargin": true,
           "gridcolor": "white",
           "linecolor": "white",
           "ticks": "",
           "title": {
            "standoff": 15
           },
           "zerolinecolor": "white",
           "zerolinewidth": 2
          },
          "yaxis": {
           "automargin": true,
           "gridcolor": "white",
           "linecolor": "white",
           "ticks": "",
           "title": {
            "standoff": 15
           },
           "zerolinecolor": "white",
           "zerolinewidth": 2
          }
         }
        },
        "title": {
         "text": "Gender repartition"
        },
        "width": 600,
        "xaxis": {
         "anchor": "y",
         "domain": [
          0,
          1
         ],
         "title": {
          "text": "gender_category"
         }
        },
        "yaxis": {
         "anchor": "x",
         "domain": [
          0,
          1
         ],
         "title": {
          "text": "count"
         }
        }
       }
      }
     },
     "metadata": {},
     "output_type": "display_data"
    }
   ],
   "source": [
    "fig1 = px.histogram(df_unique_id, x='gender_category', title = 'Gender repartition', height=400, width=600)\n",
    "fig1.show()"
   ]
  },
  {
   "cell_type": "code",
   "execution_count": 15,
   "metadata": {},
   "outputs": [
    {
     "data": {
      "application/vnd.plotly.v1+json": {
       "config": {
        "plotlyServerURL": "https://plot.ly"
       },
       "data": [
        {
         "alignmentgroup": "True",
         "bingroup": "x",
         "hovertemplate": "age=%{x}<br>count=%{y}<extra></extra>",
         "legendgroup": "",
         "marker": {
          "color": "#636efa",
          "pattern": {
           "shape": ""
          }
         },
         "name": "",
         "offsetgroup": "",
         "orientation": "v",
         "showlegend": false,
         "type": "histogram",
         "x": [
          21,
          24,
          25,
          23,
          21,
          23,
          22,
          25,
          26,
          26,
          27,
          22,
          22,
          23,
          24,
          25,
          30,
          27,
          28,
          24,
          21,
          27,
          21,
          27,
          25,
          23,
          22,
          26,
          22,
          23,
          24,
          27,
          30,
          21,
          25,
          26,
          27,
          23,
          24,
          25,
          30,
          23,
          24,
          24,
          28,
          26,
          30,
          22,
          25,
          27,
          23,
          21,
          28,
          28,
          23,
          23,
          22,
          null,
          null,
          29,
          28,
          26,
          24,
          27,
          23,
          29,
          22,
          27,
          28,
          26,
          21,
          22,
          22,
          25,
          24,
          34,
          22,
          23,
          26,
          27,
          28,
          25,
          35,
          32,
          30,
          22,
          23,
          23,
          27,
          23,
          25,
          29,
          29,
          28,
          26,
          26,
          29,
          39,
          28,
          30,
          22,
          32,
          26,
          27,
          25,
          22,
          21,
          24,
          25,
          28,
          27,
          20,
          21,
          20,
          21,
          21,
          21,
          19,
          20,
          21,
          22,
          18,
          22,
          21,
          22,
          22,
          21,
          null,
          20,
          19,
          27,
          24,
          23,
          26,
          null,
          26,
          32,
          37,
          29,
          28,
          24,
          33,
          23,
          24,
          36,
          26,
          27,
          28,
          31,
          28,
          27,
          28,
          27,
          27,
          30,
          28,
          23,
          28,
          29,
          22,
          27,
          26,
          27,
          30,
          26,
          23,
          23,
          28,
          28,
          29,
          27,
          22,
          29,
          23,
          28,
          22,
          35,
          30,
          24,
          22,
          22,
          24,
          34,
          25,
          24,
          26,
          21,
          27,
          25,
          28,
          24,
          25,
          24,
          27,
          25,
          24,
          23,
          30,
          25,
          25,
          22,
          22,
          26,
          23,
          31,
          23,
          25,
          28,
          29,
          28,
          27,
          25,
          23,
          26,
          27,
          26,
          24,
          26,
          25,
          27,
          27,
          28,
          32,
          28,
          23,
          26,
          24,
          28,
          42,
          30,
          31,
          29,
          22,
          23,
          24,
          34,
          27,
          34,
          26,
          29,
          26,
          27,
          28,
          32,
          25,
          25,
          27,
          33,
          25,
          33,
          28,
          33,
          22,
          26,
          24,
          24,
          25,
          25,
          27,
          26,
          29,
          26,
          26,
          32,
          28,
          26,
          24,
          24,
          23,
          23,
          25,
          29,
          24,
          21,
          26,
          25,
          32,
          25,
          25,
          27,
          23,
          27,
          27,
          24,
          22,
          22,
          27,
          28,
          34,
          27,
          28,
          28,
          30,
          30,
          28,
          21,
          22,
          24,
          35,
          34,
          21,
          33,
          28,
          29,
          22,
          27,
          27,
          32,
          25,
          29,
          23,
          27,
          32,
          27,
          25,
          30,
          29,
          26,
          36,
          29,
          34,
          25,
          23,
          30,
          36,
          29,
          30,
          29,
          22,
          34,
          30,
          23,
          29,
          24,
          25,
          28,
          27,
          null,
          null,
          23,
          33,
          32,
          26,
          24,
          null,
          26,
          21,
          33,
          31,
          35,
          29,
          25,
          22,
          24,
          27,
          27,
          26,
          26,
          24,
          34,
          30,
          23,
          27,
          30,
          27,
          27,
          24,
          25,
          28,
          27,
          27,
          29,
          30,
          27,
          25,
          26,
          29,
          38,
          33,
          24,
          28,
          27,
          23,
          25,
          26,
          25,
          24,
          21,
          30,
          28,
          26,
          22,
          24,
          33,
          25,
          24,
          29,
          29,
          26,
          31,
          29,
          22,
          23,
          30,
          27,
          24,
          24,
          23,
          27,
          34,
          27,
          26,
          29,
          31,
          25,
          29,
          25,
          28,
          22,
          25,
          26,
          30,
          24,
          28,
          24,
          28,
          27,
          27,
          22,
          27,
          28,
          30,
          27,
          22,
          23,
          23,
          23,
          29,
          21,
          24,
          25,
          27,
          26,
          30,
          28,
          26,
          22,
          23,
          25,
          30,
          29,
          27,
          27,
          24,
          29,
          55,
          29,
          26
         ],
         "xaxis": "x",
         "yaxis": "y"
        }
       ],
       "layout": {
        "barmode": "relative",
        "height": 400,
        "legend": {
         "tracegroupgap": 0
        },
        "template": {
         "data": {
          "bar": [
           {
            "error_x": {
             "color": "#2a3f5f"
            },
            "error_y": {
             "color": "#2a3f5f"
            },
            "marker": {
             "line": {
              "color": "#E5ECF6",
              "width": 0.5
             },
             "pattern": {
              "fillmode": "overlay",
              "size": 10,
              "solidity": 0.2
             }
            },
            "type": "bar"
           }
          ],
          "barpolar": [
           {
            "marker": {
             "line": {
              "color": "#E5ECF6",
              "width": 0.5
             },
             "pattern": {
              "fillmode": "overlay",
              "size": 10,
              "solidity": 0.2
             }
            },
            "type": "barpolar"
           }
          ],
          "carpet": [
           {
            "aaxis": {
             "endlinecolor": "#2a3f5f",
             "gridcolor": "white",
             "linecolor": "white",
             "minorgridcolor": "white",
             "startlinecolor": "#2a3f5f"
            },
            "baxis": {
             "endlinecolor": "#2a3f5f",
             "gridcolor": "white",
             "linecolor": "white",
             "minorgridcolor": "white",
             "startlinecolor": "#2a3f5f"
            },
            "type": "carpet"
           }
          ],
          "choropleth": [
           {
            "colorbar": {
             "outlinewidth": 0,
             "ticks": ""
            },
            "type": "choropleth"
           }
          ],
          "contour": [
           {
            "colorbar": {
             "outlinewidth": 0,
             "ticks": ""
            },
            "colorscale": [
             [
              0,
              "#0d0887"
             ],
             [
              0.1111111111111111,
              "#46039f"
             ],
             [
              0.2222222222222222,
              "#7201a8"
             ],
             [
              0.3333333333333333,
              "#9c179e"
             ],
             [
              0.4444444444444444,
              "#bd3786"
             ],
             [
              0.5555555555555556,
              "#d8576b"
             ],
             [
              0.6666666666666666,
              "#ed7953"
             ],
             [
              0.7777777777777778,
              "#fb9f3a"
             ],
             [
              0.8888888888888888,
              "#fdca26"
             ],
             [
              1,
              "#f0f921"
             ]
            ],
            "type": "contour"
           }
          ],
          "contourcarpet": [
           {
            "colorbar": {
             "outlinewidth": 0,
             "ticks": ""
            },
            "type": "contourcarpet"
           }
          ],
          "heatmap": [
           {
            "colorbar": {
             "outlinewidth": 0,
             "ticks": ""
            },
            "colorscale": [
             [
              0,
              "#0d0887"
             ],
             [
              0.1111111111111111,
              "#46039f"
             ],
             [
              0.2222222222222222,
              "#7201a8"
             ],
             [
              0.3333333333333333,
              "#9c179e"
             ],
             [
              0.4444444444444444,
              "#bd3786"
             ],
             [
              0.5555555555555556,
              "#d8576b"
             ],
             [
              0.6666666666666666,
              "#ed7953"
             ],
             [
              0.7777777777777778,
              "#fb9f3a"
             ],
             [
              0.8888888888888888,
              "#fdca26"
             ],
             [
              1,
              "#f0f921"
             ]
            ],
            "type": "heatmap"
           }
          ],
          "heatmapgl": [
           {
            "colorbar": {
             "outlinewidth": 0,
             "ticks": ""
            },
            "colorscale": [
             [
              0,
              "#0d0887"
             ],
             [
              0.1111111111111111,
              "#46039f"
             ],
             [
              0.2222222222222222,
              "#7201a8"
             ],
             [
              0.3333333333333333,
              "#9c179e"
             ],
             [
              0.4444444444444444,
              "#bd3786"
             ],
             [
              0.5555555555555556,
              "#d8576b"
             ],
             [
              0.6666666666666666,
              "#ed7953"
             ],
             [
              0.7777777777777778,
              "#fb9f3a"
             ],
             [
              0.8888888888888888,
              "#fdca26"
             ],
             [
              1,
              "#f0f921"
             ]
            ],
            "type": "heatmapgl"
           }
          ],
          "histogram": [
           {
            "marker": {
             "pattern": {
              "fillmode": "overlay",
              "size": 10,
              "solidity": 0.2
             }
            },
            "type": "histogram"
           }
          ],
          "histogram2d": [
           {
            "colorbar": {
             "outlinewidth": 0,
             "ticks": ""
            },
            "colorscale": [
             [
              0,
              "#0d0887"
             ],
             [
              0.1111111111111111,
              "#46039f"
             ],
             [
              0.2222222222222222,
              "#7201a8"
             ],
             [
              0.3333333333333333,
              "#9c179e"
             ],
             [
              0.4444444444444444,
              "#bd3786"
             ],
             [
              0.5555555555555556,
              "#d8576b"
             ],
             [
              0.6666666666666666,
              "#ed7953"
             ],
             [
              0.7777777777777778,
              "#fb9f3a"
             ],
             [
              0.8888888888888888,
              "#fdca26"
             ],
             [
              1,
              "#f0f921"
             ]
            ],
            "type": "histogram2d"
           }
          ],
          "histogram2dcontour": [
           {
            "colorbar": {
             "outlinewidth": 0,
             "ticks": ""
            },
            "colorscale": [
             [
              0,
              "#0d0887"
             ],
             [
              0.1111111111111111,
              "#46039f"
             ],
             [
              0.2222222222222222,
              "#7201a8"
             ],
             [
              0.3333333333333333,
              "#9c179e"
             ],
             [
              0.4444444444444444,
              "#bd3786"
             ],
             [
              0.5555555555555556,
              "#d8576b"
             ],
             [
              0.6666666666666666,
              "#ed7953"
             ],
             [
              0.7777777777777778,
              "#fb9f3a"
             ],
             [
              0.8888888888888888,
              "#fdca26"
             ],
             [
              1,
              "#f0f921"
             ]
            ],
            "type": "histogram2dcontour"
           }
          ],
          "mesh3d": [
           {
            "colorbar": {
             "outlinewidth": 0,
             "ticks": ""
            },
            "type": "mesh3d"
           }
          ],
          "parcoords": [
           {
            "line": {
             "colorbar": {
              "outlinewidth": 0,
              "ticks": ""
             }
            },
            "type": "parcoords"
           }
          ],
          "pie": [
           {
            "automargin": true,
            "type": "pie"
           }
          ],
          "scatter": [
           {
            "marker": {
             "colorbar": {
              "outlinewidth": 0,
              "ticks": ""
             }
            },
            "type": "scatter"
           }
          ],
          "scatter3d": [
           {
            "line": {
             "colorbar": {
              "outlinewidth": 0,
              "ticks": ""
             }
            },
            "marker": {
             "colorbar": {
              "outlinewidth": 0,
              "ticks": ""
             }
            },
            "type": "scatter3d"
           }
          ],
          "scattercarpet": [
           {
            "marker": {
             "colorbar": {
              "outlinewidth": 0,
              "ticks": ""
             }
            },
            "type": "scattercarpet"
           }
          ],
          "scattergeo": [
           {
            "marker": {
             "colorbar": {
              "outlinewidth": 0,
              "ticks": ""
             }
            },
            "type": "scattergeo"
           }
          ],
          "scattergl": [
           {
            "marker": {
             "colorbar": {
              "outlinewidth": 0,
              "ticks": ""
             }
            },
            "type": "scattergl"
           }
          ],
          "scattermapbox": [
           {
            "marker": {
             "colorbar": {
              "outlinewidth": 0,
              "ticks": ""
             }
            },
            "type": "scattermapbox"
           }
          ],
          "scatterpolar": [
           {
            "marker": {
             "colorbar": {
              "outlinewidth": 0,
              "ticks": ""
             }
            },
            "type": "scatterpolar"
           }
          ],
          "scatterpolargl": [
           {
            "marker": {
             "colorbar": {
              "outlinewidth": 0,
              "ticks": ""
             }
            },
            "type": "scatterpolargl"
           }
          ],
          "scatterternary": [
           {
            "marker": {
             "colorbar": {
              "outlinewidth": 0,
              "ticks": ""
             }
            },
            "type": "scatterternary"
           }
          ],
          "surface": [
           {
            "colorbar": {
             "outlinewidth": 0,
             "ticks": ""
            },
            "colorscale": [
             [
              0,
              "#0d0887"
             ],
             [
              0.1111111111111111,
              "#46039f"
             ],
             [
              0.2222222222222222,
              "#7201a8"
             ],
             [
              0.3333333333333333,
              "#9c179e"
             ],
             [
              0.4444444444444444,
              "#bd3786"
             ],
             [
              0.5555555555555556,
              "#d8576b"
             ],
             [
              0.6666666666666666,
              "#ed7953"
             ],
             [
              0.7777777777777778,
              "#fb9f3a"
             ],
             [
              0.8888888888888888,
              "#fdca26"
             ],
             [
              1,
              "#f0f921"
             ]
            ],
            "type": "surface"
           }
          ],
          "table": [
           {
            "cells": {
             "fill": {
              "color": "#EBF0F8"
             },
             "line": {
              "color": "white"
             }
            },
            "header": {
             "fill": {
              "color": "#C8D4E3"
             },
             "line": {
              "color": "white"
             }
            },
            "type": "table"
           }
          ]
         },
         "layout": {
          "annotationdefaults": {
           "arrowcolor": "#2a3f5f",
           "arrowhead": 0,
           "arrowwidth": 1
          },
          "autotypenumbers": "strict",
          "coloraxis": {
           "colorbar": {
            "outlinewidth": 0,
            "ticks": ""
           }
          },
          "colorscale": {
           "diverging": [
            [
             0,
             "#8e0152"
            ],
            [
             0.1,
             "#c51b7d"
            ],
            [
             0.2,
             "#de77ae"
            ],
            [
             0.3,
             "#f1b6da"
            ],
            [
             0.4,
             "#fde0ef"
            ],
            [
             0.5,
             "#f7f7f7"
            ],
            [
             0.6,
             "#e6f5d0"
            ],
            [
             0.7,
             "#b8e186"
            ],
            [
             0.8,
             "#7fbc41"
            ],
            [
             0.9,
             "#4d9221"
            ],
            [
             1,
             "#276419"
            ]
           ],
           "sequential": [
            [
             0,
             "#0d0887"
            ],
            [
             0.1111111111111111,
             "#46039f"
            ],
            [
             0.2222222222222222,
             "#7201a8"
            ],
            [
             0.3333333333333333,
             "#9c179e"
            ],
            [
             0.4444444444444444,
             "#bd3786"
            ],
            [
             0.5555555555555556,
             "#d8576b"
            ],
            [
             0.6666666666666666,
             "#ed7953"
            ],
            [
             0.7777777777777778,
             "#fb9f3a"
            ],
            [
             0.8888888888888888,
             "#fdca26"
            ],
            [
             1,
             "#f0f921"
            ]
           ],
           "sequentialminus": [
            [
             0,
             "#0d0887"
            ],
            [
             0.1111111111111111,
             "#46039f"
            ],
            [
             0.2222222222222222,
             "#7201a8"
            ],
            [
             0.3333333333333333,
             "#9c179e"
            ],
            [
             0.4444444444444444,
             "#bd3786"
            ],
            [
             0.5555555555555556,
             "#d8576b"
            ],
            [
             0.6666666666666666,
             "#ed7953"
            ],
            [
             0.7777777777777778,
             "#fb9f3a"
            ],
            [
             0.8888888888888888,
             "#fdca26"
            ],
            [
             1,
             "#f0f921"
            ]
           ]
          },
          "colorway": [
           "#636efa",
           "#EF553B",
           "#00cc96",
           "#ab63fa",
           "#FFA15A",
           "#19d3f3",
           "#FF6692",
           "#B6E880",
           "#FF97FF",
           "#FECB52"
          ],
          "font": {
           "color": "#2a3f5f"
          },
          "geo": {
           "bgcolor": "white",
           "lakecolor": "white",
           "landcolor": "#E5ECF6",
           "showlakes": true,
           "showland": true,
           "subunitcolor": "white"
          },
          "hoverlabel": {
           "align": "left"
          },
          "hovermode": "closest",
          "mapbox": {
           "style": "light"
          },
          "paper_bgcolor": "white",
          "plot_bgcolor": "#E5ECF6",
          "polar": {
           "angularaxis": {
            "gridcolor": "white",
            "linecolor": "white",
            "ticks": ""
           },
           "bgcolor": "#E5ECF6",
           "radialaxis": {
            "gridcolor": "white",
            "linecolor": "white",
            "ticks": ""
           }
          },
          "scene": {
           "xaxis": {
            "backgroundcolor": "#E5ECF6",
            "gridcolor": "white",
            "gridwidth": 2,
            "linecolor": "white",
            "showbackground": true,
            "ticks": "",
            "zerolinecolor": "white"
           },
           "yaxis": {
            "backgroundcolor": "#E5ECF6",
            "gridcolor": "white",
            "gridwidth": 2,
            "linecolor": "white",
            "showbackground": true,
            "ticks": "",
            "zerolinecolor": "white"
           },
           "zaxis": {
            "backgroundcolor": "#E5ECF6",
            "gridcolor": "white",
            "gridwidth": 2,
            "linecolor": "white",
            "showbackground": true,
            "ticks": "",
            "zerolinecolor": "white"
           }
          },
          "shapedefaults": {
           "line": {
            "color": "#2a3f5f"
           }
          },
          "ternary": {
           "aaxis": {
            "gridcolor": "white",
            "linecolor": "white",
            "ticks": ""
           },
           "baxis": {
            "gridcolor": "white",
            "linecolor": "white",
            "ticks": ""
           },
           "bgcolor": "#E5ECF6",
           "caxis": {
            "gridcolor": "white",
            "linecolor": "white",
            "ticks": ""
           }
          },
          "title": {
           "x": 0.05
          },
          "xaxis": {
           "automargin": true,
           "gridcolor": "white",
           "linecolor": "white",
           "ticks": "",
           "title": {
            "standoff": 15
           },
           "zerolinecolor": "white",
           "zerolinewidth": 2
          },
          "yaxis": {
           "automargin": true,
           "gridcolor": "white",
           "linecolor": "white",
           "ticks": "",
           "title": {
            "standoff": 15
           },
           "zerolinecolor": "white",
           "zerolinewidth": 2
          }
         }
        },
        "title": {
         "text": "Age of the participants"
        },
        "width": 600,
        "xaxis": {
         "anchor": "y",
         "domain": [
          0,
          1
         ],
         "title": {
          "text": "age"
         }
        },
        "yaxis": {
         "anchor": "x",
         "domain": [
          0,
          1
         ],
         "title": {
          "text": "count"
         }
        }
       }
      }
     },
     "metadata": {},
     "output_type": "display_data"
    }
   ],
   "source": [
    "fig2 = px.histogram(df_unique_id, x='age', title = 'Age of the participants', height=400, width=600)\n",
    "fig2.show()"
   ]
  },
  {
   "cell_type": "code",
   "execution_count": 16,
   "metadata": {},
   "outputs": [
    {
     "name": "stderr",
     "output_type": "stream",
     "text": [
      "C:\\Users\\Baptiste Cournault\\AppData\\Local\\Temp\\ipykernel_18464\\785814821.py:2: SettingWithCopyWarning:\n",
      "\n",
      "\n",
      "A value is trying to be set on a copy of a slice from a DataFrame.\n",
      "Try using .loc[row_indexer,col_indexer] = value instead\n",
      "\n",
      "See the caveats in the documentation: https://pandas.pydata.org/pandas-docs/stable/user_guide/indexing.html#returning-a-view-versus-a-copy\n",
      "\n"
     ]
    }
   ],
   "source": [
    "race_label = {1:'Black', 2:'European', 3:'Latino', 4:'Asian', 5:'Native American', 6:'Other'}\n",
    "df_unique_id['race_category'] = df_unique_id['race'].map(race_label)"
   ]
  },
  {
   "cell_type": "code",
   "execution_count": 17,
   "metadata": {},
   "outputs": [
    {
     "data": {
      "application/vnd.plotly.v1+json": {
       "config": {
        "plotlyServerURL": "https://plot.ly"
       },
       "data": [
        {
         "alignmentgroup": "True",
         "bingroup": "x",
         "hovertemplate": "race_category=%{x}<br>count=%{y}<extra></extra>",
         "legendgroup": "",
         "marker": {
          "color": "#636efa",
          "pattern": {
           "shape": ""
          }
         },
         "name": "",
         "offsetgroup": "",
         "orientation": "v",
         "showlegend": false,
         "type": "histogram",
         "x": [
          "Asian",
          "European",
          "European",
          "European",
          "European",
          "Asian",
          "Asian",
          "European",
          "Other",
          "European",
          "European",
          "European",
          "Asian",
          "European",
          "Latino",
          "European",
          "European",
          "European",
          "European",
          "European",
          "Asian",
          "Black",
          "Asian",
          "European",
          "European",
          "European",
          "Latino",
          "European",
          "European",
          "European",
          "European",
          "Asian",
          "European",
          "Asian",
          "European",
          "European",
          "European",
          "Black",
          "Latino",
          "Asian",
          "Asian",
          "Asian",
          "European",
          "European",
          "European",
          "European",
          "European",
          "European",
          "Asian",
          "Black",
          "European",
          "European",
          "European",
          "European",
          "Black",
          "European",
          "European",
          null,
          null,
          "Other",
          "European",
          "Latino",
          "Asian",
          "Asian",
          "Other",
          "Latino",
          "Other",
          "Black",
          "European",
          "European",
          "European",
          "European",
          "European",
          "European",
          "Other",
          "European",
          "European",
          "Latino",
          "Asian",
          "Asian",
          "European",
          "Other",
          "Latino",
          "Latino",
          "European",
          "European",
          "European",
          "European",
          "European",
          "Asian",
          "Other",
          "European",
          "European",
          "Asian",
          "European",
          "Latino",
          "European",
          "European",
          "European",
          "Other",
          "Asian",
          "European",
          "European",
          "European",
          "Black",
          "Latino",
          "European",
          "European",
          "Asian",
          "European",
          "Asian",
          "Other",
          "European",
          "Black",
          "European",
          "European",
          "European",
          "Latino",
          "Latino",
          "European",
          "Other",
          "Asian",
          "Asian",
          "European",
          "European",
          "European",
          "European",
          "European",
          "Asian",
          "Asian",
          "European",
          "Asian",
          "European",
          "European",
          null,
          "Asian",
          "European",
          "Asian",
          "European",
          "Latino",
          "European",
          "European",
          "European",
          "European",
          "European",
          "Asian",
          "Asian",
          "European",
          "European",
          "European",
          "Asian",
          "Asian",
          "European",
          "European",
          "Black",
          "Asian",
          "European",
          "European",
          "Black",
          "European",
          "Asian",
          "European",
          "European",
          "European",
          "Other",
          "European",
          "Asian",
          "European",
          "Asian",
          "European",
          "European",
          "European",
          "Asian",
          "Other",
          "Asian",
          "European",
          "Asian",
          "Latino",
          "Asian",
          "Black",
          "Black",
          "European",
          "European",
          "Asian",
          "Asian",
          "European",
          "European",
          "Other",
          "European",
          "European",
          "European",
          "Asian",
          "European",
          "European",
          "Asian",
          "Other",
          "Asian",
          "European",
          "European",
          "European",
          "European",
          "European",
          "European",
          "European",
          "Black",
          "European",
          "Black",
          "Black",
          "European",
          "European",
          "Latino",
          "Latino",
          "European",
          "Asian",
          "European",
          "European",
          "European",
          "European",
          "Other",
          "Asian",
          "European",
          "European",
          "European",
          "Latino",
          "European",
          "European",
          "Asian",
          "European",
          "European",
          "Latino",
          "European",
          "Asian",
          "Other",
          "European",
          "Asian",
          "European",
          "European",
          "European",
          "Asian",
          "Asian",
          "Latino",
          "European",
          "European",
          "European",
          "European",
          "Asian",
          "Other",
          "Other",
          "Other",
          "Other",
          "Latino",
          "Asian",
          "European",
          "Asian",
          "Asian",
          "European",
          "Other",
          "European",
          "Asian",
          "Asian",
          "European",
          "Black",
          "European",
          "European",
          "European",
          "Asian",
          "Latino",
          "European",
          "Asian",
          "European",
          "European",
          "European",
          "Latino",
          "European",
          "European",
          "European",
          "European",
          "European",
          "European",
          "European",
          "Black",
          "Asian",
          "European",
          "Other",
          "European",
          "Asian",
          "European",
          "Asian",
          "European",
          "Asian",
          "Black",
          "Latino",
          "Asian",
          "European",
          "European",
          "European",
          "European",
          "Asian",
          "European",
          "European",
          "European",
          "European",
          "European",
          "Asian",
          "Asian",
          "Asian",
          "Asian",
          "European",
          "European",
          "Asian",
          "European",
          "European",
          "Other",
          "European",
          "European",
          "European",
          "Other",
          "European",
          "European",
          "European",
          "Asian",
          "Asian",
          "European",
          "Latino",
          "Black",
          "European",
          "European",
          "European",
          "Asian",
          "European",
          "Asian",
          "European",
          "Asian",
          "European",
          "Latino",
          "European",
          "Other",
          null,
          null,
          "Asian",
          "Latino",
          "European",
          "Latino",
          "European",
          null,
          "Black",
          "Asian",
          "European",
          "European",
          "Asian",
          "Other",
          "Asian",
          "European",
          "European",
          "European",
          "Asian",
          "Asian",
          "European",
          "Other",
          "European",
          "European",
          "Asian",
          "Latino",
          "European",
          "European",
          "European",
          "Other",
          "European",
          "European",
          "European",
          "European",
          "Latino",
          "Asian",
          "European",
          "Asian",
          "Asian",
          "European",
          "European",
          "Black",
          "European",
          "European",
          "European",
          "European",
          "European",
          "European",
          "European",
          "European",
          "European",
          "Asian",
          "European",
          "European",
          "European",
          "European",
          "European",
          "Asian",
          "European",
          "European",
          "European",
          "European",
          "European",
          "Asian",
          "European",
          "European",
          "Black",
          "Asian",
          "European",
          "Latino",
          "European",
          "European",
          "European",
          "European",
          "European",
          "European",
          "European",
          "Latino",
          "European",
          "Asian",
          "European",
          "European",
          "Asian",
          "European",
          "European",
          "Asian",
          "European",
          "European",
          "European",
          "Asian",
          "European",
          "Asian",
          "Asian",
          "European",
          "Other",
          "European",
          "Black",
          "European",
          "European",
          "European",
          "European",
          "European",
          "European",
          "European",
          "Latino",
          "European",
          "European",
          "Latino",
          "Asian",
          "European",
          "Other",
          "European",
          "Asian",
          "Asian",
          "Asian",
          "European",
          "Asian",
          "Asian",
          "Asian",
          "Asian",
          "Asian"
         ],
         "xaxis": "x",
         "yaxis": "y"
        }
       ],
       "layout": {
        "barmode": "relative",
        "height": 400,
        "legend": {
         "tracegroupgap": 0
        },
        "template": {
         "data": {
          "bar": [
           {
            "error_x": {
             "color": "#2a3f5f"
            },
            "error_y": {
             "color": "#2a3f5f"
            },
            "marker": {
             "line": {
              "color": "#E5ECF6",
              "width": 0.5
             },
             "pattern": {
              "fillmode": "overlay",
              "size": 10,
              "solidity": 0.2
             }
            },
            "type": "bar"
           }
          ],
          "barpolar": [
           {
            "marker": {
             "line": {
              "color": "#E5ECF6",
              "width": 0.5
             },
             "pattern": {
              "fillmode": "overlay",
              "size": 10,
              "solidity": 0.2
             }
            },
            "type": "barpolar"
           }
          ],
          "carpet": [
           {
            "aaxis": {
             "endlinecolor": "#2a3f5f",
             "gridcolor": "white",
             "linecolor": "white",
             "minorgridcolor": "white",
             "startlinecolor": "#2a3f5f"
            },
            "baxis": {
             "endlinecolor": "#2a3f5f",
             "gridcolor": "white",
             "linecolor": "white",
             "minorgridcolor": "white",
             "startlinecolor": "#2a3f5f"
            },
            "type": "carpet"
           }
          ],
          "choropleth": [
           {
            "colorbar": {
             "outlinewidth": 0,
             "ticks": ""
            },
            "type": "choropleth"
           }
          ],
          "contour": [
           {
            "colorbar": {
             "outlinewidth": 0,
             "ticks": ""
            },
            "colorscale": [
             [
              0,
              "#0d0887"
             ],
             [
              0.1111111111111111,
              "#46039f"
             ],
             [
              0.2222222222222222,
              "#7201a8"
             ],
             [
              0.3333333333333333,
              "#9c179e"
             ],
             [
              0.4444444444444444,
              "#bd3786"
             ],
             [
              0.5555555555555556,
              "#d8576b"
             ],
             [
              0.6666666666666666,
              "#ed7953"
             ],
             [
              0.7777777777777778,
              "#fb9f3a"
             ],
             [
              0.8888888888888888,
              "#fdca26"
             ],
             [
              1,
              "#f0f921"
             ]
            ],
            "type": "contour"
           }
          ],
          "contourcarpet": [
           {
            "colorbar": {
             "outlinewidth": 0,
             "ticks": ""
            },
            "type": "contourcarpet"
           }
          ],
          "heatmap": [
           {
            "colorbar": {
             "outlinewidth": 0,
             "ticks": ""
            },
            "colorscale": [
             [
              0,
              "#0d0887"
             ],
             [
              0.1111111111111111,
              "#46039f"
             ],
             [
              0.2222222222222222,
              "#7201a8"
             ],
             [
              0.3333333333333333,
              "#9c179e"
             ],
             [
              0.4444444444444444,
              "#bd3786"
             ],
             [
              0.5555555555555556,
              "#d8576b"
             ],
             [
              0.6666666666666666,
              "#ed7953"
             ],
             [
              0.7777777777777778,
              "#fb9f3a"
             ],
             [
              0.8888888888888888,
              "#fdca26"
             ],
             [
              1,
              "#f0f921"
             ]
            ],
            "type": "heatmap"
           }
          ],
          "heatmapgl": [
           {
            "colorbar": {
             "outlinewidth": 0,
             "ticks": ""
            },
            "colorscale": [
             [
              0,
              "#0d0887"
             ],
             [
              0.1111111111111111,
              "#46039f"
             ],
             [
              0.2222222222222222,
              "#7201a8"
             ],
             [
              0.3333333333333333,
              "#9c179e"
             ],
             [
              0.4444444444444444,
              "#bd3786"
             ],
             [
              0.5555555555555556,
              "#d8576b"
             ],
             [
              0.6666666666666666,
              "#ed7953"
             ],
             [
              0.7777777777777778,
              "#fb9f3a"
             ],
             [
              0.8888888888888888,
              "#fdca26"
             ],
             [
              1,
              "#f0f921"
             ]
            ],
            "type": "heatmapgl"
           }
          ],
          "histogram": [
           {
            "marker": {
             "pattern": {
              "fillmode": "overlay",
              "size": 10,
              "solidity": 0.2
             }
            },
            "type": "histogram"
           }
          ],
          "histogram2d": [
           {
            "colorbar": {
             "outlinewidth": 0,
             "ticks": ""
            },
            "colorscale": [
             [
              0,
              "#0d0887"
             ],
             [
              0.1111111111111111,
              "#46039f"
             ],
             [
              0.2222222222222222,
              "#7201a8"
             ],
             [
              0.3333333333333333,
              "#9c179e"
             ],
             [
              0.4444444444444444,
              "#bd3786"
             ],
             [
              0.5555555555555556,
              "#d8576b"
             ],
             [
              0.6666666666666666,
              "#ed7953"
             ],
             [
              0.7777777777777778,
              "#fb9f3a"
             ],
             [
              0.8888888888888888,
              "#fdca26"
             ],
             [
              1,
              "#f0f921"
             ]
            ],
            "type": "histogram2d"
           }
          ],
          "histogram2dcontour": [
           {
            "colorbar": {
             "outlinewidth": 0,
             "ticks": ""
            },
            "colorscale": [
             [
              0,
              "#0d0887"
             ],
             [
              0.1111111111111111,
              "#46039f"
             ],
             [
              0.2222222222222222,
              "#7201a8"
             ],
             [
              0.3333333333333333,
              "#9c179e"
             ],
             [
              0.4444444444444444,
              "#bd3786"
             ],
             [
              0.5555555555555556,
              "#d8576b"
             ],
             [
              0.6666666666666666,
              "#ed7953"
             ],
             [
              0.7777777777777778,
              "#fb9f3a"
             ],
             [
              0.8888888888888888,
              "#fdca26"
             ],
             [
              1,
              "#f0f921"
             ]
            ],
            "type": "histogram2dcontour"
           }
          ],
          "mesh3d": [
           {
            "colorbar": {
             "outlinewidth": 0,
             "ticks": ""
            },
            "type": "mesh3d"
           }
          ],
          "parcoords": [
           {
            "line": {
             "colorbar": {
              "outlinewidth": 0,
              "ticks": ""
             }
            },
            "type": "parcoords"
           }
          ],
          "pie": [
           {
            "automargin": true,
            "type": "pie"
           }
          ],
          "scatter": [
           {
            "marker": {
             "colorbar": {
              "outlinewidth": 0,
              "ticks": ""
             }
            },
            "type": "scatter"
           }
          ],
          "scatter3d": [
           {
            "line": {
             "colorbar": {
              "outlinewidth": 0,
              "ticks": ""
             }
            },
            "marker": {
             "colorbar": {
              "outlinewidth": 0,
              "ticks": ""
             }
            },
            "type": "scatter3d"
           }
          ],
          "scattercarpet": [
           {
            "marker": {
             "colorbar": {
              "outlinewidth": 0,
              "ticks": ""
             }
            },
            "type": "scattercarpet"
           }
          ],
          "scattergeo": [
           {
            "marker": {
             "colorbar": {
              "outlinewidth": 0,
              "ticks": ""
             }
            },
            "type": "scattergeo"
           }
          ],
          "scattergl": [
           {
            "marker": {
             "colorbar": {
              "outlinewidth": 0,
              "ticks": ""
             }
            },
            "type": "scattergl"
           }
          ],
          "scattermapbox": [
           {
            "marker": {
             "colorbar": {
              "outlinewidth": 0,
              "ticks": ""
             }
            },
            "type": "scattermapbox"
           }
          ],
          "scatterpolar": [
           {
            "marker": {
             "colorbar": {
              "outlinewidth": 0,
              "ticks": ""
             }
            },
            "type": "scatterpolar"
           }
          ],
          "scatterpolargl": [
           {
            "marker": {
             "colorbar": {
              "outlinewidth": 0,
              "ticks": ""
             }
            },
            "type": "scatterpolargl"
           }
          ],
          "scatterternary": [
           {
            "marker": {
             "colorbar": {
              "outlinewidth": 0,
              "ticks": ""
             }
            },
            "type": "scatterternary"
           }
          ],
          "surface": [
           {
            "colorbar": {
             "outlinewidth": 0,
             "ticks": ""
            },
            "colorscale": [
             [
              0,
              "#0d0887"
             ],
             [
              0.1111111111111111,
              "#46039f"
             ],
             [
              0.2222222222222222,
              "#7201a8"
             ],
             [
              0.3333333333333333,
              "#9c179e"
             ],
             [
              0.4444444444444444,
              "#bd3786"
             ],
             [
              0.5555555555555556,
              "#d8576b"
             ],
             [
              0.6666666666666666,
              "#ed7953"
             ],
             [
              0.7777777777777778,
              "#fb9f3a"
             ],
             [
              0.8888888888888888,
              "#fdca26"
             ],
             [
              1,
              "#f0f921"
             ]
            ],
            "type": "surface"
           }
          ],
          "table": [
           {
            "cells": {
             "fill": {
              "color": "#EBF0F8"
             },
             "line": {
              "color": "white"
             }
            },
            "header": {
             "fill": {
              "color": "#C8D4E3"
             },
             "line": {
              "color": "white"
             }
            },
            "type": "table"
           }
          ]
         },
         "layout": {
          "annotationdefaults": {
           "arrowcolor": "#2a3f5f",
           "arrowhead": 0,
           "arrowwidth": 1
          },
          "autotypenumbers": "strict",
          "coloraxis": {
           "colorbar": {
            "outlinewidth": 0,
            "ticks": ""
           }
          },
          "colorscale": {
           "diverging": [
            [
             0,
             "#8e0152"
            ],
            [
             0.1,
             "#c51b7d"
            ],
            [
             0.2,
             "#de77ae"
            ],
            [
             0.3,
             "#f1b6da"
            ],
            [
             0.4,
             "#fde0ef"
            ],
            [
             0.5,
             "#f7f7f7"
            ],
            [
             0.6,
             "#e6f5d0"
            ],
            [
             0.7,
             "#b8e186"
            ],
            [
             0.8,
             "#7fbc41"
            ],
            [
             0.9,
             "#4d9221"
            ],
            [
             1,
             "#276419"
            ]
           ],
           "sequential": [
            [
             0,
             "#0d0887"
            ],
            [
             0.1111111111111111,
             "#46039f"
            ],
            [
             0.2222222222222222,
             "#7201a8"
            ],
            [
             0.3333333333333333,
             "#9c179e"
            ],
            [
             0.4444444444444444,
             "#bd3786"
            ],
            [
             0.5555555555555556,
             "#d8576b"
            ],
            [
             0.6666666666666666,
             "#ed7953"
            ],
            [
             0.7777777777777778,
             "#fb9f3a"
            ],
            [
             0.8888888888888888,
             "#fdca26"
            ],
            [
             1,
             "#f0f921"
            ]
           ],
           "sequentialminus": [
            [
             0,
             "#0d0887"
            ],
            [
             0.1111111111111111,
             "#46039f"
            ],
            [
             0.2222222222222222,
             "#7201a8"
            ],
            [
             0.3333333333333333,
             "#9c179e"
            ],
            [
             0.4444444444444444,
             "#bd3786"
            ],
            [
             0.5555555555555556,
             "#d8576b"
            ],
            [
             0.6666666666666666,
             "#ed7953"
            ],
            [
             0.7777777777777778,
             "#fb9f3a"
            ],
            [
             0.8888888888888888,
             "#fdca26"
            ],
            [
             1,
             "#f0f921"
            ]
           ]
          },
          "colorway": [
           "#636efa",
           "#EF553B",
           "#00cc96",
           "#ab63fa",
           "#FFA15A",
           "#19d3f3",
           "#FF6692",
           "#B6E880",
           "#FF97FF",
           "#FECB52"
          ],
          "font": {
           "color": "#2a3f5f"
          },
          "geo": {
           "bgcolor": "white",
           "lakecolor": "white",
           "landcolor": "#E5ECF6",
           "showlakes": true,
           "showland": true,
           "subunitcolor": "white"
          },
          "hoverlabel": {
           "align": "left"
          },
          "hovermode": "closest",
          "mapbox": {
           "style": "light"
          },
          "paper_bgcolor": "white",
          "plot_bgcolor": "#E5ECF6",
          "polar": {
           "angularaxis": {
            "gridcolor": "white",
            "linecolor": "white",
            "ticks": ""
           },
           "bgcolor": "#E5ECF6",
           "radialaxis": {
            "gridcolor": "white",
            "linecolor": "white",
            "ticks": ""
           }
          },
          "scene": {
           "xaxis": {
            "backgroundcolor": "#E5ECF6",
            "gridcolor": "white",
            "gridwidth": 2,
            "linecolor": "white",
            "showbackground": true,
            "ticks": "",
            "zerolinecolor": "white"
           },
           "yaxis": {
            "backgroundcolor": "#E5ECF6",
            "gridcolor": "white",
            "gridwidth": 2,
            "linecolor": "white",
            "showbackground": true,
            "ticks": "",
            "zerolinecolor": "white"
           },
           "zaxis": {
            "backgroundcolor": "#E5ECF6",
            "gridcolor": "white",
            "gridwidth": 2,
            "linecolor": "white",
            "showbackground": true,
            "ticks": "",
            "zerolinecolor": "white"
           }
          },
          "shapedefaults": {
           "line": {
            "color": "#2a3f5f"
           }
          },
          "ternary": {
           "aaxis": {
            "gridcolor": "white",
            "linecolor": "white",
            "ticks": ""
           },
           "baxis": {
            "gridcolor": "white",
            "linecolor": "white",
            "ticks": ""
           },
           "bgcolor": "#E5ECF6",
           "caxis": {
            "gridcolor": "white",
            "linecolor": "white",
            "ticks": ""
           }
          },
          "title": {
           "x": 0.05
          },
          "xaxis": {
           "automargin": true,
           "gridcolor": "white",
           "linecolor": "white",
           "ticks": "",
           "title": {
            "standoff": 15
           },
           "zerolinecolor": "white",
           "zerolinewidth": 2
          },
          "yaxis": {
           "automargin": true,
           "gridcolor": "white",
           "linecolor": "white",
           "ticks": "",
           "title": {
            "standoff": 15
           },
           "zerolinecolor": "white",
           "zerolinewidth": 2
          }
         }
        },
        "title": {
         "text": "Ethnicity of the participants"
        },
        "width": 600,
        "xaxis": {
         "anchor": "y",
         "domain": [
          0,
          1
         ],
         "title": {
          "text": "race_category"
         }
        },
        "yaxis": {
         "anchor": "x",
         "domain": [
          0,
          1
         ],
         "title": {
          "text": "count"
         }
        }
       }
      }
     },
     "metadata": {},
     "output_type": "display_data"
    }
   ],
   "source": [
    "fig3 = px.histogram(df_unique_id, x='race_category', title = 'Ethnicity of the participants', height=400, width=600)\n",
    "fig3.show()"
   ]
  },
  {
   "cell_type": "code",
   "execution_count": 18,
   "metadata": {},
   "outputs": [
    {
     "name": "stderr",
     "output_type": "stream",
     "text": [
      "C:\\Users\\Baptiste Cournault\\AppData\\Local\\Temp\\ipykernel_18464\\1939533538.py:6: SettingWithCopyWarning:\n",
      "\n",
      "\n",
      "A value is trying to be set on a copy of a slice from a DataFrame.\n",
      "Try using .loc[row_indexer,col_indexer] = value instead\n",
      "\n",
      "See the caveats in the documentation: https://pandas.pydata.org/pandas-docs/stable/user_guide/indexing.html#returning-a-view-versus-a-copy\n",
      "\n"
     ]
    }
   ],
   "source": [
    "field_list = [\"Law\", \"Math\", \"Social Science, Psychologist\", \"Medical Science, Pharmaceuticals, and Bio Tech\", \"Engineering\", \"English/Creative Writting/Journalism\",\n",
    "            \"History/Religion/Philosophy\", \"Business/Econ/Finance\", \"Education/Academia\", \"Biological Sciences/Chemistry/Physics\", \"Social Work\", \"Undergrad/undecided\", \"Political Science/International Affairs\", \n",
    "            \"Film\", \"Other\", \"Fine Arts/Arts Administration\", \"Languages\", \"Architecture\", \"Other\"\n",
    "            ]\n",
    "\n",
    "df_unique_id['field_cd_category'] = df_unique_id['field_cd'].apply(lambda x : field_list[int(x)-1] if x == x else \"not specified\")"
   ]
  },
  {
   "cell_type": "code",
   "execution_count": 19,
   "metadata": {},
   "outputs": [
    {
     "name": "stderr",
     "output_type": "stream",
     "text": [
      "C:\\Users\\Baptiste Cournault\\AppData\\Local\\Temp\\ipykernel_18464\\3563104255.py:6: SettingWithCopyWarning:\n",
      "\n",
      "\n",
      "A value is trying to be set on a copy of a slice from a DataFrame.\n",
      "Try using .loc[row_indexer,col_indexer] = value instead\n",
      "\n",
      "See the caveats in the documentation: https://pandas.pydata.org/pandas-docs/stable/user_guide/indexing.html#returning-a-view-versus-a-copy\n",
      "\n"
     ]
    }
   ],
   "source": [
    "career_list = [\"Lawyer\", \"Academic/Research\", \"Psychologist\", \"Doctor/Medicine\", \"Engineer\", \"Creative Arts/Entertainment\",\n",
    "            \"Banking/Business\", \"Real Estate\", \"International Affairs\", \"Undecided\", \"Social Work\", \"Speech Pathology\", \"Politics\", \n",
    "            \"Sports/Athletics\", \"Other\", \"Journalism\", \"Architecture\"\n",
    "            ]\n",
    "\n",
    "df_unique_id['career_c_category'] = df_unique_id['career_c'].apply(lambda x : career_list[int(x)-1] if x == x else \"not specified\")"
   ]
  },
  {
   "cell_type": "code",
   "execution_count": 20,
   "metadata": {},
   "outputs": [
    {
     "data": {
      "application/vnd.plotly.v1+json": {
       "config": {
        "plotlyServerURL": "https://plot.ly"
       },
       "data": [
        {
         "alignmentgroup": "True",
         "bingroup": "y",
         "hovertemplate": "gender_category=female<br>count=%{x}<br>career_c_category=%{y}<extra></extra>",
         "legendgroup": "female",
         "marker": {
          "color": "#636efa",
          "pattern": {
           "shape": ""
          }
         },
         "name": "female",
         "offsetgroup": "female",
         "orientation": "h",
         "showlegend": true,
         "type": "histogram",
         "xaxis": "x",
         "y": [
          "not specified",
          "not specified",
          "not specified",
          "Lawyer",
          "Lawyer",
          "Lawyer",
          "Lawyer",
          "Creative Arts/Entertainment",
          "International Affairs",
          "International Affairs",
          "Undecided",
          "Engineer",
          "Psychologist",
          "International Affairs",
          "International Affairs",
          "International Affairs",
          "International Affairs",
          "not specified",
          "International Affairs",
          "Lawyer",
          "Lawyer",
          "Academic/Research",
          "Creative Arts/Entertainment",
          "Banking/Business",
          "Banking/Business",
          "Doctor/Medicine",
          "Banking/Business",
          "Lawyer",
          "Lawyer",
          "International Affairs",
          "International Affairs",
          "not specified",
          "not specified",
          "Creative Arts/Entertainment",
          "Academic/Research",
          "Lawyer",
          "Undecided",
          "International Affairs",
          "Psychologist",
          "Academic/Research",
          "Social Work",
          "Social Work",
          "Engineer",
          "Academic/Research",
          "Creative Arts/Entertainment",
          "Academic/Research",
          "Banking/Business",
          "Doctor/Medicine",
          "International Affairs",
          "Academic/Research",
          "International Affairs",
          "International Affairs",
          "Academic/Research",
          "Undecided",
          "Lawyer",
          "Banking/Business",
          "Academic/Research",
          "Social Work",
          "Undecided",
          "not specified",
          "Psychologist",
          "Undecided",
          "Banking/Business",
          "Lawyer",
          "Creative Arts/Entertainment",
          "Academic/Research",
          "Banking/Business",
          "Academic/Research",
          "Academic/Research",
          "Academic/Research",
          "not specified",
          "Academic/Research",
          "Lawyer",
          "Academic/Research",
          "Academic/Research",
          "Academic/Research",
          "Banking/Business",
          "Banking/Business",
          "Academic/Research",
          "Academic/Research",
          "International Affairs",
          "Academic/Research",
          "Academic/Research",
          "Banking/Business",
          "International Affairs",
          "Banking/Business",
          "Banking/Business",
          "Banking/Business",
          "Banking/Business",
          "Banking/Business",
          "Banking/Business",
          "Doctor/Medicine",
          "Academic/Research",
          "Banking/Business",
          "Academic/Research",
          "Doctor/Medicine",
          "Creative Arts/Entertainment",
          "Psychologist",
          "Academic/Research",
          "Academic/Research",
          "Banking/Business",
          "Banking/Business",
          "Academic/Research",
          "International Affairs",
          "Banking/Business",
          "Academic/Research",
          "Academic/Research",
          "Banking/Business",
          "Academic/Research",
          "International Affairs",
          "Lawyer",
          "Banking/Business",
          "Banking/Business",
          "Academic/Research",
          "International Affairs",
          "Banking/Business",
          "Banking/Business",
          "Academic/Research",
          "Academic/Research",
          "Academic/Research",
          "Creative Arts/Entertainment",
          "Creative Arts/Entertainment",
          "Banking/Business",
          "Creative Arts/Entertainment",
          "Banking/Business",
          "Academic/Research",
          "Academic/Research",
          "Academic/Research",
          "Academic/Research",
          "Doctor/Medicine",
          "Doctor/Medicine",
          "Academic/Research",
          "Academic/Research",
          "Academic/Research",
          "Academic/Research",
          "Academic/Research",
          "Undecided",
          "Undecided",
          "Academic/Research",
          "Academic/Research",
          "Undecided",
          "Doctor/Medicine",
          "Doctor/Medicine",
          "Academic/Research",
          "Academic/Research",
          "Social Work",
          "Social Work",
          "Academic/Research",
          "Academic/Research",
          "Academic/Research",
          "Academic/Research",
          "Academic/Research",
          "Academic/Research",
          "Academic/Research",
          "Academic/Research",
          "Speech Pathology",
          "Academic/Research",
          "Speech Pathology",
          "Academic/Research",
          "Academic/Research",
          "Academic/Research",
          "Academic/Research",
          "Academic/Research",
          "Psychologist",
          "Psychologist",
          "Academic/Research",
          "Banking/Business",
          "Academic/Research",
          "Academic/Research",
          "Undecided",
          "Academic/Research",
          "Undecided",
          "Academic/Research",
          "Doctor/Medicine",
          "International Affairs",
          "Doctor/Medicine",
          "not specified",
          "Politics",
          "Academic/Research",
          "Banking/Business",
          "Doctor/Medicine",
          "Academic/Research",
          "Creative Arts/Entertainment",
          "Academic/Research",
          "Psychologist",
          "Psychologist",
          "Psychologist",
          "Academic/Research",
          "Banking/Business",
          "International Affairs",
          "Psychologist",
          "Banking/Business",
          "Creative Arts/Entertainment",
          "Creative Arts/Entertainment",
          "Creative Arts/Entertainment",
          "Banking/Business",
          "Undecided",
          "Academic/Research",
          "Psychologist",
          "Psychologist",
          "Psychologist",
          "Lawyer",
          "Academic/Research",
          "Creative Arts/Entertainment",
          "Creative Arts/Entertainment",
          "Creative Arts/Entertainment",
          "Creative Arts/Entertainment",
          "Creative Arts/Entertainment",
          "Creative Arts/Entertainment",
          "Psychologist",
          "Psychologist",
          "Lawyer",
          "Social Work",
          "Social Work",
          "Social Work",
          "Academic/Research",
          "Banking/Business",
          "Social Work",
          "Creative Arts/Entertainment",
          "Other",
          "Lawyer",
          "Lawyer",
          "Social Work",
          "Social Work",
          "Academic/Research",
          "Academic/Research",
          "Academic/Research",
          "Banking/Business",
          "Creative Arts/Entertainment",
          "Banking/Business",
          "Banking/Business"
         ],
         "yaxis": "y"
        },
        {
         "alignmentgroup": "True",
         "bingroup": "y",
         "hovertemplate": "gender_category=male<br>count=%{x}<br>career_c_category=%{y}<extra></extra>",
         "legendgroup": "male",
         "marker": {
          "color": "#EF553B",
          "pattern": {
           "shape": ""
          }
         },
         "name": "male",
         "offsetgroup": "male",
         "orientation": "h",
         "showlegend": true,
         "type": "histogram",
         "xaxis": "x",
         "y": [
          "Academic/Research",
          "Lawyer",
          "Lawyer",
          "Lawyer",
          "Lawyer",
          "Banking/Business",
          "Academic/Research",
          "Banking/Business",
          "Banking/Business",
          "Banking/Business",
          "not specified",
          "Lawyer",
          "Engineer",
          "Academic/Research",
          "Academic/Research",
          "Banking/Business",
          "Banking/Business",
          "Academic/Research",
          "Creative Arts/Entertainment",
          "Banking/Business",
          "Lawyer",
          "Lawyer",
          "Lawyer",
          "Doctor/Medicine",
          "Banking/Business",
          "Lawyer",
          "Banking/Business",
          "Lawyer",
          "Creative Arts/Entertainment",
          "Banking/Business",
          "Banking/Business",
          "Sports/Athletics",
          "Banking/Business",
          "Banking/Business",
          "Engineer",
          "Lawyer",
          "Banking/Business",
          "Banking/Business",
          "Academic/Research",
          "Academic/Research",
          "Academic/Research",
          "Lawyer",
          "Academic/Research",
          "Banking/Business",
          "Academic/Research",
          "Banking/Business",
          "Academic/Research",
          "Lawyer",
          "Lawyer",
          "Academic/Research",
          "Engineer",
          "Creative Arts/Entertainment",
          "Creative Arts/Entertainment",
          "Banking/Business",
          "Lawyer",
          "Doctor/Medicine",
          "Lawyer",
          "Doctor/Medicine",
          "Doctor/Medicine",
          "Creative Arts/Entertainment",
          "Engineer",
          "Banking/Business",
          "Undecided",
          "Undecided",
          "Real Estate",
          "Banking/Business",
          "Academic/Research",
          "Banking/Business",
          "Banking/Business",
          "Academic/Research",
          "Academic/Research",
          "Real Estate",
          "Undecided",
          "Doctor/Medicine",
          "Academic/Research",
          "Academic/Research",
          "Creative Arts/Entertainment",
          "Banking/Business",
          "Academic/Research",
          "Undecided",
          "Academic/Research",
          "Doctor/Medicine",
          "Banking/Business",
          "Banking/Business",
          "Academic/Research",
          "Banking/Business",
          "Creative Arts/Entertainment",
          "Academic/Research",
          "Banking/Business",
          "Academic/Research",
          "International Affairs",
          "International Affairs",
          "Banking/Business",
          "Banking/Business",
          "Lawyer",
          "Academic/Research",
          "Banking/Business",
          "Banking/Business",
          "Academic/Research",
          "Academic/Research",
          "Banking/Business",
          "Creative Arts/Entertainment",
          "Banking/Business",
          "Academic/Research",
          "Academic/Research",
          "Other",
          "Banking/Business",
          "Creative Arts/Entertainment",
          "Banking/Business",
          "Academic/Research",
          "Banking/Business",
          "Banking/Business",
          "International Affairs",
          "International Affairs",
          "Banking/Business",
          "Academic/Research",
          "Banking/Business",
          "Lawyer",
          "Academic/Research",
          "Academic/Research",
          "Banking/Business",
          "Banking/Business",
          "Academic/Research",
          "Undecided",
          "Academic/Research",
          "Academic/Research",
          "Banking/Business",
          "Academic/Research",
          "Academic/Research",
          "Academic/Research",
          "Academic/Research",
          "Academic/Research",
          "Academic/Research",
          "Banking/Business",
          "Banking/Business",
          "Creative Arts/Entertainment",
          "Banking/Business",
          "Academic/Research",
          "Creative Arts/Entertainment",
          "Academic/Research",
          "Banking/Business",
          "Academic/Research",
          "Doctor/Medicine",
          "Banking/Business",
          "Banking/Business",
          "Academic/Research",
          "Academic/Research",
          "Undecided",
          "Banking/Business",
          "Creative Arts/Entertainment",
          "Creative Arts/Entertainment",
          "Academic/Research",
          "Academic/Research",
          "Banking/Business",
          "Banking/Business",
          "Banking/Business",
          "Academic/Research",
          "Academic/Research",
          "Banking/Business",
          "Academic/Research",
          "Banking/Business",
          "Doctor/Medicine",
          "Academic/Research",
          "Architecture",
          "Engineer",
          "Banking/Business",
          "not specified",
          "not specified",
          "Lawyer",
          "Lawyer",
          "Banking/Business",
          "Banking/Business",
          "Undecided",
          "Creative Arts/Entertainment",
          "Politics",
          "Creative Arts/Entertainment",
          "Psychologist",
          "Banking/Business",
          "International Affairs",
          "Undecided",
          "Banking/Business",
          "Banking/Business",
          "Lawyer",
          "Undecided",
          "Banking/Business",
          "Banking/Business",
          "Lawyer",
          "Banking/Business",
          "Banking/Business",
          "Banking/Business",
          "Banking/Business",
          "Banking/Business",
          "Banking/Business",
          "Banking/Business",
          "International Affairs",
          "Banking/Business",
          "Creative Arts/Entertainment",
          "International Affairs",
          "Academic/Research",
          "Banking/Business",
          "Banking/Business",
          "Banking/Business",
          "Real Estate",
          "Banking/Business",
          "Banking/Business",
          "Banking/Business",
          "Banking/Business",
          "Academic/Research",
          "Banking/Business",
          "Politics",
          "Other",
          "Banking/Business",
          "Banking/Business",
          "Lawyer",
          "Lawyer",
          "Lawyer",
          "International Affairs",
          "Banking/Business",
          "International Affairs",
          "Banking/Business",
          "Banking/Business",
          "Banking/Business",
          "Lawyer",
          "International Affairs",
          "Banking/Business",
          "Banking/Business",
          "Lawyer"
         ],
         "yaxis": "y"
        }
       ],
       "layout": {
        "barmode": "relative",
        "legend": {
         "title": {
          "text": "gender_category"
         },
         "tracegroupgap": 0
        },
        "template": {
         "data": {
          "bar": [
           {
            "error_x": {
             "color": "#2a3f5f"
            },
            "error_y": {
             "color": "#2a3f5f"
            },
            "marker": {
             "line": {
              "color": "#E5ECF6",
              "width": 0.5
             },
             "pattern": {
              "fillmode": "overlay",
              "size": 10,
              "solidity": 0.2
             }
            },
            "type": "bar"
           }
          ],
          "barpolar": [
           {
            "marker": {
             "line": {
              "color": "#E5ECF6",
              "width": 0.5
             },
             "pattern": {
              "fillmode": "overlay",
              "size": 10,
              "solidity": 0.2
             }
            },
            "type": "barpolar"
           }
          ],
          "carpet": [
           {
            "aaxis": {
             "endlinecolor": "#2a3f5f",
             "gridcolor": "white",
             "linecolor": "white",
             "minorgridcolor": "white",
             "startlinecolor": "#2a3f5f"
            },
            "baxis": {
             "endlinecolor": "#2a3f5f",
             "gridcolor": "white",
             "linecolor": "white",
             "minorgridcolor": "white",
             "startlinecolor": "#2a3f5f"
            },
            "type": "carpet"
           }
          ],
          "choropleth": [
           {
            "colorbar": {
             "outlinewidth": 0,
             "ticks": ""
            },
            "type": "choropleth"
           }
          ],
          "contour": [
           {
            "colorbar": {
             "outlinewidth": 0,
             "ticks": ""
            },
            "colorscale": [
             [
              0,
              "#0d0887"
             ],
             [
              0.1111111111111111,
              "#46039f"
             ],
             [
              0.2222222222222222,
              "#7201a8"
             ],
             [
              0.3333333333333333,
              "#9c179e"
             ],
             [
              0.4444444444444444,
              "#bd3786"
             ],
             [
              0.5555555555555556,
              "#d8576b"
             ],
             [
              0.6666666666666666,
              "#ed7953"
             ],
             [
              0.7777777777777778,
              "#fb9f3a"
             ],
             [
              0.8888888888888888,
              "#fdca26"
             ],
             [
              1,
              "#f0f921"
             ]
            ],
            "type": "contour"
           }
          ],
          "contourcarpet": [
           {
            "colorbar": {
             "outlinewidth": 0,
             "ticks": ""
            },
            "type": "contourcarpet"
           }
          ],
          "heatmap": [
           {
            "colorbar": {
             "outlinewidth": 0,
             "ticks": ""
            },
            "colorscale": [
             [
              0,
              "#0d0887"
             ],
             [
              0.1111111111111111,
              "#46039f"
             ],
             [
              0.2222222222222222,
              "#7201a8"
             ],
             [
              0.3333333333333333,
              "#9c179e"
             ],
             [
              0.4444444444444444,
              "#bd3786"
             ],
             [
              0.5555555555555556,
              "#d8576b"
             ],
             [
              0.6666666666666666,
              "#ed7953"
             ],
             [
              0.7777777777777778,
              "#fb9f3a"
             ],
             [
              0.8888888888888888,
              "#fdca26"
             ],
             [
              1,
              "#f0f921"
             ]
            ],
            "type": "heatmap"
           }
          ],
          "heatmapgl": [
           {
            "colorbar": {
             "outlinewidth": 0,
             "ticks": ""
            },
            "colorscale": [
             [
              0,
              "#0d0887"
             ],
             [
              0.1111111111111111,
              "#46039f"
             ],
             [
              0.2222222222222222,
              "#7201a8"
             ],
             [
              0.3333333333333333,
              "#9c179e"
             ],
             [
              0.4444444444444444,
              "#bd3786"
             ],
             [
              0.5555555555555556,
              "#d8576b"
             ],
             [
              0.6666666666666666,
              "#ed7953"
             ],
             [
              0.7777777777777778,
              "#fb9f3a"
             ],
             [
              0.8888888888888888,
              "#fdca26"
             ],
             [
              1,
              "#f0f921"
             ]
            ],
            "type": "heatmapgl"
           }
          ],
          "histogram": [
           {
            "marker": {
             "pattern": {
              "fillmode": "overlay",
              "size": 10,
              "solidity": 0.2
             }
            },
            "type": "histogram"
           }
          ],
          "histogram2d": [
           {
            "colorbar": {
             "outlinewidth": 0,
             "ticks": ""
            },
            "colorscale": [
             [
              0,
              "#0d0887"
             ],
             [
              0.1111111111111111,
              "#46039f"
             ],
             [
              0.2222222222222222,
              "#7201a8"
             ],
             [
              0.3333333333333333,
              "#9c179e"
             ],
             [
              0.4444444444444444,
              "#bd3786"
             ],
             [
              0.5555555555555556,
              "#d8576b"
             ],
             [
              0.6666666666666666,
              "#ed7953"
             ],
             [
              0.7777777777777778,
              "#fb9f3a"
             ],
             [
              0.8888888888888888,
              "#fdca26"
             ],
             [
              1,
              "#f0f921"
             ]
            ],
            "type": "histogram2d"
           }
          ],
          "histogram2dcontour": [
           {
            "colorbar": {
             "outlinewidth": 0,
             "ticks": ""
            },
            "colorscale": [
             [
              0,
              "#0d0887"
             ],
             [
              0.1111111111111111,
              "#46039f"
             ],
             [
              0.2222222222222222,
              "#7201a8"
             ],
             [
              0.3333333333333333,
              "#9c179e"
             ],
             [
              0.4444444444444444,
              "#bd3786"
             ],
             [
              0.5555555555555556,
              "#d8576b"
             ],
             [
              0.6666666666666666,
              "#ed7953"
             ],
             [
              0.7777777777777778,
              "#fb9f3a"
             ],
             [
              0.8888888888888888,
              "#fdca26"
             ],
             [
              1,
              "#f0f921"
             ]
            ],
            "type": "histogram2dcontour"
           }
          ],
          "mesh3d": [
           {
            "colorbar": {
             "outlinewidth": 0,
             "ticks": ""
            },
            "type": "mesh3d"
           }
          ],
          "parcoords": [
           {
            "line": {
             "colorbar": {
              "outlinewidth": 0,
              "ticks": ""
             }
            },
            "type": "parcoords"
           }
          ],
          "pie": [
           {
            "automargin": true,
            "type": "pie"
           }
          ],
          "scatter": [
           {
            "marker": {
             "colorbar": {
              "outlinewidth": 0,
              "ticks": ""
             }
            },
            "type": "scatter"
           }
          ],
          "scatter3d": [
           {
            "line": {
             "colorbar": {
              "outlinewidth": 0,
              "ticks": ""
             }
            },
            "marker": {
             "colorbar": {
              "outlinewidth": 0,
              "ticks": ""
             }
            },
            "type": "scatter3d"
           }
          ],
          "scattercarpet": [
           {
            "marker": {
             "colorbar": {
              "outlinewidth": 0,
              "ticks": ""
             }
            },
            "type": "scattercarpet"
           }
          ],
          "scattergeo": [
           {
            "marker": {
             "colorbar": {
              "outlinewidth": 0,
              "ticks": ""
             }
            },
            "type": "scattergeo"
           }
          ],
          "scattergl": [
           {
            "marker": {
             "colorbar": {
              "outlinewidth": 0,
              "ticks": ""
             }
            },
            "type": "scattergl"
           }
          ],
          "scattermapbox": [
           {
            "marker": {
             "colorbar": {
              "outlinewidth": 0,
              "ticks": ""
             }
            },
            "type": "scattermapbox"
           }
          ],
          "scatterpolar": [
           {
            "marker": {
             "colorbar": {
              "outlinewidth": 0,
              "ticks": ""
             }
            },
            "type": "scatterpolar"
           }
          ],
          "scatterpolargl": [
           {
            "marker": {
             "colorbar": {
              "outlinewidth": 0,
              "ticks": ""
             }
            },
            "type": "scatterpolargl"
           }
          ],
          "scatterternary": [
           {
            "marker": {
             "colorbar": {
              "outlinewidth": 0,
              "ticks": ""
             }
            },
            "type": "scatterternary"
           }
          ],
          "surface": [
           {
            "colorbar": {
             "outlinewidth": 0,
             "ticks": ""
            },
            "colorscale": [
             [
              0,
              "#0d0887"
             ],
             [
              0.1111111111111111,
              "#46039f"
             ],
             [
              0.2222222222222222,
              "#7201a8"
             ],
             [
              0.3333333333333333,
              "#9c179e"
             ],
             [
              0.4444444444444444,
              "#bd3786"
             ],
             [
              0.5555555555555556,
              "#d8576b"
             ],
             [
              0.6666666666666666,
              "#ed7953"
             ],
             [
              0.7777777777777778,
              "#fb9f3a"
             ],
             [
              0.8888888888888888,
              "#fdca26"
             ],
             [
              1,
              "#f0f921"
             ]
            ],
            "type": "surface"
           }
          ],
          "table": [
           {
            "cells": {
             "fill": {
              "color": "#EBF0F8"
             },
             "line": {
              "color": "white"
             }
            },
            "header": {
             "fill": {
              "color": "#C8D4E3"
             },
             "line": {
              "color": "white"
             }
            },
            "type": "table"
           }
          ]
         },
         "layout": {
          "annotationdefaults": {
           "arrowcolor": "#2a3f5f",
           "arrowhead": 0,
           "arrowwidth": 1
          },
          "autotypenumbers": "strict",
          "coloraxis": {
           "colorbar": {
            "outlinewidth": 0,
            "ticks": ""
           }
          },
          "colorscale": {
           "diverging": [
            [
             0,
             "#8e0152"
            ],
            [
             0.1,
             "#c51b7d"
            ],
            [
             0.2,
             "#de77ae"
            ],
            [
             0.3,
             "#f1b6da"
            ],
            [
             0.4,
             "#fde0ef"
            ],
            [
             0.5,
             "#f7f7f7"
            ],
            [
             0.6,
             "#e6f5d0"
            ],
            [
             0.7,
             "#b8e186"
            ],
            [
             0.8,
             "#7fbc41"
            ],
            [
             0.9,
             "#4d9221"
            ],
            [
             1,
             "#276419"
            ]
           ],
           "sequential": [
            [
             0,
             "#0d0887"
            ],
            [
             0.1111111111111111,
             "#46039f"
            ],
            [
             0.2222222222222222,
             "#7201a8"
            ],
            [
             0.3333333333333333,
             "#9c179e"
            ],
            [
             0.4444444444444444,
             "#bd3786"
            ],
            [
             0.5555555555555556,
             "#d8576b"
            ],
            [
             0.6666666666666666,
             "#ed7953"
            ],
            [
             0.7777777777777778,
             "#fb9f3a"
            ],
            [
             0.8888888888888888,
             "#fdca26"
            ],
            [
             1,
             "#f0f921"
            ]
           ],
           "sequentialminus": [
            [
             0,
             "#0d0887"
            ],
            [
             0.1111111111111111,
             "#46039f"
            ],
            [
             0.2222222222222222,
             "#7201a8"
            ],
            [
             0.3333333333333333,
             "#9c179e"
            ],
            [
             0.4444444444444444,
             "#bd3786"
            ],
            [
             0.5555555555555556,
             "#d8576b"
            ],
            [
             0.6666666666666666,
             "#ed7953"
            ],
            [
             0.7777777777777778,
             "#fb9f3a"
            ],
            [
             0.8888888888888888,
             "#fdca26"
            ],
            [
             1,
             "#f0f921"
            ]
           ]
          },
          "colorway": [
           "#636efa",
           "#EF553B",
           "#00cc96",
           "#ab63fa",
           "#FFA15A",
           "#19d3f3",
           "#FF6692",
           "#B6E880",
           "#FF97FF",
           "#FECB52"
          ],
          "font": {
           "color": "#2a3f5f"
          },
          "geo": {
           "bgcolor": "white",
           "lakecolor": "white",
           "landcolor": "#E5ECF6",
           "showlakes": true,
           "showland": true,
           "subunitcolor": "white"
          },
          "hoverlabel": {
           "align": "left"
          },
          "hovermode": "closest",
          "mapbox": {
           "style": "light"
          },
          "paper_bgcolor": "white",
          "plot_bgcolor": "#E5ECF6",
          "polar": {
           "angularaxis": {
            "gridcolor": "white",
            "linecolor": "white",
            "ticks": ""
           },
           "bgcolor": "#E5ECF6",
           "radialaxis": {
            "gridcolor": "white",
            "linecolor": "white",
            "ticks": ""
           }
          },
          "scene": {
           "xaxis": {
            "backgroundcolor": "#E5ECF6",
            "gridcolor": "white",
            "gridwidth": 2,
            "linecolor": "white",
            "showbackground": true,
            "ticks": "",
            "zerolinecolor": "white"
           },
           "yaxis": {
            "backgroundcolor": "#E5ECF6",
            "gridcolor": "white",
            "gridwidth": 2,
            "linecolor": "white",
            "showbackground": true,
            "ticks": "",
            "zerolinecolor": "white"
           },
           "zaxis": {
            "backgroundcolor": "#E5ECF6",
            "gridcolor": "white",
            "gridwidth": 2,
            "linecolor": "white",
            "showbackground": true,
            "ticks": "",
            "zerolinecolor": "white"
           }
          },
          "shapedefaults": {
           "line": {
            "color": "#2a3f5f"
           }
          },
          "ternary": {
           "aaxis": {
            "gridcolor": "white",
            "linecolor": "white",
            "ticks": ""
           },
           "baxis": {
            "gridcolor": "white",
            "linecolor": "white",
            "ticks": ""
           },
           "bgcolor": "#E5ECF6",
           "caxis": {
            "gridcolor": "white",
            "linecolor": "white",
            "ticks": ""
           }
          },
          "title": {
           "x": 0.05
          },
          "xaxis": {
           "automargin": true,
           "gridcolor": "white",
           "linecolor": "white",
           "ticks": "",
           "title": {
            "standoff": 15
           },
           "zerolinecolor": "white",
           "zerolinewidth": 2
          },
          "yaxis": {
           "automargin": true,
           "gridcolor": "white",
           "linecolor": "white",
           "ticks": "",
           "title": {
            "standoff": 15
           },
           "zerolinecolor": "white",
           "zerolinewidth": 2
          }
         }
        },
        "title": {
         "text": "Distribution of intented career fields"
        },
        "xaxis": {
         "anchor": "y",
         "domain": [
          0,
          1
         ],
         "title": {
          "text": "count"
         }
        },
        "yaxis": {
         "anchor": "x",
         "domain": [
          0,
          1
         ],
         "title": {
          "text": "career_c_category"
         }
        }
       }
      }
     },
     "metadata": {},
     "output_type": "display_data"
    }
   ],
   "source": [
    "fig4 = px.histogram(df_unique_id, y = 'career_c_category', color='gender_category', title=\"Distribution of intented career fields\")\n",
    "fig4.show()"
   ]
  },
  {
   "cell_type": "code",
   "execution_count": 21,
   "metadata": {},
   "outputs": [
    {
     "data": {
      "application/vnd.plotly.v1+json": {
       "config": {
        "plotlyServerURL": "https://plot.ly"
       },
       "data": [
        {
         "alignmentgroup": "True",
         "bingroup": "y",
         "hovertemplate": "gender_category=female<br>count=%{x}<br>field_cd_category=%{y}<extra></extra>",
         "legendgroup": "female",
         "marker": {
          "color": "#636efa",
          "pattern": {
           "shape": ""
          }
         },
         "name": "female",
         "offsetgroup": "female",
         "orientation": "h",
         "showlegend": true,
         "type": "histogram",
         "xaxis": "x",
         "y": [
          "Law",
          "Law",
          "Math",
          "Law",
          "Law",
          "Law",
          "Law",
          "Political Science/International Affairs",
          "Political Science/International Affairs",
          "Political Science/International Affairs",
          "Engineering",
          "Education/Academia",
          "Social Science, Psychologist",
          "Social Work",
          "Social Work",
          "Social Work",
          "Social Science, Psychologist",
          "Social Science, Psychologist",
          "Social Work",
          "Law",
          "Law",
          "Social Science, Psychologist",
          "Social Science, Psychologist",
          "Business/Econ/Finance",
          "Math",
          "Math",
          "Social Science, Psychologist",
          "Law",
          "Law",
          "Social Work",
          "Social Work",
          "not specified",
          "not specified",
          "Social Science, Psychologist",
          "History/Religion/Philosophy",
          "Law",
          "Law",
          "Social Work",
          "Social Work",
          "English/Creative Writting/Journalism",
          "Social Work",
          "Social Work",
          "Engineering",
          "Biological Sciences/Chemistry/Physics",
          "English/Creative Writting/Journalism",
          "Education/Academia",
          "Business/Econ/Finance",
          "Biological Sciences/Chemistry/Physics",
          "Social Work",
          "Social Science, Psychologist",
          "Social Work",
          "Social Work",
          "Business/Econ/Finance",
          "Biological Sciences/Chemistry/Physics",
          "Law",
          "Education/Academia",
          "Engineering",
          "Social Science, Psychologist",
          "Business/Econ/Finance",
          "Business/Econ/Finance",
          "Social Science, Psychologist",
          "Political Science/International Affairs",
          "Business/Econ/Finance",
          "Fine Arts/Arts Administration",
          "English/Creative Writting/Journalism",
          "Social Science, Psychologist",
          "Business/Econ/Finance",
          "Engineering",
          "Biological Sciences/Chemistry/Physics",
          "Social Science, Psychologist",
          "not specified",
          "Political Science/International Affairs",
          "Law",
          "Biological Sciences/Chemistry/Physics",
          "Biological Sciences/Chemistry/Physics",
          "English/Creative Writting/Journalism",
          "Business/Econ/Finance",
          "Business/Econ/Finance",
          "Political Science/International Affairs",
          "History/Religion/Philosophy",
          "Political Science/International Affairs",
          "Political Science/International Affairs",
          "History/Religion/Philosophy",
          "Business/Econ/Finance",
          "Business/Econ/Finance",
          "Business/Econ/Finance",
          "Business/Econ/Finance",
          "Business/Econ/Finance",
          "Political Science/International Affairs",
          "Business/Econ/Finance",
          "Political Science/International Affairs",
          "Social Science, Psychologist",
          "English/Creative Writting/Journalism",
          "Business/Econ/Finance",
          "Medical Science, Pharmaceuticals, and Bio Tech",
          "Medical Science, Pharmaceuticals, and Bio Tech",
          "Social Work",
          "Social Science, Psychologist",
          "Biological Sciences/Chemistry/Physics",
          "History/Religion/Philosophy",
          "Political Science/International Affairs",
          "Political Science/International Affairs",
          "History/Religion/Philosophy",
          "Business/Econ/Finance",
          "Business/Econ/Finance",
          "Math",
          "Math",
          "Business/Econ/Finance",
          "Biological Sciences/Chemistry/Physics",
          "Business/Econ/Finance",
          "Biological Sciences/Chemistry/Physics",
          "Biological Sciences/Chemistry/Physics",
          "Political Science/International Affairs",
          "Biological Sciences/Chemistry/Physics",
          "Political Science/International Affairs",
          "Business/Econ/Finance",
          "Political Science/International Affairs",
          "Social Science, Psychologist",
          "Education/Academia",
          "Biological Sciences/Chemistry/Physics",
          "History/Religion/Philosophy",
          "Other",
          "Biological Sciences/Chemistry/Physics",
          "Business/Econ/Finance",
          "Business/Econ/Finance",
          "Social Science, Psychologist",
          "Political Science/International Affairs",
          "Social Science, Psychologist",
          "History/Religion/Philosophy",
          "Biological Sciences/Chemistry/Physics",
          "Medical Science, Pharmaceuticals, and Bio Tech",
          "Education/Academia",
          "Education/Academia",
          "Biological Sciences/Chemistry/Physics",
          "Biological Sciences/Chemistry/Physics",
          "Biological Sciences/Chemistry/Physics",
          "Social Science, Psychologist",
          "Social Science, Psychologist",
          "English/Creative Writting/Journalism",
          "Law",
          "Fine Arts/Arts Administration",
          "Biological Sciences/Chemistry/Physics",
          "Medical Science, Pharmaceuticals, and Bio Tech",
          "History/Religion/Philosophy",
          "Biological Sciences/Chemistry/Physics",
          "Social Work",
          "Social Work",
          "Education/Academia",
          "Education/Academia",
          "Education/Academia",
          "Education/Academia",
          "English/Creative Writting/Journalism",
          "Social Work",
          "Social Science, Psychologist",
          "Education/Academia",
          "Social Science, Psychologist",
          "Education/Academia",
          "Social Science, Psychologist",
          "Education/Academia",
          "Education/Academia",
          "Education/Academia",
          "Social Science, Psychologist",
          "Engineering",
          "Social Science, Psychologist",
          "Social Science, Psychologist",
          "Education/Academia",
          "Political Science/International Affairs",
          "Education/Academia",
          "Education/Academia",
          "Engineering",
          "Education/Academia",
          "Political Science/International Affairs",
          "Education/Academia",
          "Biological Sciences/Chemistry/Physics",
          "Political Science/International Affairs",
          "Biological Sciences/Chemistry/Physics",
          "not specified",
          "Education/Academia",
          "Education/Academia",
          "Social Science, Psychologist",
          "Biological Sciences/Chemistry/Physics",
          "Education/Academia",
          "Education/Academia",
          "Education/Academia",
          "Social Science, Psychologist",
          "Social Science, Psychologist",
          "Social Science, Psychologist",
          "Education/Academia",
          "Business/Econ/Finance",
          "English/Creative Writting/Journalism",
          "Social Science, Psychologist",
          "Business/Econ/Finance",
          "Film",
          "Film",
          "Film",
          "Education/Academia",
          "Education/Academia",
          "Education/Academia",
          "Social Science, Psychologist",
          "Social Science, Psychologist",
          "Social Science, Psychologist",
          "Law",
          "Education/Academia",
          "English/Creative Writting/Journalism",
          "English/Creative Writting/Journalism",
          "English/Creative Writting/Journalism",
          "English/Creative Writting/Journalism",
          "English/Creative Writting/Journalism",
          "Other",
          "Social Science, Psychologist",
          "Social Science, Psychologist",
          "Law",
          "Social Work",
          "Social Work",
          "Social Work",
          "Education/Academia",
          "Education/Academia",
          "Social Work",
          "Other",
          "Social Work",
          "Law",
          "Law",
          "Social Work",
          "Social Work",
          "Education/Academia",
          "Other",
          "Biological Sciences/Chemistry/Physics",
          "Business/Econ/Finance",
          "English/Creative Writting/Journalism",
          "Business/Econ/Finance",
          "Business/Econ/Finance"
         ],
         "yaxis": "y"
        },
        {
         "alignmentgroup": "True",
         "bingroup": "y",
         "hovertemplate": "gender_category=male<br>count=%{x}<br>field_cd_category=%{y}<extra></extra>",
         "legendgroup": "male",
         "marker": {
          "color": "#EF553B",
          "pattern": {
           "shape": ""
          }
         },
         "name": "male",
         "offsetgroup": "male",
         "orientation": "h",
         "showlegend": true,
         "type": "histogram",
         "xaxis": "x",
         "y": [
          "Business/Econ/Finance",
          "Law",
          "Law",
          "Law",
          "Law",
          "Business/Econ/Finance",
          "Political Science/International Affairs",
          "Business/Econ/Finance",
          "Business/Econ/Finance",
          "Business/Econ/Finance",
          "not specified",
          "Law",
          "Engineering",
          "Business/Econ/Finance",
          "Social Science, Psychologist",
          "Business/Econ/Finance",
          "Business/Econ/Finance",
          "Business/Econ/Finance",
          "Undergrad/undecided",
          "Business/Econ/Finance",
          "Law",
          "Law",
          "Law",
          "Medical Science, Pharmaceuticals, and Bio Tech",
          "Business/Econ/Finance",
          "Law",
          "Business/Econ/Finance",
          "Law",
          "English/Creative Writting/Journalism",
          "Business/Econ/Finance",
          "Business/Econ/Finance",
          "Law",
          "Engineering",
          "Business/Econ/Finance",
          "Engineering",
          "Law",
          "Business/Econ/Finance",
          "Business/Econ/Finance",
          "Engineering",
          "Biological Sciences/Chemistry/Physics",
          "Social Work",
          "Law",
          "Business/Econ/Finance",
          "Business/Econ/Finance",
          "Biological Sciences/Chemistry/Physics",
          "Business/Econ/Finance",
          "Biological Sciences/Chemistry/Physics",
          "Law",
          "Law",
          "History/Religion/Philosophy",
          "Engineering",
          "Film",
          "Film",
          "Business/Econ/Finance",
          "Law",
          "Engineering",
          "Business/Econ/Finance",
          "Medical Science, Pharmaceuticals, and Bio Tech",
          "History/Religion/Philosophy",
          "Engineering",
          "Engineering",
          "Business/Econ/Finance",
          "Engineering",
          "Engineering",
          "Business/Econ/Finance",
          "Business/Econ/Finance",
          "Engineering",
          "Business/Econ/Finance",
          "Business/Econ/Finance",
          "Biological Sciences/Chemistry/Physics",
          "Biological Sciences/Chemistry/Physics",
          "Business/Econ/Finance",
          "Biological Sciences/Chemistry/Physics",
          "Biological Sciences/Chemistry/Physics",
          "Education/Academia",
          "History/Religion/Philosophy",
          "Political Science/International Affairs",
          "Business/Econ/Finance",
          "Biological Sciences/Chemistry/Physics",
          "Biological Sciences/Chemistry/Physics",
          "Biological Sciences/Chemistry/Physics",
          "Biological Sciences/Chemistry/Physics",
          "Business/Econ/Finance",
          "Business/Econ/Finance",
          "Math",
          "Business/Econ/Finance",
          "Math",
          "Engineering",
          "Business/Econ/Finance",
          "Engineering",
          "Law",
          "Political Science/International Affairs",
          "Business/Econ/Finance",
          "Business/Econ/Finance",
          "Law",
          "Biological Sciences/Chemistry/Physics",
          "Business/Econ/Finance",
          "Business/Econ/Finance",
          "Biological Sciences/Chemistry/Physics",
          "Biological Sciences/Chemistry/Physics",
          "Business/Econ/Finance",
          "Political Science/International Affairs",
          "Business/Econ/Finance",
          "Math",
          "History/Religion/Philosophy",
          "Social Science, Psychologist",
          "Business/Econ/Finance",
          "Business/Econ/Finance",
          "Business/Econ/Finance",
          "Biological Sciences/Chemistry/Physics",
          "Biological Sciences/Chemistry/Physics",
          "Political Science/International Affairs",
          "Political Science/International Affairs",
          "Political Science/International Affairs",
          "Political Science/International Affairs",
          "Fine Arts/Arts Administration",
          "Business/Econ/Finance",
          "History/Religion/Philosophy",
          "Biological Sciences/Chemistry/Physics",
          "Biological Sciences/Chemistry/Physics",
          "Business/Econ/Finance",
          "Business/Econ/Finance",
          "English/Creative Writting/Journalism",
          "History/Religion/Philosophy",
          "Biological Sciences/Chemistry/Physics",
          "Social Science, Psychologist",
          "Engineering",
          "Biological Sciences/Chemistry/Physics",
          "Biological Sciences/Chemistry/Physics",
          "Engineering",
          "Biological Sciences/Chemistry/Physics",
          "Biological Sciences/Chemistry/Physics",
          "Social Science, Psychologist",
          "Engineering",
          "Engineering",
          "Business/Econ/Finance",
          "Engineering",
          "Math",
          "Political Science/International Affairs",
          "Social Science, Psychologist",
          "Business/Econ/Finance",
          "Biological Sciences/Chemistry/Physics",
          "Biological Sciences/Chemistry/Physics",
          "Political Science/International Affairs",
          "Business/Econ/Finance",
          "Education/Academia",
          "Education/Academia",
          "Engineering",
          "Business/Econ/Finance",
          "Other",
          "Business/Econ/Finance",
          "Political Science/International Affairs",
          "Engineering",
          "Business/Econ/Finance",
          "Business/Econ/Finance",
          "Business/Econ/Finance",
          "Education/Academia",
          "History/Religion/Philosophy",
          "Business/Econ/Finance",
          "Social Science, Psychologist",
          "Business/Econ/Finance",
          "Business/Econ/Finance",
          "Social Science, Psychologist",
          "Languages",
          "Engineering",
          "Engineering",
          "not specified",
          "not specified",
          "Law",
          "Law",
          "Engineering",
          "Business/Econ/Finance",
          "Business/Econ/Finance",
          "Business/Econ/Finance",
          "Political Science/International Affairs",
          "Political Science/International Affairs",
          "Social Science, Psychologist",
          "Business/Econ/Finance",
          "Business/Econ/Finance",
          "Business/Econ/Finance",
          "Business/Econ/Finance",
          "Business/Econ/Finance",
          "Business/Econ/Finance",
          "Business/Econ/Finance",
          "Business/Econ/Finance",
          "Business/Econ/Finance",
          "Law",
          "Business/Econ/Finance",
          "Business/Econ/Finance",
          "Business/Econ/Finance",
          "Business/Econ/Finance",
          "Math",
          "Engineering",
          "Engineering",
          "Political Science/International Affairs",
          "Business/Econ/Finance",
          "Film",
          "Political Science/International Affairs",
          "Engineering",
          "Business/Econ/Finance",
          "Business/Econ/Finance",
          "Business/Econ/Finance",
          "Business/Econ/Finance",
          "Business/Econ/Finance",
          "Business/Econ/Finance",
          "Business/Econ/Finance",
          "Business/Econ/Finance",
          "Engineering",
          "Business/Econ/Finance",
          "Business/Econ/Finance",
          "Political Science/International Affairs",
          "Business/Econ/Finance",
          "Business/Econ/Finance",
          "Law",
          "Law",
          "Law",
          "Political Science/International Affairs",
          "Business/Econ/Finance",
          "Political Science/International Affairs",
          "Business/Econ/Finance",
          "Political Science/International Affairs",
          "Law",
          "Law",
          "Political Science/International Affairs",
          "Business/Econ/Finance",
          "Business/Econ/Finance",
          "Law"
         ],
         "yaxis": "y"
        }
       ],
       "layout": {
        "barmode": "relative",
        "legend": {
         "title": {
          "text": "gender_category"
         },
         "tracegroupgap": 0
        },
        "template": {
         "data": {
          "bar": [
           {
            "error_x": {
             "color": "#2a3f5f"
            },
            "error_y": {
             "color": "#2a3f5f"
            },
            "marker": {
             "line": {
              "color": "#E5ECF6",
              "width": 0.5
             },
             "pattern": {
              "fillmode": "overlay",
              "size": 10,
              "solidity": 0.2
             }
            },
            "type": "bar"
           }
          ],
          "barpolar": [
           {
            "marker": {
             "line": {
              "color": "#E5ECF6",
              "width": 0.5
             },
             "pattern": {
              "fillmode": "overlay",
              "size": 10,
              "solidity": 0.2
             }
            },
            "type": "barpolar"
           }
          ],
          "carpet": [
           {
            "aaxis": {
             "endlinecolor": "#2a3f5f",
             "gridcolor": "white",
             "linecolor": "white",
             "minorgridcolor": "white",
             "startlinecolor": "#2a3f5f"
            },
            "baxis": {
             "endlinecolor": "#2a3f5f",
             "gridcolor": "white",
             "linecolor": "white",
             "minorgridcolor": "white",
             "startlinecolor": "#2a3f5f"
            },
            "type": "carpet"
           }
          ],
          "choropleth": [
           {
            "colorbar": {
             "outlinewidth": 0,
             "ticks": ""
            },
            "type": "choropleth"
           }
          ],
          "contour": [
           {
            "colorbar": {
             "outlinewidth": 0,
             "ticks": ""
            },
            "colorscale": [
             [
              0,
              "#0d0887"
             ],
             [
              0.1111111111111111,
              "#46039f"
             ],
             [
              0.2222222222222222,
              "#7201a8"
             ],
             [
              0.3333333333333333,
              "#9c179e"
             ],
             [
              0.4444444444444444,
              "#bd3786"
             ],
             [
              0.5555555555555556,
              "#d8576b"
             ],
             [
              0.6666666666666666,
              "#ed7953"
             ],
             [
              0.7777777777777778,
              "#fb9f3a"
             ],
             [
              0.8888888888888888,
              "#fdca26"
             ],
             [
              1,
              "#f0f921"
             ]
            ],
            "type": "contour"
           }
          ],
          "contourcarpet": [
           {
            "colorbar": {
             "outlinewidth": 0,
             "ticks": ""
            },
            "type": "contourcarpet"
           }
          ],
          "heatmap": [
           {
            "colorbar": {
             "outlinewidth": 0,
             "ticks": ""
            },
            "colorscale": [
             [
              0,
              "#0d0887"
             ],
             [
              0.1111111111111111,
              "#46039f"
             ],
             [
              0.2222222222222222,
              "#7201a8"
             ],
             [
              0.3333333333333333,
              "#9c179e"
             ],
             [
              0.4444444444444444,
              "#bd3786"
             ],
             [
              0.5555555555555556,
              "#d8576b"
             ],
             [
              0.6666666666666666,
              "#ed7953"
             ],
             [
              0.7777777777777778,
              "#fb9f3a"
             ],
             [
              0.8888888888888888,
              "#fdca26"
             ],
             [
              1,
              "#f0f921"
             ]
            ],
            "type": "heatmap"
           }
          ],
          "heatmapgl": [
           {
            "colorbar": {
             "outlinewidth": 0,
             "ticks": ""
            },
            "colorscale": [
             [
              0,
              "#0d0887"
             ],
             [
              0.1111111111111111,
              "#46039f"
             ],
             [
              0.2222222222222222,
              "#7201a8"
             ],
             [
              0.3333333333333333,
              "#9c179e"
             ],
             [
              0.4444444444444444,
              "#bd3786"
             ],
             [
              0.5555555555555556,
              "#d8576b"
             ],
             [
              0.6666666666666666,
              "#ed7953"
             ],
             [
              0.7777777777777778,
              "#fb9f3a"
             ],
             [
              0.8888888888888888,
              "#fdca26"
             ],
             [
              1,
              "#f0f921"
             ]
            ],
            "type": "heatmapgl"
           }
          ],
          "histogram": [
           {
            "marker": {
             "pattern": {
              "fillmode": "overlay",
              "size": 10,
              "solidity": 0.2
             }
            },
            "type": "histogram"
           }
          ],
          "histogram2d": [
           {
            "colorbar": {
             "outlinewidth": 0,
             "ticks": ""
            },
            "colorscale": [
             [
              0,
              "#0d0887"
             ],
             [
              0.1111111111111111,
              "#46039f"
             ],
             [
              0.2222222222222222,
              "#7201a8"
             ],
             [
              0.3333333333333333,
              "#9c179e"
             ],
             [
              0.4444444444444444,
              "#bd3786"
             ],
             [
              0.5555555555555556,
              "#d8576b"
             ],
             [
              0.6666666666666666,
              "#ed7953"
             ],
             [
              0.7777777777777778,
              "#fb9f3a"
             ],
             [
              0.8888888888888888,
              "#fdca26"
             ],
             [
              1,
              "#f0f921"
             ]
            ],
            "type": "histogram2d"
           }
          ],
          "histogram2dcontour": [
           {
            "colorbar": {
             "outlinewidth": 0,
             "ticks": ""
            },
            "colorscale": [
             [
              0,
              "#0d0887"
             ],
             [
              0.1111111111111111,
              "#46039f"
             ],
             [
              0.2222222222222222,
              "#7201a8"
             ],
             [
              0.3333333333333333,
              "#9c179e"
             ],
             [
              0.4444444444444444,
              "#bd3786"
             ],
             [
              0.5555555555555556,
              "#d8576b"
             ],
             [
              0.6666666666666666,
              "#ed7953"
             ],
             [
              0.7777777777777778,
              "#fb9f3a"
             ],
             [
              0.8888888888888888,
              "#fdca26"
             ],
             [
              1,
              "#f0f921"
             ]
            ],
            "type": "histogram2dcontour"
           }
          ],
          "mesh3d": [
           {
            "colorbar": {
             "outlinewidth": 0,
             "ticks": ""
            },
            "type": "mesh3d"
           }
          ],
          "parcoords": [
           {
            "line": {
             "colorbar": {
              "outlinewidth": 0,
              "ticks": ""
             }
            },
            "type": "parcoords"
           }
          ],
          "pie": [
           {
            "automargin": true,
            "type": "pie"
           }
          ],
          "scatter": [
           {
            "marker": {
             "colorbar": {
              "outlinewidth": 0,
              "ticks": ""
             }
            },
            "type": "scatter"
           }
          ],
          "scatter3d": [
           {
            "line": {
             "colorbar": {
              "outlinewidth": 0,
              "ticks": ""
             }
            },
            "marker": {
             "colorbar": {
              "outlinewidth": 0,
              "ticks": ""
             }
            },
            "type": "scatter3d"
           }
          ],
          "scattercarpet": [
           {
            "marker": {
             "colorbar": {
              "outlinewidth": 0,
              "ticks": ""
             }
            },
            "type": "scattercarpet"
           }
          ],
          "scattergeo": [
           {
            "marker": {
             "colorbar": {
              "outlinewidth": 0,
              "ticks": ""
             }
            },
            "type": "scattergeo"
           }
          ],
          "scattergl": [
           {
            "marker": {
             "colorbar": {
              "outlinewidth": 0,
              "ticks": ""
             }
            },
            "type": "scattergl"
           }
          ],
          "scattermapbox": [
           {
            "marker": {
             "colorbar": {
              "outlinewidth": 0,
              "ticks": ""
             }
            },
            "type": "scattermapbox"
           }
          ],
          "scatterpolar": [
           {
            "marker": {
             "colorbar": {
              "outlinewidth": 0,
              "ticks": ""
             }
            },
            "type": "scatterpolar"
           }
          ],
          "scatterpolargl": [
           {
            "marker": {
             "colorbar": {
              "outlinewidth": 0,
              "ticks": ""
             }
            },
            "type": "scatterpolargl"
           }
          ],
          "scatterternary": [
           {
            "marker": {
             "colorbar": {
              "outlinewidth": 0,
              "ticks": ""
             }
            },
            "type": "scatterternary"
           }
          ],
          "surface": [
           {
            "colorbar": {
             "outlinewidth": 0,
             "ticks": ""
            },
            "colorscale": [
             [
              0,
              "#0d0887"
             ],
             [
              0.1111111111111111,
              "#46039f"
             ],
             [
              0.2222222222222222,
              "#7201a8"
             ],
             [
              0.3333333333333333,
              "#9c179e"
             ],
             [
              0.4444444444444444,
              "#bd3786"
             ],
             [
              0.5555555555555556,
              "#d8576b"
             ],
             [
              0.6666666666666666,
              "#ed7953"
             ],
             [
              0.7777777777777778,
              "#fb9f3a"
             ],
             [
              0.8888888888888888,
              "#fdca26"
             ],
             [
              1,
              "#f0f921"
             ]
            ],
            "type": "surface"
           }
          ],
          "table": [
           {
            "cells": {
             "fill": {
              "color": "#EBF0F8"
             },
             "line": {
              "color": "white"
             }
            },
            "header": {
             "fill": {
              "color": "#C8D4E3"
             },
             "line": {
              "color": "white"
             }
            },
            "type": "table"
           }
          ]
         },
         "layout": {
          "annotationdefaults": {
           "arrowcolor": "#2a3f5f",
           "arrowhead": 0,
           "arrowwidth": 1
          },
          "autotypenumbers": "strict",
          "coloraxis": {
           "colorbar": {
            "outlinewidth": 0,
            "ticks": ""
           }
          },
          "colorscale": {
           "diverging": [
            [
             0,
             "#8e0152"
            ],
            [
             0.1,
             "#c51b7d"
            ],
            [
             0.2,
             "#de77ae"
            ],
            [
             0.3,
             "#f1b6da"
            ],
            [
             0.4,
             "#fde0ef"
            ],
            [
             0.5,
             "#f7f7f7"
            ],
            [
             0.6,
             "#e6f5d0"
            ],
            [
             0.7,
             "#b8e186"
            ],
            [
             0.8,
             "#7fbc41"
            ],
            [
             0.9,
             "#4d9221"
            ],
            [
             1,
             "#276419"
            ]
           ],
           "sequential": [
            [
             0,
             "#0d0887"
            ],
            [
             0.1111111111111111,
             "#46039f"
            ],
            [
             0.2222222222222222,
             "#7201a8"
            ],
            [
             0.3333333333333333,
             "#9c179e"
            ],
            [
             0.4444444444444444,
             "#bd3786"
            ],
            [
             0.5555555555555556,
             "#d8576b"
            ],
            [
             0.6666666666666666,
             "#ed7953"
            ],
            [
             0.7777777777777778,
             "#fb9f3a"
            ],
            [
             0.8888888888888888,
             "#fdca26"
            ],
            [
             1,
             "#f0f921"
            ]
           ],
           "sequentialminus": [
            [
             0,
             "#0d0887"
            ],
            [
             0.1111111111111111,
             "#46039f"
            ],
            [
             0.2222222222222222,
             "#7201a8"
            ],
            [
             0.3333333333333333,
             "#9c179e"
            ],
            [
             0.4444444444444444,
             "#bd3786"
            ],
            [
             0.5555555555555556,
             "#d8576b"
            ],
            [
             0.6666666666666666,
             "#ed7953"
            ],
            [
             0.7777777777777778,
             "#fb9f3a"
            ],
            [
             0.8888888888888888,
             "#fdca26"
            ],
            [
             1,
             "#f0f921"
            ]
           ]
          },
          "colorway": [
           "#636efa",
           "#EF553B",
           "#00cc96",
           "#ab63fa",
           "#FFA15A",
           "#19d3f3",
           "#FF6692",
           "#B6E880",
           "#FF97FF",
           "#FECB52"
          ],
          "font": {
           "color": "#2a3f5f"
          },
          "geo": {
           "bgcolor": "white",
           "lakecolor": "white",
           "landcolor": "#E5ECF6",
           "showlakes": true,
           "showland": true,
           "subunitcolor": "white"
          },
          "hoverlabel": {
           "align": "left"
          },
          "hovermode": "closest",
          "mapbox": {
           "style": "light"
          },
          "paper_bgcolor": "white",
          "plot_bgcolor": "#E5ECF6",
          "polar": {
           "angularaxis": {
            "gridcolor": "white",
            "linecolor": "white",
            "ticks": ""
           },
           "bgcolor": "#E5ECF6",
           "radialaxis": {
            "gridcolor": "white",
            "linecolor": "white",
            "ticks": ""
           }
          },
          "scene": {
           "xaxis": {
            "backgroundcolor": "#E5ECF6",
            "gridcolor": "white",
            "gridwidth": 2,
            "linecolor": "white",
            "showbackground": true,
            "ticks": "",
            "zerolinecolor": "white"
           },
           "yaxis": {
            "backgroundcolor": "#E5ECF6",
            "gridcolor": "white",
            "gridwidth": 2,
            "linecolor": "white",
            "showbackground": true,
            "ticks": "",
            "zerolinecolor": "white"
           },
           "zaxis": {
            "backgroundcolor": "#E5ECF6",
            "gridcolor": "white",
            "gridwidth": 2,
            "linecolor": "white",
            "showbackground": true,
            "ticks": "",
            "zerolinecolor": "white"
           }
          },
          "shapedefaults": {
           "line": {
            "color": "#2a3f5f"
           }
          },
          "ternary": {
           "aaxis": {
            "gridcolor": "white",
            "linecolor": "white",
            "ticks": ""
           },
           "baxis": {
            "gridcolor": "white",
            "linecolor": "white",
            "ticks": ""
           },
           "bgcolor": "#E5ECF6",
           "caxis": {
            "gridcolor": "white",
            "linecolor": "white",
            "ticks": ""
           }
          },
          "title": {
           "x": 0.05
          },
          "xaxis": {
           "automargin": true,
           "gridcolor": "white",
           "linecolor": "white",
           "ticks": "",
           "title": {
            "standoff": 15
           },
           "zerolinecolor": "white",
           "zerolinewidth": 2
          },
          "yaxis": {
           "automargin": true,
           "gridcolor": "white",
           "linecolor": "white",
           "ticks": "",
           "title": {
            "standoff": 15
           },
           "zerolinecolor": "white",
           "zerolinewidth": 2
          }
         }
        },
        "title": {
         "text": "Distribution of fields of study"
        },
        "xaxis": {
         "anchor": "y",
         "domain": [
          0,
          1
         ],
         "title": {
          "text": "count"
         }
        },
        "yaxis": {
         "anchor": "x",
         "domain": [
          0,
          1
         ],
         "title": {
          "text": "field_cd_category"
         }
        }
       }
      }
     },
     "metadata": {},
     "output_type": "display_data"
    }
   ],
   "source": [
    "fig5 = px.histogram(df_unique_id, y = 'field_cd_category', color='gender_category', title=\"Distribution of fields of study\")\n",
    "fig5.show()"
   ]
  },
  {
   "cell_type": "markdown",
   "metadata": {},
   "source": [
    "**What do participants look for in the opposite sex ?**"
   ]
  },
  {
   "cell_type": "code",
   "execution_count": 22,
   "metadata": {},
   "outputs": [],
   "source": [
    "df_cleaned = df[~df['wave'].isin([6, 7, 8, 9])] \n",
    "# Wave 6-9, please rate the importance of the following attributes in a potential date on a scale of 1-10 (1=not at all important, 10=extremely important)\n",
    "# Waves 1-5, 10-21: You have 100 points to distribute among the following attributes --\n",
    "# give more points to those attributes that are more important in a potential date, \n",
    "# and fewer points to those attributes that are less important in a potential date. Total points must equal 100.\n",
    "\n",
    "mask_female = df_cleaned['gender'] == 0\n",
    "attributes1_1_female = df_cleaned.loc[mask_female, ['attr1_1', 'sinc1_1', 'intel1_1', 'fun1_1', 'amb1_1', 'shar1_1']].mean()\n",
    "\n",
    "mask_male = df_cleaned['gender'] == 1\n",
    "attributes1_1_male = df_cleaned.loc[mask_male, ['attr1_1', 'sinc1_1', 'intel1_1', 'fun1_1', 'amb1_1', 'shar1_1']].mean()"
   ]
  },
  {
   "cell_type": "code",
   "execution_count": 23,
   "metadata": {},
   "outputs": [
    {
     "data": {
      "application/vnd.plotly.v1+json": {
       "config": {
        "plotlyServerURL": "https://plot.ly"
       },
       "data": [
        {
         "fill": "toself",
         "name": "male",
         "r": [
          29.60187260168843,
          16.244819646968512,
          19.492225633154277,
          17.42687981510015,
          7.379489559164739,
          10.329961330239739
         ],
         "theta": [
          "attr1_1",
          "sinc1_1",
          "intel1_1",
          "fun1_1",
          "amb1_1",
          "shar1_1"
         ],
         "type": "scatterpolar"
        },
        {
         "fill": "toself",
         "name": "female",
         "r": [
          18.555886661526586,
          18.385069390902068,
          21.805231303006924,
          16.99725134926753,
          12.508045489591366,
          11.748639167309175
         ],
         "theta": [
          "attr1_1",
          "sinc1_1",
          "intel1_1",
          "fun1_1",
          "amb1_1",
          "shar1_1"
         ],
         "type": "scatterpolar"
        }
       ],
       "layout": {
        "template": {
         "data": {
          "bar": [
           {
            "error_x": {
             "color": "#2a3f5f"
            },
            "error_y": {
             "color": "#2a3f5f"
            },
            "marker": {
             "line": {
              "color": "#E5ECF6",
              "width": 0.5
             },
             "pattern": {
              "fillmode": "overlay",
              "size": 10,
              "solidity": 0.2
             }
            },
            "type": "bar"
           }
          ],
          "barpolar": [
           {
            "marker": {
             "line": {
              "color": "#E5ECF6",
              "width": 0.5
             },
             "pattern": {
              "fillmode": "overlay",
              "size": 10,
              "solidity": 0.2
             }
            },
            "type": "barpolar"
           }
          ],
          "carpet": [
           {
            "aaxis": {
             "endlinecolor": "#2a3f5f",
             "gridcolor": "white",
             "linecolor": "white",
             "minorgridcolor": "white",
             "startlinecolor": "#2a3f5f"
            },
            "baxis": {
             "endlinecolor": "#2a3f5f",
             "gridcolor": "white",
             "linecolor": "white",
             "minorgridcolor": "white",
             "startlinecolor": "#2a3f5f"
            },
            "type": "carpet"
           }
          ],
          "choropleth": [
           {
            "colorbar": {
             "outlinewidth": 0,
             "ticks": ""
            },
            "type": "choropleth"
           }
          ],
          "contour": [
           {
            "colorbar": {
             "outlinewidth": 0,
             "ticks": ""
            },
            "colorscale": [
             [
              0,
              "#0d0887"
             ],
             [
              0.1111111111111111,
              "#46039f"
             ],
             [
              0.2222222222222222,
              "#7201a8"
             ],
             [
              0.3333333333333333,
              "#9c179e"
             ],
             [
              0.4444444444444444,
              "#bd3786"
             ],
             [
              0.5555555555555556,
              "#d8576b"
             ],
             [
              0.6666666666666666,
              "#ed7953"
             ],
             [
              0.7777777777777778,
              "#fb9f3a"
             ],
             [
              0.8888888888888888,
              "#fdca26"
             ],
             [
              1,
              "#f0f921"
             ]
            ],
            "type": "contour"
           }
          ],
          "contourcarpet": [
           {
            "colorbar": {
             "outlinewidth": 0,
             "ticks": ""
            },
            "type": "contourcarpet"
           }
          ],
          "heatmap": [
           {
            "colorbar": {
             "outlinewidth": 0,
             "ticks": ""
            },
            "colorscale": [
             [
              0,
              "#0d0887"
             ],
             [
              0.1111111111111111,
              "#46039f"
             ],
             [
              0.2222222222222222,
              "#7201a8"
             ],
             [
              0.3333333333333333,
              "#9c179e"
             ],
             [
              0.4444444444444444,
              "#bd3786"
             ],
             [
              0.5555555555555556,
              "#d8576b"
             ],
             [
              0.6666666666666666,
              "#ed7953"
             ],
             [
              0.7777777777777778,
              "#fb9f3a"
             ],
             [
              0.8888888888888888,
              "#fdca26"
             ],
             [
              1,
              "#f0f921"
             ]
            ],
            "type": "heatmap"
           }
          ],
          "heatmapgl": [
           {
            "colorbar": {
             "outlinewidth": 0,
             "ticks": ""
            },
            "colorscale": [
             [
              0,
              "#0d0887"
             ],
             [
              0.1111111111111111,
              "#46039f"
             ],
             [
              0.2222222222222222,
              "#7201a8"
             ],
             [
              0.3333333333333333,
              "#9c179e"
             ],
             [
              0.4444444444444444,
              "#bd3786"
             ],
             [
              0.5555555555555556,
              "#d8576b"
             ],
             [
              0.6666666666666666,
              "#ed7953"
             ],
             [
              0.7777777777777778,
              "#fb9f3a"
             ],
             [
              0.8888888888888888,
              "#fdca26"
             ],
             [
              1,
              "#f0f921"
             ]
            ],
            "type": "heatmapgl"
           }
          ],
          "histogram": [
           {
            "marker": {
             "pattern": {
              "fillmode": "overlay",
              "size": 10,
              "solidity": 0.2
             }
            },
            "type": "histogram"
           }
          ],
          "histogram2d": [
           {
            "colorbar": {
             "outlinewidth": 0,
             "ticks": ""
            },
            "colorscale": [
             [
              0,
              "#0d0887"
             ],
             [
              0.1111111111111111,
              "#46039f"
             ],
             [
              0.2222222222222222,
              "#7201a8"
             ],
             [
              0.3333333333333333,
              "#9c179e"
             ],
             [
              0.4444444444444444,
              "#bd3786"
             ],
             [
              0.5555555555555556,
              "#d8576b"
             ],
             [
              0.6666666666666666,
              "#ed7953"
             ],
             [
              0.7777777777777778,
              "#fb9f3a"
             ],
             [
              0.8888888888888888,
              "#fdca26"
             ],
             [
              1,
              "#f0f921"
             ]
            ],
            "type": "histogram2d"
           }
          ],
          "histogram2dcontour": [
           {
            "colorbar": {
             "outlinewidth": 0,
             "ticks": ""
            },
            "colorscale": [
             [
              0,
              "#0d0887"
             ],
             [
              0.1111111111111111,
              "#46039f"
             ],
             [
              0.2222222222222222,
              "#7201a8"
             ],
             [
              0.3333333333333333,
              "#9c179e"
             ],
             [
              0.4444444444444444,
              "#bd3786"
             ],
             [
              0.5555555555555556,
              "#d8576b"
             ],
             [
              0.6666666666666666,
              "#ed7953"
             ],
             [
              0.7777777777777778,
              "#fb9f3a"
             ],
             [
              0.8888888888888888,
              "#fdca26"
             ],
             [
              1,
              "#f0f921"
             ]
            ],
            "type": "histogram2dcontour"
           }
          ],
          "mesh3d": [
           {
            "colorbar": {
             "outlinewidth": 0,
             "ticks": ""
            },
            "type": "mesh3d"
           }
          ],
          "parcoords": [
           {
            "line": {
             "colorbar": {
              "outlinewidth": 0,
              "ticks": ""
             }
            },
            "type": "parcoords"
           }
          ],
          "pie": [
           {
            "automargin": true,
            "type": "pie"
           }
          ],
          "scatter": [
           {
            "marker": {
             "colorbar": {
              "outlinewidth": 0,
              "ticks": ""
             }
            },
            "type": "scatter"
           }
          ],
          "scatter3d": [
           {
            "line": {
             "colorbar": {
              "outlinewidth": 0,
              "ticks": ""
             }
            },
            "marker": {
             "colorbar": {
              "outlinewidth": 0,
              "ticks": ""
             }
            },
            "type": "scatter3d"
           }
          ],
          "scattercarpet": [
           {
            "marker": {
             "colorbar": {
              "outlinewidth": 0,
              "ticks": ""
             }
            },
            "type": "scattercarpet"
           }
          ],
          "scattergeo": [
           {
            "marker": {
             "colorbar": {
              "outlinewidth": 0,
              "ticks": ""
             }
            },
            "type": "scattergeo"
           }
          ],
          "scattergl": [
           {
            "marker": {
             "colorbar": {
              "outlinewidth": 0,
              "ticks": ""
             }
            },
            "type": "scattergl"
           }
          ],
          "scattermapbox": [
           {
            "marker": {
             "colorbar": {
              "outlinewidth": 0,
              "ticks": ""
             }
            },
            "type": "scattermapbox"
           }
          ],
          "scatterpolar": [
           {
            "marker": {
             "colorbar": {
              "outlinewidth": 0,
              "ticks": ""
             }
            },
            "type": "scatterpolar"
           }
          ],
          "scatterpolargl": [
           {
            "marker": {
             "colorbar": {
              "outlinewidth": 0,
              "ticks": ""
             }
            },
            "type": "scatterpolargl"
           }
          ],
          "scatterternary": [
           {
            "marker": {
             "colorbar": {
              "outlinewidth": 0,
              "ticks": ""
             }
            },
            "type": "scatterternary"
           }
          ],
          "surface": [
           {
            "colorbar": {
             "outlinewidth": 0,
             "ticks": ""
            },
            "colorscale": [
             [
              0,
              "#0d0887"
             ],
             [
              0.1111111111111111,
              "#46039f"
             ],
             [
              0.2222222222222222,
              "#7201a8"
             ],
             [
              0.3333333333333333,
              "#9c179e"
             ],
             [
              0.4444444444444444,
              "#bd3786"
             ],
             [
              0.5555555555555556,
              "#d8576b"
             ],
             [
              0.6666666666666666,
              "#ed7953"
             ],
             [
              0.7777777777777778,
              "#fb9f3a"
             ],
             [
              0.8888888888888888,
              "#fdca26"
             ],
             [
              1,
              "#f0f921"
             ]
            ],
            "type": "surface"
           }
          ],
          "table": [
           {
            "cells": {
             "fill": {
              "color": "#EBF0F8"
             },
             "line": {
              "color": "white"
             }
            },
            "header": {
             "fill": {
              "color": "#C8D4E3"
             },
             "line": {
              "color": "white"
             }
            },
            "type": "table"
           }
          ]
         },
         "layout": {
          "annotationdefaults": {
           "arrowcolor": "#2a3f5f",
           "arrowhead": 0,
           "arrowwidth": 1
          },
          "autotypenumbers": "strict",
          "coloraxis": {
           "colorbar": {
            "outlinewidth": 0,
            "ticks": ""
           }
          },
          "colorscale": {
           "diverging": [
            [
             0,
             "#8e0152"
            ],
            [
             0.1,
             "#c51b7d"
            ],
            [
             0.2,
             "#de77ae"
            ],
            [
             0.3,
             "#f1b6da"
            ],
            [
             0.4,
             "#fde0ef"
            ],
            [
             0.5,
             "#f7f7f7"
            ],
            [
             0.6,
             "#e6f5d0"
            ],
            [
             0.7,
             "#b8e186"
            ],
            [
             0.8,
             "#7fbc41"
            ],
            [
             0.9,
             "#4d9221"
            ],
            [
             1,
             "#276419"
            ]
           ],
           "sequential": [
            [
             0,
             "#0d0887"
            ],
            [
             0.1111111111111111,
             "#46039f"
            ],
            [
             0.2222222222222222,
             "#7201a8"
            ],
            [
             0.3333333333333333,
             "#9c179e"
            ],
            [
             0.4444444444444444,
             "#bd3786"
            ],
            [
             0.5555555555555556,
             "#d8576b"
            ],
            [
             0.6666666666666666,
             "#ed7953"
            ],
            [
             0.7777777777777778,
             "#fb9f3a"
            ],
            [
             0.8888888888888888,
             "#fdca26"
            ],
            [
             1,
             "#f0f921"
            ]
           ],
           "sequentialminus": [
            [
             0,
             "#0d0887"
            ],
            [
             0.1111111111111111,
             "#46039f"
            ],
            [
             0.2222222222222222,
             "#7201a8"
            ],
            [
             0.3333333333333333,
             "#9c179e"
            ],
            [
             0.4444444444444444,
             "#bd3786"
            ],
            [
             0.5555555555555556,
             "#d8576b"
            ],
            [
             0.6666666666666666,
             "#ed7953"
            ],
            [
             0.7777777777777778,
             "#fb9f3a"
            ],
            [
             0.8888888888888888,
             "#fdca26"
            ],
            [
             1,
             "#f0f921"
            ]
           ]
          },
          "colorway": [
           "#636efa",
           "#EF553B",
           "#00cc96",
           "#ab63fa",
           "#FFA15A",
           "#19d3f3",
           "#FF6692",
           "#B6E880",
           "#FF97FF",
           "#FECB52"
          ],
          "font": {
           "color": "#2a3f5f"
          },
          "geo": {
           "bgcolor": "white",
           "lakecolor": "white",
           "landcolor": "#E5ECF6",
           "showlakes": true,
           "showland": true,
           "subunitcolor": "white"
          },
          "hoverlabel": {
           "align": "left"
          },
          "hovermode": "closest",
          "mapbox": {
           "style": "light"
          },
          "paper_bgcolor": "white",
          "plot_bgcolor": "#E5ECF6",
          "polar": {
           "angularaxis": {
            "gridcolor": "white",
            "linecolor": "white",
            "ticks": ""
           },
           "bgcolor": "#E5ECF6",
           "radialaxis": {
            "gridcolor": "white",
            "linecolor": "white",
            "ticks": ""
           }
          },
          "scene": {
           "xaxis": {
            "backgroundcolor": "#E5ECF6",
            "gridcolor": "white",
            "gridwidth": 2,
            "linecolor": "white",
            "showbackground": true,
            "ticks": "",
            "zerolinecolor": "white"
           },
           "yaxis": {
            "backgroundcolor": "#E5ECF6",
            "gridcolor": "white",
            "gridwidth": 2,
            "linecolor": "white",
            "showbackground": true,
            "ticks": "",
            "zerolinecolor": "white"
           },
           "zaxis": {
            "backgroundcolor": "#E5ECF6",
            "gridcolor": "white",
            "gridwidth": 2,
            "linecolor": "white",
            "showbackground": true,
            "ticks": "",
            "zerolinecolor": "white"
           }
          },
          "shapedefaults": {
           "line": {
            "color": "#2a3f5f"
           }
          },
          "ternary": {
           "aaxis": {
            "gridcolor": "white",
            "linecolor": "white",
            "ticks": ""
           },
           "baxis": {
            "gridcolor": "white",
            "linecolor": "white",
            "ticks": ""
           },
           "bgcolor": "#E5ECF6",
           "caxis": {
            "gridcolor": "white",
            "linecolor": "white",
            "ticks": ""
           }
          },
          "title": {
           "x": 0.05
          },
          "xaxis": {
           "automargin": true,
           "gridcolor": "white",
           "linecolor": "white",
           "ticks": "",
           "title": {
            "standoff": 15
           },
           "zerolinecolor": "white",
           "zerolinewidth": 2
          },
          "yaxis": {
           "automargin": true,
           "gridcolor": "white",
           "linecolor": "white",
           "ticks": "",
           "title": {
            "standoff": 15
           },
           "zerolinecolor": "white",
           "zerolinewidth": 2
          }
         }
        }
       }
      }
     },
     "metadata": {},
     "output_type": "display_data"
    }
   ],
   "source": [
    "fig6 = go.Figure(\n",
    "    data = go.Scatterpolar(\n",
    "        r = attributes1_1_male.values,\n",
    "        theta = attributes1_1_male.index,\n",
    "        fill = 'toself',\n",
    "        name = 'male'\n",
    "    )\n",
    ")\n",
    "\n",
    "fig6.add_trace(\n",
    "    go.Scatterpolar(\n",
    "        r = attributes1_1_female.values,\n",
    "        theta = attributes1_1_female.index,\n",
    "        fill = 'toself',\n",
    "        name = 'female'\n",
    "    )\n",
    ")\n",
    "\n",
    "fig6.show()"
   ]
  },
  {
   "cell_type": "markdown",
   "metadata": {},
   "source": [
    "* For male participants, the most important important criterion is attractivness, while shared interests and especially ambition are the least important criterion\n",
    "\n",
    "* Female participants have distributed the points more equally between the different attributes. They also value more attractivness but way much less than male. Intelligence and sincerity are also criterions that stand out.\n",
    "\n",
    "\n",
    "Male and female both give the same weight to fun and shared interest."
   ]
  },
  {
   "cell_type": "markdown",
   "metadata": {},
   "source": [
    "**What participants think their same-sex peers are looking for ?**"
   ]
  },
  {
   "cell_type": "code",
   "execution_count": 24,
   "metadata": {},
   "outputs": [],
   "source": [
    "attributes4_1_female = df_cleaned.loc[mask_female, ['attr4_1', 'sinc4_1', 'intel4_1', 'fun4_1', 'amb4_1', 'shar4_1']].mean()\n",
    "attributes4_1_male = df_cleaned.loc[mask_male, ['attr4_1', 'sinc4_1', 'intel4_1', 'fun4_1', 'amb4_1', 'shar4_1']].mean()"
   ]
  },
  {
   "cell_type": "code",
   "execution_count": 25,
   "metadata": {},
   "outputs": [
    {
     "data": {
      "application/vnd.plotly.v1+json": {
       "config": {
        "plotlyServerURL": "https://plot.ly"
       },
       "data": [
        {
         "fill": "toself",
         "name": "male",
         "r": [
          33.44159713945173,
          12.427294398092968,
          14.095351609058403,
          18.52741358760429,
          8.7777115613826,
          12.223480333730631
         ],
         "theta": [
          "attr4_1",
          "sinc4_1",
          "intel4_1",
          "fun4_1",
          "amb4_1",
          "shar4_1"
         ],
         "type": "scatterpolar"
        },
        {
         "fill": "toself",
         "name": "female",
         "r": [
          28.453855140186917,
          12.69801401869159,
          15.414719626168225,
          17.102803738317757,
          13.73481308411215,
          12.623831775700934
         ],
         "theta": [
          "attr4_1",
          "sinc4_1",
          "intel4_1",
          "fun4_1",
          "amb4_1",
          "shar4_1"
         ],
         "type": "scatterpolar"
        }
       ],
       "layout": {
        "template": {
         "data": {
          "bar": [
           {
            "error_x": {
             "color": "#2a3f5f"
            },
            "error_y": {
             "color": "#2a3f5f"
            },
            "marker": {
             "line": {
              "color": "#E5ECF6",
              "width": 0.5
             },
             "pattern": {
              "fillmode": "overlay",
              "size": 10,
              "solidity": 0.2
             }
            },
            "type": "bar"
           }
          ],
          "barpolar": [
           {
            "marker": {
             "line": {
              "color": "#E5ECF6",
              "width": 0.5
             },
             "pattern": {
              "fillmode": "overlay",
              "size": 10,
              "solidity": 0.2
             }
            },
            "type": "barpolar"
           }
          ],
          "carpet": [
           {
            "aaxis": {
             "endlinecolor": "#2a3f5f",
             "gridcolor": "white",
             "linecolor": "white",
             "minorgridcolor": "white",
             "startlinecolor": "#2a3f5f"
            },
            "baxis": {
             "endlinecolor": "#2a3f5f",
             "gridcolor": "white",
             "linecolor": "white",
             "minorgridcolor": "white",
             "startlinecolor": "#2a3f5f"
            },
            "type": "carpet"
           }
          ],
          "choropleth": [
           {
            "colorbar": {
             "outlinewidth": 0,
             "ticks": ""
            },
            "type": "choropleth"
           }
          ],
          "contour": [
           {
            "colorbar": {
             "outlinewidth": 0,
             "ticks": ""
            },
            "colorscale": [
             [
              0,
              "#0d0887"
             ],
             [
              0.1111111111111111,
              "#46039f"
             ],
             [
              0.2222222222222222,
              "#7201a8"
             ],
             [
              0.3333333333333333,
              "#9c179e"
             ],
             [
              0.4444444444444444,
              "#bd3786"
             ],
             [
              0.5555555555555556,
              "#d8576b"
             ],
             [
              0.6666666666666666,
              "#ed7953"
             ],
             [
              0.7777777777777778,
              "#fb9f3a"
             ],
             [
              0.8888888888888888,
              "#fdca26"
             ],
             [
              1,
              "#f0f921"
             ]
            ],
            "type": "contour"
           }
          ],
          "contourcarpet": [
           {
            "colorbar": {
             "outlinewidth": 0,
             "ticks": ""
            },
            "type": "contourcarpet"
           }
          ],
          "heatmap": [
           {
            "colorbar": {
             "outlinewidth": 0,
             "ticks": ""
            },
            "colorscale": [
             [
              0,
              "#0d0887"
             ],
             [
              0.1111111111111111,
              "#46039f"
             ],
             [
              0.2222222222222222,
              "#7201a8"
             ],
             [
              0.3333333333333333,
              "#9c179e"
             ],
             [
              0.4444444444444444,
              "#bd3786"
             ],
             [
              0.5555555555555556,
              "#d8576b"
             ],
             [
              0.6666666666666666,
              "#ed7953"
             ],
             [
              0.7777777777777778,
              "#fb9f3a"
             ],
             [
              0.8888888888888888,
              "#fdca26"
             ],
             [
              1,
              "#f0f921"
             ]
            ],
            "type": "heatmap"
           }
          ],
          "heatmapgl": [
           {
            "colorbar": {
             "outlinewidth": 0,
             "ticks": ""
            },
            "colorscale": [
             [
              0,
              "#0d0887"
             ],
             [
              0.1111111111111111,
              "#46039f"
             ],
             [
              0.2222222222222222,
              "#7201a8"
             ],
             [
              0.3333333333333333,
              "#9c179e"
             ],
             [
              0.4444444444444444,
              "#bd3786"
             ],
             [
              0.5555555555555556,
              "#d8576b"
             ],
             [
              0.6666666666666666,
              "#ed7953"
             ],
             [
              0.7777777777777778,
              "#fb9f3a"
             ],
             [
              0.8888888888888888,
              "#fdca26"
             ],
             [
              1,
              "#f0f921"
             ]
            ],
            "type": "heatmapgl"
           }
          ],
          "histogram": [
           {
            "marker": {
             "pattern": {
              "fillmode": "overlay",
              "size": 10,
              "solidity": 0.2
             }
            },
            "type": "histogram"
           }
          ],
          "histogram2d": [
           {
            "colorbar": {
             "outlinewidth": 0,
             "ticks": ""
            },
            "colorscale": [
             [
              0,
              "#0d0887"
             ],
             [
              0.1111111111111111,
              "#46039f"
             ],
             [
              0.2222222222222222,
              "#7201a8"
             ],
             [
              0.3333333333333333,
              "#9c179e"
             ],
             [
              0.4444444444444444,
              "#bd3786"
             ],
             [
              0.5555555555555556,
              "#d8576b"
             ],
             [
              0.6666666666666666,
              "#ed7953"
             ],
             [
              0.7777777777777778,
              "#fb9f3a"
             ],
             [
              0.8888888888888888,
              "#fdca26"
             ],
             [
              1,
              "#f0f921"
             ]
            ],
            "type": "histogram2d"
           }
          ],
          "histogram2dcontour": [
           {
            "colorbar": {
             "outlinewidth": 0,
             "ticks": ""
            },
            "colorscale": [
             [
              0,
              "#0d0887"
             ],
             [
              0.1111111111111111,
              "#46039f"
             ],
             [
              0.2222222222222222,
              "#7201a8"
             ],
             [
              0.3333333333333333,
              "#9c179e"
             ],
             [
              0.4444444444444444,
              "#bd3786"
             ],
             [
              0.5555555555555556,
              "#d8576b"
             ],
             [
              0.6666666666666666,
              "#ed7953"
             ],
             [
              0.7777777777777778,
              "#fb9f3a"
             ],
             [
              0.8888888888888888,
              "#fdca26"
             ],
             [
              1,
              "#f0f921"
             ]
            ],
            "type": "histogram2dcontour"
           }
          ],
          "mesh3d": [
           {
            "colorbar": {
             "outlinewidth": 0,
             "ticks": ""
            },
            "type": "mesh3d"
           }
          ],
          "parcoords": [
           {
            "line": {
             "colorbar": {
              "outlinewidth": 0,
              "ticks": ""
             }
            },
            "type": "parcoords"
           }
          ],
          "pie": [
           {
            "automargin": true,
            "type": "pie"
           }
          ],
          "scatter": [
           {
            "marker": {
             "colorbar": {
              "outlinewidth": 0,
              "ticks": ""
             }
            },
            "type": "scatter"
           }
          ],
          "scatter3d": [
           {
            "line": {
             "colorbar": {
              "outlinewidth": 0,
              "ticks": ""
             }
            },
            "marker": {
             "colorbar": {
              "outlinewidth": 0,
              "ticks": ""
             }
            },
            "type": "scatter3d"
           }
          ],
          "scattercarpet": [
           {
            "marker": {
             "colorbar": {
              "outlinewidth": 0,
              "ticks": ""
             }
            },
            "type": "scattercarpet"
           }
          ],
          "scattergeo": [
           {
            "marker": {
             "colorbar": {
              "outlinewidth": 0,
              "ticks": ""
             }
            },
            "type": "scattergeo"
           }
          ],
          "scattergl": [
           {
            "marker": {
             "colorbar": {
              "outlinewidth": 0,
              "ticks": ""
             }
            },
            "type": "scattergl"
           }
          ],
          "scattermapbox": [
           {
            "marker": {
             "colorbar": {
              "outlinewidth": 0,
              "ticks": ""
             }
            },
            "type": "scattermapbox"
           }
          ],
          "scatterpolar": [
           {
            "marker": {
             "colorbar": {
              "outlinewidth": 0,
              "ticks": ""
             }
            },
            "type": "scatterpolar"
           }
          ],
          "scatterpolargl": [
           {
            "marker": {
             "colorbar": {
              "outlinewidth": 0,
              "ticks": ""
             }
            },
            "type": "scatterpolargl"
           }
          ],
          "scatterternary": [
           {
            "marker": {
             "colorbar": {
              "outlinewidth": 0,
              "ticks": ""
             }
            },
            "type": "scatterternary"
           }
          ],
          "surface": [
           {
            "colorbar": {
             "outlinewidth": 0,
             "ticks": ""
            },
            "colorscale": [
             [
              0,
              "#0d0887"
             ],
             [
              0.1111111111111111,
              "#46039f"
             ],
             [
              0.2222222222222222,
              "#7201a8"
             ],
             [
              0.3333333333333333,
              "#9c179e"
             ],
             [
              0.4444444444444444,
              "#bd3786"
             ],
             [
              0.5555555555555556,
              "#d8576b"
             ],
             [
              0.6666666666666666,
              "#ed7953"
             ],
             [
              0.7777777777777778,
              "#fb9f3a"
             ],
             [
              0.8888888888888888,
              "#fdca26"
             ],
             [
              1,
              "#f0f921"
             ]
            ],
            "type": "surface"
           }
          ],
          "table": [
           {
            "cells": {
             "fill": {
              "color": "#EBF0F8"
             },
             "line": {
              "color": "white"
             }
            },
            "header": {
             "fill": {
              "color": "#C8D4E3"
             },
             "line": {
              "color": "white"
             }
            },
            "type": "table"
           }
          ]
         },
         "layout": {
          "annotationdefaults": {
           "arrowcolor": "#2a3f5f",
           "arrowhead": 0,
           "arrowwidth": 1
          },
          "autotypenumbers": "strict",
          "coloraxis": {
           "colorbar": {
            "outlinewidth": 0,
            "ticks": ""
           }
          },
          "colorscale": {
           "diverging": [
            [
             0,
             "#8e0152"
            ],
            [
             0.1,
             "#c51b7d"
            ],
            [
             0.2,
             "#de77ae"
            ],
            [
             0.3,
             "#f1b6da"
            ],
            [
             0.4,
             "#fde0ef"
            ],
            [
             0.5,
             "#f7f7f7"
            ],
            [
             0.6,
             "#e6f5d0"
            ],
            [
             0.7,
             "#b8e186"
            ],
            [
             0.8,
             "#7fbc41"
            ],
            [
             0.9,
             "#4d9221"
            ],
            [
             1,
             "#276419"
            ]
           ],
           "sequential": [
            [
             0,
             "#0d0887"
            ],
            [
             0.1111111111111111,
             "#46039f"
            ],
            [
             0.2222222222222222,
             "#7201a8"
            ],
            [
             0.3333333333333333,
             "#9c179e"
            ],
            [
             0.4444444444444444,
             "#bd3786"
            ],
            [
             0.5555555555555556,
             "#d8576b"
            ],
            [
             0.6666666666666666,
             "#ed7953"
            ],
            [
             0.7777777777777778,
             "#fb9f3a"
            ],
            [
             0.8888888888888888,
             "#fdca26"
            ],
            [
             1,
             "#f0f921"
            ]
           ],
           "sequentialminus": [
            [
             0,
             "#0d0887"
            ],
            [
             0.1111111111111111,
             "#46039f"
            ],
            [
             0.2222222222222222,
             "#7201a8"
            ],
            [
             0.3333333333333333,
             "#9c179e"
            ],
            [
             0.4444444444444444,
             "#bd3786"
            ],
            [
             0.5555555555555556,
             "#d8576b"
            ],
            [
             0.6666666666666666,
             "#ed7953"
            ],
            [
             0.7777777777777778,
             "#fb9f3a"
            ],
            [
             0.8888888888888888,
             "#fdca26"
            ],
            [
             1,
             "#f0f921"
            ]
           ]
          },
          "colorway": [
           "#636efa",
           "#EF553B",
           "#00cc96",
           "#ab63fa",
           "#FFA15A",
           "#19d3f3",
           "#FF6692",
           "#B6E880",
           "#FF97FF",
           "#FECB52"
          ],
          "font": {
           "color": "#2a3f5f"
          },
          "geo": {
           "bgcolor": "white",
           "lakecolor": "white",
           "landcolor": "#E5ECF6",
           "showlakes": true,
           "showland": true,
           "subunitcolor": "white"
          },
          "hoverlabel": {
           "align": "left"
          },
          "hovermode": "closest",
          "mapbox": {
           "style": "light"
          },
          "paper_bgcolor": "white",
          "plot_bgcolor": "#E5ECF6",
          "polar": {
           "angularaxis": {
            "gridcolor": "white",
            "linecolor": "white",
            "ticks": ""
           },
           "bgcolor": "#E5ECF6",
           "radialaxis": {
            "gridcolor": "white",
            "linecolor": "white",
            "ticks": ""
           }
          },
          "scene": {
           "xaxis": {
            "backgroundcolor": "#E5ECF6",
            "gridcolor": "white",
            "gridwidth": 2,
            "linecolor": "white",
            "showbackground": true,
            "ticks": "",
            "zerolinecolor": "white"
           },
           "yaxis": {
            "backgroundcolor": "#E5ECF6",
            "gridcolor": "white",
            "gridwidth": 2,
            "linecolor": "white",
            "showbackground": true,
            "ticks": "",
            "zerolinecolor": "white"
           },
           "zaxis": {
            "backgroundcolor": "#E5ECF6",
            "gridcolor": "white",
            "gridwidth": 2,
            "linecolor": "white",
            "showbackground": true,
            "ticks": "",
            "zerolinecolor": "white"
           }
          },
          "shapedefaults": {
           "line": {
            "color": "#2a3f5f"
           }
          },
          "ternary": {
           "aaxis": {
            "gridcolor": "white",
            "linecolor": "white",
            "ticks": ""
           },
           "baxis": {
            "gridcolor": "white",
            "linecolor": "white",
            "ticks": ""
           },
           "bgcolor": "#E5ECF6",
           "caxis": {
            "gridcolor": "white",
            "linecolor": "white",
            "ticks": ""
           }
          },
          "title": {
           "x": 0.05
          },
          "xaxis": {
           "automargin": true,
           "gridcolor": "white",
           "linecolor": "white",
           "ticks": "",
           "title": {
            "standoff": 15
           },
           "zerolinecolor": "white",
           "zerolinewidth": 2
          },
          "yaxis": {
           "automargin": true,
           "gridcolor": "white",
           "linecolor": "white",
           "ticks": "",
           "title": {
            "standoff": 15
           },
           "zerolinecolor": "white",
           "zerolinewidth": 2
          }
         }
        }
       }
      }
     },
     "metadata": {},
     "output_type": "display_data"
    }
   ],
   "source": [
    "fig7 = go.Figure(\n",
    "    data = go.Scatterpolar(\n",
    "        r = attributes4_1_male.values,\n",
    "        theta = attributes4_1_male.index,\n",
    "        fill = 'toself',\n",
    "        name = 'male'\n",
    "    )\n",
    ")\n",
    "\n",
    "fig7.add_trace(\n",
    "    go.Scatterpolar(\n",
    "        r = attributes4_1_female.values,\n",
    "        theta = attributes4_1_female.index,\n",
    "        fill = 'toself',\n",
    "        name = 'female'\n",
    "    )\n",
    ")\n",
    "\n",
    "fig7.show()"
   ]
  },
  {
   "cell_type": "markdown",
   "metadata": {},
   "source": [
    "* Male think that others male are also looking for an attractive female and also don't value ambition so much. They are pretty good at guessing what other people with their gender is looking for.\n",
    "\n",
    "* For female, the graph looks different than the previous analysis. While they are looking for a male with all the 6 quality, they think their same-sex peers value much more attractivness."
   ]
  },
  {
   "cell_type": "markdown",
   "metadata": {},
   "source": [
    "**What do participants think the opposite sex is looking for ?**"
   ]
  },
  {
   "cell_type": "code",
   "execution_count": 26,
   "metadata": {},
   "outputs": [],
   "source": [
    "attributes2_1_female = df_cleaned.loc[mask_female, ['attr2_1', 'sinc2_1', 'intel2_1', 'fun2_1', 'amb2_1', 'shar2_1']].mean()\n",
    "attributes2_1_male = df_cleaned.loc[mask_male, ['attr2_1', 'sinc2_1', 'intel2_1', 'fun2_1', 'amb2_1', 'shar2_1']].mean()"
   ]
  },
  {
   "cell_type": "code",
   "execution_count": 27,
   "metadata": {},
   "outputs": [
    {
     "data": {
      "application/vnd.plotly.v1+json": {
       "config": {
        "plotlyServerURL": "https://plot.ly"
       },
       "data": [
        {
         "fill": "toself",
         "name": "male",
         "r": [
          27.374904067536455,
          14.530698388334612,
          16.567152724481964,
          17.889102072141213,
          13.75346687211094,
          9.806240369799692
         ],
         "theta": [
          "attr2_1",
          "sinc2_1",
          "intel2_1",
          "fun2_1",
          "amb2_1",
          "shar2_1"
         ],
         "type": "scatterpolar"
        },
        {
         "fill": "toself",
         "name": "female",
         "r": [
          38.24942174248265,
          10.53739398612182,
          12.107170393215112,
          19.02390131071704,
          8.46183500385505,
          11.904780262143408
         ],
         "theta": [
          "attr2_1",
          "sinc2_1",
          "intel2_1",
          "fun2_1",
          "amb2_1",
          "shar2_1"
         ],
         "type": "scatterpolar"
        }
       ],
       "layout": {
        "template": {
         "data": {
          "bar": [
           {
            "error_x": {
             "color": "#2a3f5f"
            },
            "error_y": {
             "color": "#2a3f5f"
            },
            "marker": {
             "line": {
              "color": "#E5ECF6",
              "width": 0.5
             },
             "pattern": {
              "fillmode": "overlay",
              "size": 10,
              "solidity": 0.2
             }
            },
            "type": "bar"
           }
          ],
          "barpolar": [
           {
            "marker": {
             "line": {
              "color": "#E5ECF6",
              "width": 0.5
             },
             "pattern": {
              "fillmode": "overlay",
              "size": 10,
              "solidity": 0.2
             }
            },
            "type": "barpolar"
           }
          ],
          "carpet": [
           {
            "aaxis": {
             "endlinecolor": "#2a3f5f",
             "gridcolor": "white",
             "linecolor": "white",
             "minorgridcolor": "white",
             "startlinecolor": "#2a3f5f"
            },
            "baxis": {
             "endlinecolor": "#2a3f5f",
             "gridcolor": "white",
             "linecolor": "white",
             "minorgridcolor": "white",
             "startlinecolor": "#2a3f5f"
            },
            "type": "carpet"
           }
          ],
          "choropleth": [
           {
            "colorbar": {
             "outlinewidth": 0,
             "ticks": ""
            },
            "type": "choropleth"
           }
          ],
          "contour": [
           {
            "colorbar": {
             "outlinewidth": 0,
             "ticks": ""
            },
            "colorscale": [
             [
              0,
              "#0d0887"
             ],
             [
              0.1111111111111111,
              "#46039f"
             ],
             [
              0.2222222222222222,
              "#7201a8"
             ],
             [
              0.3333333333333333,
              "#9c179e"
             ],
             [
              0.4444444444444444,
              "#bd3786"
             ],
             [
              0.5555555555555556,
              "#d8576b"
             ],
             [
              0.6666666666666666,
              "#ed7953"
             ],
             [
              0.7777777777777778,
              "#fb9f3a"
             ],
             [
              0.8888888888888888,
              "#fdca26"
             ],
             [
              1,
              "#f0f921"
             ]
            ],
            "type": "contour"
           }
          ],
          "contourcarpet": [
           {
            "colorbar": {
             "outlinewidth": 0,
             "ticks": ""
            },
            "type": "contourcarpet"
           }
          ],
          "heatmap": [
           {
            "colorbar": {
             "outlinewidth": 0,
             "ticks": ""
            },
            "colorscale": [
             [
              0,
              "#0d0887"
             ],
             [
              0.1111111111111111,
              "#46039f"
             ],
             [
              0.2222222222222222,
              "#7201a8"
             ],
             [
              0.3333333333333333,
              "#9c179e"
             ],
             [
              0.4444444444444444,
              "#bd3786"
             ],
             [
              0.5555555555555556,
              "#d8576b"
             ],
             [
              0.6666666666666666,
              "#ed7953"
             ],
             [
              0.7777777777777778,
              "#fb9f3a"
             ],
             [
              0.8888888888888888,
              "#fdca26"
             ],
             [
              1,
              "#f0f921"
             ]
            ],
            "type": "heatmap"
           }
          ],
          "heatmapgl": [
           {
            "colorbar": {
             "outlinewidth": 0,
             "ticks": ""
            },
            "colorscale": [
             [
              0,
              "#0d0887"
             ],
             [
              0.1111111111111111,
              "#46039f"
             ],
             [
              0.2222222222222222,
              "#7201a8"
             ],
             [
              0.3333333333333333,
              "#9c179e"
             ],
             [
              0.4444444444444444,
              "#bd3786"
             ],
             [
              0.5555555555555556,
              "#d8576b"
             ],
             [
              0.6666666666666666,
              "#ed7953"
             ],
             [
              0.7777777777777778,
              "#fb9f3a"
             ],
             [
              0.8888888888888888,
              "#fdca26"
             ],
             [
              1,
              "#f0f921"
             ]
            ],
            "type": "heatmapgl"
           }
          ],
          "histogram": [
           {
            "marker": {
             "pattern": {
              "fillmode": "overlay",
              "size": 10,
              "solidity": 0.2
             }
            },
            "type": "histogram"
           }
          ],
          "histogram2d": [
           {
            "colorbar": {
             "outlinewidth": 0,
             "ticks": ""
            },
            "colorscale": [
             [
              0,
              "#0d0887"
             ],
             [
              0.1111111111111111,
              "#46039f"
             ],
             [
              0.2222222222222222,
              "#7201a8"
             ],
             [
              0.3333333333333333,
              "#9c179e"
             ],
             [
              0.4444444444444444,
              "#bd3786"
             ],
             [
              0.5555555555555556,
              "#d8576b"
             ],
             [
              0.6666666666666666,
              "#ed7953"
             ],
             [
              0.7777777777777778,
              "#fb9f3a"
             ],
             [
              0.8888888888888888,
              "#fdca26"
             ],
             [
              1,
              "#f0f921"
             ]
            ],
            "type": "histogram2d"
           }
          ],
          "histogram2dcontour": [
           {
            "colorbar": {
             "outlinewidth": 0,
             "ticks": ""
            },
            "colorscale": [
             [
              0,
              "#0d0887"
             ],
             [
              0.1111111111111111,
              "#46039f"
             ],
             [
              0.2222222222222222,
              "#7201a8"
             ],
             [
              0.3333333333333333,
              "#9c179e"
             ],
             [
              0.4444444444444444,
              "#bd3786"
             ],
             [
              0.5555555555555556,
              "#d8576b"
             ],
             [
              0.6666666666666666,
              "#ed7953"
             ],
             [
              0.7777777777777778,
              "#fb9f3a"
             ],
             [
              0.8888888888888888,
              "#fdca26"
             ],
             [
              1,
              "#f0f921"
             ]
            ],
            "type": "histogram2dcontour"
           }
          ],
          "mesh3d": [
           {
            "colorbar": {
             "outlinewidth": 0,
             "ticks": ""
            },
            "type": "mesh3d"
           }
          ],
          "parcoords": [
           {
            "line": {
             "colorbar": {
              "outlinewidth": 0,
              "ticks": ""
             }
            },
            "type": "parcoords"
           }
          ],
          "pie": [
           {
            "automargin": true,
            "type": "pie"
           }
          ],
          "scatter": [
           {
            "marker": {
             "colorbar": {
              "outlinewidth": 0,
              "ticks": ""
             }
            },
            "type": "scatter"
           }
          ],
          "scatter3d": [
           {
            "line": {
             "colorbar": {
              "outlinewidth": 0,
              "ticks": ""
             }
            },
            "marker": {
             "colorbar": {
              "outlinewidth": 0,
              "ticks": ""
             }
            },
            "type": "scatter3d"
           }
          ],
          "scattercarpet": [
           {
            "marker": {
             "colorbar": {
              "outlinewidth": 0,
              "ticks": ""
             }
            },
            "type": "scattercarpet"
           }
          ],
          "scattergeo": [
           {
            "marker": {
             "colorbar": {
              "outlinewidth": 0,
              "ticks": ""
             }
            },
            "type": "scattergeo"
           }
          ],
          "scattergl": [
           {
            "marker": {
             "colorbar": {
              "outlinewidth": 0,
              "ticks": ""
             }
            },
            "type": "scattergl"
           }
          ],
          "scattermapbox": [
           {
            "marker": {
             "colorbar": {
              "outlinewidth": 0,
              "ticks": ""
             }
            },
            "type": "scattermapbox"
           }
          ],
          "scatterpolar": [
           {
            "marker": {
             "colorbar": {
              "outlinewidth": 0,
              "ticks": ""
             }
            },
            "type": "scatterpolar"
           }
          ],
          "scatterpolargl": [
           {
            "marker": {
             "colorbar": {
              "outlinewidth": 0,
              "ticks": ""
             }
            },
            "type": "scatterpolargl"
           }
          ],
          "scatterternary": [
           {
            "marker": {
             "colorbar": {
              "outlinewidth": 0,
              "ticks": ""
             }
            },
            "type": "scatterternary"
           }
          ],
          "surface": [
           {
            "colorbar": {
             "outlinewidth": 0,
             "ticks": ""
            },
            "colorscale": [
             [
              0,
              "#0d0887"
             ],
             [
              0.1111111111111111,
              "#46039f"
             ],
             [
              0.2222222222222222,
              "#7201a8"
             ],
             [
              0.3333333333333333,
              "#9c179e"
             ],
             [
              0.4444444444444444,
              "#bd3786"
             ],
             [
              0.5555555555555556,
              "#d8576b"
             ],
             [
              0.6666666666666666,
              "#ed7953"
             ],
             [
              0.7777777777777778,
              "#fb9f3a"
             ],
             [
              0.8888888888888888,
              "#fdca26"
             ],
             [
              1,
              "#f0f921"
             ]
            ],
            "type": "surface"
           }
          ],
          "table": [
           {
            "cells": {
             "fill": {
              "color": "#EBF0F8"
             },
             "line": {
              "color": "white"
             }
            },
            "header": {
             "fill": {
              "color": "#C8D4E3"
             },
             "line": {
              "color": "white"
             }
            },
            "type": "table"
           }
          ]
         },
         "layout": {
          "annotationdefaults": {
           "arrowcolor": "#2a3f5f",
           "arrowhead": 0,
           "arrowwidth": 1
          },
          "autotypenumbers": "strict",
          "coloraxis": {
           "colorbar": {
            "outlinewidth": 0,
            "ticks": ""
           }
          },
          "colorscale": {
           "diverging": [
            [
             0,
             "#8e0152"
            ],
            [
             0.1,
             "#c51b7d"
            ],
            [
             0.2,
             "#de77ae"
            ],
            [
             0.3,
             "#f1b6da"
            ],
            [
             0.4,
             "#fde0ef"
            ],
            [
             0.5,
             "#f7f7f7"
            ],
            [
             0.6,
             "#e6f5d0"
            ],
            [
             0.7,
             "#b8e186"
            ],
            [
             0.8,
             "#7fbc41"
            ],
            [
             0.9,
             "#4d9221"
            ],
            [
             1,
             "#276419"
            ]
           ],
           "sequential": [
            [
             0,
             "#0d0887"
            ],
            [
             0.1111111111111111,
             "#46039f"
            ],
            [
             0.2222222222222222,
             "#7201a8"
            ],
            [
             0.3333333333333333,
             "#9c179e"
            ],
            [
             0.4444444444444444,
             "#bd3786"
            ],
            [
             0.5555555555555556,
             "#d8576b"
            ],
            [
             0.6666666666666666,
             "#ed7953"
            ],
            [
             0.7777777777777778,
             "#fb9f3a"
            ],
            [
             0.8888888888888888,
             "#fdca26"
            ],
            [
             1,
             "#f0f921"
            ]
           ],
           "sequentialminus": [
            [
             0,
             "#0d0887"
            ],
            [
             0.1111111111111111,
             "#46039f"
            ],
            [
             0.2222222222222222,
             "#7201a8"
            ],
            [
             0.3333333333333333,
             "#9c179e"
            ],
            [
             0.4444444444444444,
             "#bd3786"
            ],
            [
             0.5555555555555556,
             "#d8576b"
            ],
            [
             0.6666666666666666,
             "#ed7953"
            ],
            [
             0.7777777777777778,
             "#fb9f3a"
            ],
            [
             0.8888888888888888,
             "#fdca26"
            ],
            [
             1,
             "#f0f921"
            ]
           ]
          },
          "colorway": [
           "#636efa",
           "#EF553B",
           "#00cc96",
           "#ab63fa",
           "#FFA15A",
           "#19d3f3",
           "#FF6692",
           "#B6E880",
           "#FF97FF",
           "#FECB52"
          ],
          "font": {
           "color": "#2a3f5f"
          },
          "geo": {
           "bgcolor": "white",
           "lakecolor": "white",
           "landcolor": "#E5ECF6",
           "showlakes": true,
           "showland": true,
           "subunitcolor": "white"
          },
          "hoverlabel": {
           "align": "left"
          },
          "hovermode": "closest",
          "mapbox": {
           "style": "light"
          },
          "paper_bgcolor": "white",
          "plot_bgcolor": "#E5ECF6",
          "polar": {
           "angularaxis": {
            "gridcolor": "white",
            "linecolor": "white",
            "ticks": ""
           },
           "bgcolor": "#E5ECF6",
           "radialaxis": {
            "gridcolor": "white",
            "linecolor": "white",
            "ticks": ""
           }
          },
          "scene": {
           "xaxis": {
            "backgroundcolor": "#E5ECF6",
            "gridcolor": "white",
            "gridwidth": 2,
            "linecolor": "white",
            "showbackground": true,
            "ticks": "",
            "zerolinecolor": "white"
           },
           "yaxis": {
            "backgroundcolor": "#E5ECF6",
            "gridcolor": "white",
            "gridwidth": 2,
            "linecolor": "white",
            "showbackground": true,
            "ticks": "",
            "zerolinecolor": "white"
           },
           "zaxis": {
            "backgroundcolor": "#E5ECF6",
            "gridcolor": "white",
            "gridwidth": 2,
            "linecolor": "white",
            "showbackground": true,
            "ticks": "",
            "zerolinecolor": "white"
           }
          },
          "shapedefaults": {
           "line": {
            "color": "#2a3f5f"
           }
          },
          "ternary": {
           "aaxis": {
            "gridcolor": "white",
            "linecolor": "white",
            "ticks": ""
           },
           "baxis": {
            "gridcolor": "white",
            "linecolor": "white",
            "ticks": ""
           },
           "bgcolor": "#E5ECF6",
           "caxis": {
            "gridcolor": "white",
            "linecolor": "white",
            "ticks": ""
           }
          },
          "title": {
           "x": 0.05
          },
          "xaxis": {
           "automargin": true,
           "gridcolor": "white",
           "linecolor": "white",
           "ticks": "",
           "title": {
            "standoff": 15
           },
           "zerolinecolor": "white",
           "zerolinewidth": 2
          },
          "yaxis": {
           "automargin": true,
           "gridcolor": "white",
           "linecolor": "white",
           "ticks": "",
           "title": {
            "standoff": 15
           },
           "zerolinecolor": "white",
           "zerolinewidth": 2
          }
         }
        }
       }
      }
     },
     "metadata": {},
     "output_type": "display_data"
    }
   ],
   "source": [
    "fig8 = go.Figure(\n",
    "    data = go.Scatterpolar(\n",
    "        r = attributes2_1_male.values,\n",
    "        theta = attributes2_1_male.index,\n",
    "        fill = 'toself',\n",
    "        name = 'male'\n",
    "    )\n",
    ")\n",
    "\n",
    "fig8.add_trace(\n",
    "    go.Scatterpolar(\n",
    "        r = attributes2_1_female.values,\n",
    "        theta = attributes2_1_female.index,\n",
    "        fill = 'toself',\n",
    "        name = 'female'\n",
    "    )\n",
    ")\n",
    "\n",
    "fig8.show()"
   ]
  },
  {
   "cell_type": "markdown",
   "metadata": {},
   "source": [
    "* Female are very good at guessing which quality are important for a male, but a little bit with accuented tendencies.\n",
    "\n",
    "* Male also guessed accurately, but think female value more attractivness than they actually do.\n",
    "\n",
    "In conclusion, both gender overestimate the importance of attractivness for the opposite sex"
   ]
  },
  {
   "cell_type": "markdown",
   "metadata": {},
   "source": [
    "**Which attributes actually influence the decision making ?**"
   ]
  },
  {
   "cell_type": "code",
   "execution_count": 28,
   "metadata": {},
   "outputs": [],
   "source": [
    "# for each participant, we calculate their average score : number of\n",
    "# positive answer from their date / number of dates they had\n",
    "average_score = df_cleaned.groupby('iid')['dec_o'].sum()/df_cleaned.groupby('iid')['iid'].count()\n",
    "\n",
    "# for each participant, we calculate their average score (0-10)\n",
    "# given by their date for the 6 attributes\n",
    "average_attr = df_cleaned.groupby('iid')['attr_o'].mean()\n",
    "average_fun = df_cleaned.groupby('iid')['fun_o'].mean()\n",
    "average_amb = df_cleaned.groupby('iid')['amb_o'].mean()\n",
    "average_intel = df_cleaned.groupby('iid')['intel_o'].mean()\n",
    "average_sinc = df_cleaned.groupby('iid')['sinc_o'].mean()\n",
    "average_shar = df_cleaned.groupby('iid')['shar_o'].mean()"
   ]
  },
  {
   "cell_type": "code",
   "execution_count": 29,
   "metadata": {},
   "outputs": [
    {
     "data": {
      "application/vnd.plotly.v1+json": {
       "config": {
        "plotlyServerURL": "https://plot.ly"
       },
       "data": [
        {
         "mode": "markers",
         "name": "attr score",
         "type": "scatter",
         "x": [
          0.5,
          0.6,
          0.5,
          0.6,
          0.3,
          0.5,
          0.7,
          0.8,
          0.7,
          0.4,
          0.4,
          0.4,
          0.4,
          0.8,
          0.3,
          0.3,
          0.8,
          0.3,
          0.9,
          0.9,
          0.1875,
          0.1875,
          0.375,
          0.5,
          0.875,
          0.9375,
          0.9375,
          0.5,
          0.1875,
          0.25,
          0.8125,
          0.5625,
          0.25,
          0.6875,
          0.6875,
          0.5,
          0.1875,
          0.4375,
          0.125,
          0.21052631578947367,
          0,
          0.21052631578947367,
          0.15789473684210525,
          0.21052631578947367,
          0.21052631578947367,
          0.47368421052631576,
          0.05263157894736842,
          0.42105263157894735,
          0.42105263157894735,
          0.5789473684210527,
          0.2631578947368421,
          0.21052631578947367,
          0.47368421052631576,
          0,
          0.3157894736842105,
          0.7,
          0.2,
          0.5,
          0,
          0.2,
          0.2,
          0.8,
          0.1,
          0.2,
          0.4,
          0.3,
          0.4,
          0.2,
          0.7,
          0.3,
          0.4,
          0.2,
          0.4,
          0.3,
          0.2,
          0.5,
          0.4444444444444444,
          0.2777777777777778,
          0.5,
          0.2777777777777778,
          0.7777777777777778,
          0.5555555555555556,
          0.7222222222222222,
          0.5,
          0.3888888888888889,
          0.7777777777777778,
          0.5555555555555556,
          0.3333333333333333,
          0.4444444444444444,
          0.16666666666666666,
          0.8888888888888888,
          0.6111111111111112,
          0.7777777777777778,
          0.16666666666666666,
          0.1111111111111111,
          0,
          0.5555555555555556,
          0.1111111111111111,
          0.9444444444444444,
          0.2777777777777778,
          0,
          0.1111111111111111,
          0.2777777777777778,
          0.5,
          0.5555555555555556,
          0.2777777777777778,
          0.6666666666666666,
          0.5555555555555556,
          0.4444444444444444,
          0.2777777777777778,
          0.1111111111111111,
          0.8,
          0.4,
          0.2,
          0.5,
          0.6,
          0.5,
          0.8,
          0.7,
          0.2,
          0.7,
          0.4,
          0,
          0.8,
          0.3,
          0.5,
          0.7,
          0.3,
          0.7,
          0.1,
          0.4444444444444444,
          0.8888888888888888,
          0.1111111111111111,
          0.3333333333333333,
          0.5555555555555556,
          0.3333333333333333,
          0.6666666666666666,
          0.8888888888888888,
          0.7777777777777778,
          0.7777777777777778,
          0.6666666666666666,
          0.3333333333333333,
          0.1111111111111111,
          0,
          0.7777777777777778,
          0,
          0.8888888888888888,
          0.2222222222222222,
          0.5238095238095238,
          0.23809523809523808,
          0.42857142857142855,
          0.3333333333333333,
          0.7619047619047619,
          0.5238095238095238,
          0.6666666666666666,
          0.3333333333333333,
          0.47619047619047616,
          0.42857142857142855,
          0.42857142857142855,
          0.6666666666666666,
          0.6190476190476191,
          0.3333333333333333,
          0.8095238095238095,
          0.23809523809523808,
          0.9523809523809523,
          0.7619047619047619,
          0.5714285714285714,
          0.47619047619047616,
          0.5238095238095238,
          0.3333333333333333,
          0.2857142857142857,
          0.047619047619047616,
          0.3333333333333333,
          0.5714285714285714,
          0,
          0.5714285714285714,
          0.2857142857142857,
          0.19047619047619047,
          0.38095238095238093,
          0.14285714285714285,
          0.3333333333333333,
          0.09523809523809523,
          0,
          0,
          0.47619047619047616,
          0.5714285714285714,
          0.3333333333333333,
          0.23809523809523808,
          0.38095238095238093,
          0.2857142857142857,
          0.6428571428571429,
          0.14285714285714285,
          0.35714285714285715,
          0.5714285714285714,
          0.21428571428571427,
          0.35714285714285715,
          0.21428571428571427,
          0.2857142857142857,
          0,
          0.5714285714285714,
          0.2857142857142857,
          0.21428571428571427,
          0.14285714285714285,
          0.6428571428571429,
          0.07142857142857142,
          0.5,
          0.21428571428571427,
          0.5714285714285714,
          0.5,
          0.6428571428571429,
          0.07142857142857142,
          0.35714285714285715,
          0.6428571428571429,
          0.6428571428571429,
          0.07142857142857142,
          0.21428571428571427,
          0,
          0.35714285714285715,
          0.2222222222222222,
          0.5555555555555556,
          0.4444444444444444,
          0.3333333333333333,
          0.2222222222222222,
          0.8888888888888888,
          0.5555555555555556,
          0.3333333333333333,
          0.5555555555555556,
          0.1111111111111111,
          0.4,
          0.8,
          0.5,
          0.6,
          0.4,
          0.4,
          0.3,
          0.7,
          0.7,
          0.3888888888888889,
          0.16666666666666666,
          0.16666666666666666,
          0.3888888888888889,
          0.3333333333333333,
          0.7777777777777778,
          0.05555555555555555,
          0.05555555555555555,
          0.6666666666666666,
          0.7222222222222222,
          0.3333333333333333,
          0.2222222222222222,
          0.05555555555555555,
          0.5,
          0.6111111111111112,
          0.2222222222222222,
          0.6111111111111112,
          0.5555555555555556,
          0.2777777777777778,
          0.2222222222222222,
          0.2,
          0.45,
          0.25,
          0.45,
          0.5,
          0.9,
          0.6,
          0.55,
          0.5,
          0.7,
          0.5,
          0.5,
          0.65,
          0.3,
          0.55,
          0.5,
          0.15,
          0.35,
          0.5263157894736842,
          0.2631578947368421,
          0.42105263157894735,
          0.42105263157894735,
          0.5789473684210527,
          0.6842105263157895,
          0.5263157894736842,
          0.3157894736842105,
          0.7368421052631579,
          0.47368421052631576,
          0.8947368421052632,
          0.15789473684210525,
          0.5263157894736842,
          0.47368421052631576,
          0.3157894736842105,
          0.2631578947368421,
          0.2631578947368421,
          0.2631578947368421,
          0.3333333333333333,
          0.6666666666666666,
          0.3333333333333333,
          0.7777777777777778,
          0.5,
          0.1111111111111111,
          0.16666666666666666,
          0.6111111111111112,
          0.2777777777777778,
          0.3333333333333333,
          0.7222222222222222,
          0.5,
          0.6111111111111112,
          0.7222222222222222,
          0.5,
          0.3333333333333333,
          0.6111111111111112,
          0.4444444444444444,
          0.05555555555555555,
          0.875,
          0.125,
          0.625,
          0.125,
          0.875,
          0.5,
          0.8333333333333334,
          0.3333333333333333,
          0.5,
          0,
          0.16666666666666666,
          0.16666666666666666,
          0.6666666666666666,
          0.5,
          0.6428571428571429,
          0.5,
          0.5,
          0.42857142857142855,
          0.7857142857142857,
          0.2857142857142857,
          0.5,
          0.2857142857142857,
          0.7142857142857143,
          0.6428571428571429,
          0.5,
          0.5,
          0.4,
          0.2,
          0.5,
          0.4,
          0.5,
          0.3,
          0.6,
          0.3,
          0.3,
          0,
          0.1,
          0.1,
          0.5,
          0.16666666666666666,
          1,
          0.16666666666666666,
          0.3333333333333333,
          0.6666666666666666
         ],
         "xaxis": "x",
         "y": [
          6.7,
          7.7,
          6.5,
          7,
          5.3,
          6.8,
          7.9,
          8.2,
          7,
          6.333333333333333,
          5.6,
          7.1,
          4.8,
          8.2,
          5.7,
          5.6,
          6.7,
          5.1,
          7.7,
          7.5,
          5.0625,
          4.8,
          5.9375,
          6.5,
          7.6875,
          7.625,
          8.1875,
          6.625,
          5.75,
          6.0625,
          7.875,
          6.933333333333334,
          6,
          7.1875,
          7.3125,
          6.25,
          4.933333333333334,
          6.533333333333333,
          4.333333333333333,
          4.105263157894737,
          3.6842105263157894,
          4.947368421052632,
          4.2631578947368425,
          4.894736842105263,
          5.2105263157894735,
          7.631578947368421,
          4.052631578947368,
          6.7368421052631575,
          6.315789473684211,
          6.315789473684211,
          5.368421052631579,
          3.8333333333333335,
          6.888888888888889,
          4.421052631578948,
          6.2105263157894735,
          7.5,
          5.3,
          5.888888888888889,
          5.4,
          4.8,
          3.9,
          8.3,
          4.4,
          5.3,
          6.5,
          5.444444444444445,
          6.555555555555555,
          5.5,
          7.3,
          6,
          5,
          6.4,
          6.111111111111111,
          5.3,
          5.222222222222222,
          6.222222222222222,
          6.833333333333333,
          6.472222222222222,
          5.888888888888889,
          6.388888888888889,
          7.888888888888889,
          6.611111111111111,
          7.333333333333333,
          6.777777777777778,
          6.388888888888889,
          7.333333333333333,
          7.5,
          7,
          6.944444444444445,
          5.888888888888889,
          8.38888888888889,
          7.888888888888889,
          7.138888888888889,
          3.6666666666666665,
          4.666666666666667,
          4.388888888888889,
          7.166666666666667,
          5.611111111111111,
          7.833333333333333,
          4.555555555555555,
          4,
          4.111111111111111,
          6.222222222222222,
          6.9411764705882355,
          6.277777777777778,
          5.111111111111111,
          6.888888888888889,
          7.166666666666667,
          5.833333333333333,
          5.5,
          4.777777777777778,
          7.9,
          6.4,
          5,
          7.222222222222222,
          6.7,
          7.777777777777778,
          7.9,
          7.8,
          4.8,
          7.777777777777778,
          6.375,
          3.7777777777777777,
          8,
          6.111111111111111,
          7.333333333333333,
          7.555555555555555,
          6.222222222222222,
          7.333333333333333,
          4.428571428571429,
          5.888888888888889,
          7.888888888888889,
          5.555555555555555,
          5.333333333333333,
          6.666666666666667,
          5.777777777777778,
          6.777777777777778,
          6.666666666666667,
          8,
          5.666666666666667,
          6.333333333333333,
          4.777777777777778,
          4.111111111111111,
          4,
          7,
          4.222222222222222,
          6.777777777777778,
          4.777777777777778,
          6.833333333333333,
          3.857142857142857,
          5.809523809523809,
          5.714285714285714,
          6.571428571428571,
          6.857142857142857,
          6.904761904761905,
          6.55,
          5.619047619047619,
          5.285714285714286,
          5.380952380952381,
          5.857142857142857,
          6.095238095238095,
          5,
          7.357142857142857,
          5.9523809523809526,
          8.5,
          7.476190476190476,
          6.142857142857143,
          6.523809523809524,
          7.571428571428571,
          5.857142857142857,
          5.619047619047619,
          6.285714285714286,
          5.809523809523809,
          6.523809523809524,
          4.476190476190476,
          7.023809523809524,
          4.857142857142857,
          5.523809523809524,
          6.476190476190476,
          5.1,
          5.809523809523809,
          4.571428571428571,
          4.809523809523809,
          4.35,
          6,
          6.095238095238095,
          6.571428571428571,
          5.095238095238095,
          7.333333333333333,
          5.619047619047619,
          7.857142857142857,
          5.571428571428571,
          5.214285714285714,
          7.214285714285714,
          5.785714285714286,
          5.785714285714286,
          5.642857142857143,
          6.142857142857143,
          5.071428571428571,
          7.214285714285714,
          6.428571428571429,
          6.571428571428571,
          6.928571428571429,
          7.214285714285714,
          5.071428571428571,
          6.642857142857143,
          6.071428571428571,
          7.392857142857143,
          6.785714285714286,
          7,
          5.571428571428571,
          6.392857142857143,
          7.538461538461538,
          7.928571428571429,
          5.071428571428571,
          4.428571428571429,
          5.5,
          6.071428571428571,
          6.444444444444445,
          7.777777777777778,
          7.111111111111111,
          6.222222222222222,
          4.888888888888889,
          8.333333333333334,
          7.333333333333333,
          5,
          7.555555555555555,
          4.444444444444445,
          5.1,
          7.8,
          7.3,
          6.222222222222222,
          6.1,
          5.9,
          4.8,
          7,
          7.777777777777778,
          7.0625,
          5.9375,
          5.25,
          6.888888888888889,
          6,
          8.277777777777779,
          3.2,
          4.705882352941177,
          8.176470588235293,
          7.666666666666667,
          6.882352941176471,
          5.888888888888889,
          4.9375,
          6.833333333333333,
          7.235294117647059,
          7.98888888888889,
          7.588235294117647,
          7.411764705882353,
          6.21875,
          6.0625,
          4.166666666666667,
          5.526315789473684,
          5.105263157894737,
          6.4,
          7,
          7.526315789473684,
          6.555555555555555,
          6.352941176470588,
          6.4,
          7.9411764705882355,
          7.3,
          6.647058823529412,
          8.529411764705882,
          5.647058823529412,
          8.31578947368421,
          6.421052631578948,
          5.555555555555555,
          6.555555555555555,
          6.294117647058823,
          5.944444444444445,
          6.388888888888889,
          6.222222222222222,
          6.333333333333333,
          7,
          7.052631578947368,
          5.631578947368421,
          8.18421052631579,
          6.973684210526316,
          7.611111111111111,
          3.611111111111111,
          6.526315789473684,
          6,
          5.111111111111111,
          5.444444444444445,
          5.684210526315789,
          5.294117647058823,
          5.722222222222222,
          7.111111111111111,
          6.9,
          7.111111111111111,
          6.333333333333333,
          5.111111111111111,
          4.888888888888889,
          8.305555555555555,
          5.388888888888889,
          5.777777777777778,
          7.111111111111111,
          6.722222222222222,
          6.833333333333333,
          7.222222222222222,
          7.027777777777778,
          5.722222222222222,
          6.888888888888889,
          6.470588235294118,
          3.9375,
          7.25,
          5.25,
          6.75,
          6.285714285714286,
          7.5,
          6.875,
          6.5,
          6.166666666666667,
          5.166666666666667,
          3.4166666666666665,
          3.5,
          5.666666666666667,
          6,
          6.833333333333333,
          6.142857142857143,
          5.785714285714286,
          6.571428571428571,
          5.142857142857143,
          7.142857142857143,
          5.642857142857143,
          7.285714285714286,
          5.928571428571429,
          6.5,
          7.428571428571429,
          8.4,
          6.6,
          6.1,
          6.3,
          8.4,
          6.5,
          6.1,
          7.1,
          7.9,
          7.7,
          5.6,
          2.8,
          4.2,
          3.7,
          5.833333333333333,
          5.5,
          7.5,
          5.666666666666667,
          6.166666666666667,
          7.666666666666667
         ],
         "yaxis": "y"
        },
        {
         "mode": "markers",
         "name": "fun score",
         "type": "scatter",
         "x": [
          0.5,
          0.6,
          0.5,
          0.6,
          0.3,
          0.5,
          0.7,
          0.8,
          0.7,
          0.4,
          0.4,
          0.4,
          0.4,
          0.8,
          0.3,
          0.3,
          0.8,
          0.3,
          0.9,
          0.9,
          0.1875,
          0.1875,
          0.375,
          0.5,
          0.875,
          0.9375,
          0.9375,
          0.5,
          0.1875,
          0.25,
          0.8125,
          0.5625,
          0.25,
          0.6875,
          0.6875,
          0.5,
          0.1875,
          0.4375,
          0.125,
          0.21052631578947367,
          0,
          0.21052631578947367,
          0.15789473684210525,
          0.21052631578947367,
          0.21052631578947367,
          0.47368421052631576,
          0.05263157894736842,
          0.42105263157894735,
          0.42105263157894735,
          0.5789473684210527,
          0.2631578947368421,
          0.21052631578947367,
          0.47368421052631576,
          0,
          0.3157894736842105,
          0.7,
          0.2,
          0.5,
          0,
          0.2,
          0.2,
          0.8,
          0.1,
          0.2,
          0.4,
          0.3,
          0.4,
          0.2,
          0.7,
          0.3,
          0.4,
          0.2,
          0.4,
          0.3,
          0.2,
          0.5,
          0.4444444444444444,
          0.2777777777777778,
          0.5,
          0.2777777777777778,
          0.7777777777777778,
          0.5555555555555556,
          0.7222222222222222,
          0.5,
          0.3888888888888889,
          0.7777777777777778,
          0.5555555555555556,
          0.3333333333333333,
          0.4444444444444444,
          0.16666666666666666,
          0.8888888888888888,
          0.6111111111111112,
          0.7777777777777778,
          0.16666666666666666,
          0.1111111111111111,
          0,
          0.5555555555555556,
          0.1111111111111111,
          0.9444444444444444,
          0.2777777777777778,
          0,
          0.1111111111111111,
          0.2777777777777778,
          0.5,
          0.5555555555555556,
          0.2777777777777778,
          0.6666666666666666,
          0.5555555555555556,
          0.4444444444444444,
          0.2777777777777778,
          0.1111111111111111,
          0.8,
          0.4,
          0.2,
          0.5,
          0.6,
          0.5,
          0.8,
          0.7,
          0.2,
          0.7,
          0.4,
          0,
          0.8,
          0.3,
          0.5,
          0.7,
          0.3,
          0.7,
          0.1,
          0.4444444444444444,
          0.8888888888888888,
          0.1111111111111111,
          0.3333333333333333,
          0.5555555555555556,
          0.3333333333333333,
          0.6666666666666666,
          0.8888888888888888,
          0.7777777777777778,
          0.7777777777777778,
          0.6666666666666666,
          0.3333333333333333,
          0.1111111111111111,
          0,
          0.7777777777777778,
          0,
          0.8888888888888888,
          0.2222222222222222,
          0.5238095238095238,
          0.23809523809523808,
          0.42857142857142855,
          0.3333333333333333,
          0.7619047619047619,
          0.5238095238095238,
          0.6666666666666666,
          0.3333333333333333,
          0.47619047619047616,
          0.42857142857142855,
          0.42857142857142855,
          0.6666666666666666,
          0.6190476190476191,
          0.3333333333333333,
          0.8095238095238095,
          0.23809523809523808,
          0.9523809523809523,
          0.7619047619047619,
          0.5714285714285714,
          0.47619047619047616,
          0.5238095238095238,
          0.3333333333333333,
          0.2857142857142857,
          0.047619047619047616,
          0.3333333333333333,
          0.5714285714285714,
          0,
          0.5714285714285714,
          0.2857142857142857,
          0.19047619047619047,
          0.38095238095238093,
          0.14285714285714285,
          0.3333333333333333,
          0.09523809523809523,
          0,
          0,
          0.47619047619047616,
          0.5714285714285714,
          0.3333333333333333,
          0.23809523809523808,
          0.38095238095238093,
          0.2857142857142857,
          0.6428571428571429,
          0.14285714285714285,
          0.35714285714285715,
          0.5714285714285714,
          0.21428571428571427,
          0.35714285714285715,
          0.21428571428571427,
          0.2857142857142857,
          0,
          0.5714285714285714,
          0.2857142857142857,
          0.21428571428571427,
          0.14285714285714285,
          0.6428571428571429,
          0.07142857142857142,
          0.5,
          0.21428571428571427,
          0.5714285714285714,
          0.5,
          0.6428571428571429,
          0.07142857142857142,
          0.35714285714285715,
          0.6428571428571429,
          0.6428571428571429,
          0.07142857142857142,
          0.21428571428571427,
          0,
          0.35714285714285715,
          0.2222222222222222,
          0.5555555555555556,
          0.4444444444444444,
          0.3333333333333333,
          0.2222222222222222,
          0.8888888888888888,
          0.5555555555555556,
          0.3333333333333333,
          0.5555555555555556,
          0.1111111111111111,
          0.4,
          0.8,
          0.5,
          0.6,
          0.4,
          0.4,
          0.3,
          0.7,
          0.7,
          0.3888888888888889,
          0.16666666666666666,
          0.16666666666666666,
          0.3888888888888889,
          0.3333333333333333,
          0.7777777777777778,
          0.05555555555555555,
          0.05555555555555555,
          0.6666666666666666,
          0.7222222222222222,
          0.3333333333333333,
          0.2222222222222222,
          0.05555555555555555,
          0.5,
          0.6111111111111112,
          0.2222222222222222,
          0.6111111111111112,
          0.5555555555555556,
          0.2777777777777778,
          0.2222222222222222,
          0.2,
          0.45,
          0.25,
          0.45,
          0.5,
          0.9,
          0.6,
          0.55,
          0.5,
          0.7,
          0.5,
          0.5,
          0.65,
          0.3,
          0.55,
          0.5,
          0.15,
          0.35,
          0.5263157894736842,
          0.2631578947368421,
          0.42105263157894735,
          0.42105263157894735,
          0.5789473684210527,
          0.6842105263157895,
          0.5263157894736842,
          0.3157894736842105,
          0.7368421052631579,
          0.47368421052631576,
          0.8947368421052632,
          0.15789473684210525,
          0.5263157894736842,
          0.47368421052631576,
          0.3157894736842105,
          0.2631578947368421,
          0.2631578947368421,
          0.2631578947368421,
          0.3333333333333333,
          0.6666666666666666,
          0.3333333333333333,
          0.7777777777777778,
          0.5,
          0.1111111111111111,
          0.16666666666666666,
          0.6111111111111112,
          0.2777777777777778,
          0.3333333333333333,
          0.7222222222222222,
          0.5,
          0.6111111111111112,
          0.7222222222222222,
          0.5,
          0.3333333333333333,
          0.6111111111111112,
          0.4444444444444444,
          0.05555555555555555,
          0.875,
          0.125,
          0.625,
          0.125,
          0.875,
          0.5,
          0.8333333333333334,
          0.3333333333333333,
          0.5,
          0,
          0.16666666666666666,
          0.16666666666666666,
          0.6666666666666666,
          0.5,
          0.6428571428571429,
          0.5,
          0.5,
          0.42857142857142855,
          0.7857142857142857,
          0.2857142857142857,
          0.5,
          0.2857142857142857,
          0.7142857142857143,
          0.6428571428571429,
          0.5,
          0.5,
          0.4,
          0.2,
          0.5,
          0.4,
          0.5,
          0.3,
          0.6,
          0.3,
          0.3,
          0,
          0.1,
          0.1,
          0.5,
          0.16666666666666666,
          1,
          0.16666666666666666,
          0.3333333333333333,
          0.6666666666666666
         ],
         "xaxis": "x2",
         "y": [
          7.2,
          7.5,
          6.2,
          7.5,
          7.2,
          7,
          7,
          7.9,
          7.8,
          6.4,
          5.4,
          6.7,
          7,
          7.6,
          7.2,
          4.4,
          6.1,
          5.2,
          8.5,
          8.2,
          5.666666666666667,
          5.5,
          6.25,
          6.625,
          7.333333333333333,
          7.466666666666667,
          7.5625,
          6.375,
          6.133333333333334,
          6.266666666666667,
          6.5,
          7.2,
          6.8125,
          6.866666666666666,
          5.571428571428571,
          6.066666666666666,
          5.666666666666667,
          7.6,
          7.266666666666667,
          5.947368421052632,
          4,
          5.7368421052631575,
          4.631578947368421,
          4.611111111111111,
          3.7777777777777777,
          6.777777777777778,
          5.631578947368421,
          6.7894736842105265,
          6.973684210526316,
          7.631578947368421,
          4.2105263157894735,
          5.111111111111111,
          5.611111111111111,
          4.842105263157895,
          7.111111111111111,
          6.9,
          5.9,
          6.375,
          3.75,
          6.5,
          5.3,
          7,
          6.2,
          5.6,
          7.8,
          6.222222222222222,
          6.333333333333333,
          4.9,
          7.1,
          8,
          5.222222222222222,
          5,
          7.555555555555555,
          6,
          5.444444444444445,
          7.647058823529412,
          6.529411764705882,
          5.411764705882353,
          6.882352941176471,
          5.78125,
          7,
          6.9411764705882355,
          7.352941176470588,
          6.911764705882353,
          6.352941176470588,
          7.666666666666667,
          6.9411764705882355,
          6.888888888888889,
          6,
          4.823529411764706,
          7.764705882352941,
          6.176470588235294,
          7.5,
          5.722222222222222,
          5.388888888888889,
          5.111111111111111,
          7.0588235294117645,
          4.111111111111111,
          7.5,
          5.823529411764706,
          4.588235294117647,
          4.764705882352941,
          6.4375,
          6.888888888888889,
          8.055555555555555,
          6.647058823529412,
          8.11111111111111,
          6.777777777777778,
          7.222222222222222,
          6.833333333333333,
          6.5,
          7,
          6.6,
          5.5,
          7.222222222222222,
          6.3,
          7.444444444444445,
          6.8,
          7.3,
          4.8,
          8.444444444444445,
          5.777777777777778,
          2.625,
          8.444444444444445,
          6.777777777777778,
          6.111111111111111,
          6.875,
          6.625,
          6.555555555555555,
          4,
          6.75,
          7.444444444444445,
          4.111111111111111,
          5.888888888888889,
          6.75,
          5.333333333333333,
          8,
          7.444444444444445,
          7.111111111111111,
          5.666666666666667,
          6.666666666666667,
          5.777777777777778,
          5.444444444444445,
          4.666666666666667,
          7.666666666666667,
          5.555555555555555,
          6.888888888888889,
          5.555555555555555,
          7.142857142857143,
          4.65,
          6.25,
          5,
          6.333333333333333,
          6.45,
          6.9,
          5.842105263157895,
          6,
          5.55,
          5.904761904761905,
          7.285714285714286,
          6.3,
          3.85,
          7.075,
          5.55,
          7.525,
          7.142857142857143,
          6.238095238095238,
          6.190476190476191,
          6.714285714285714,
          5.571428571428571,
          5.857142857142857,
          5.238095238095238,
          6.238095238095238,
          6.333333333333333,
          5.142857142857143,
          6.428571428571429,
          5.428571428571429,
          4.619047619047619,
          7.142857142857143,
          5.7,
          5.9523809523809526,
          4.619047619047619,
          5.0476190476190474,
          4.2,
          6.142857142857143,
          7.380952380952381,
          5.380952380952381,
          6.095238095238095,
          6.619047619047619,
          5.380952380952381,
          7.071428571428571,
          5.857142857142857,
          5.928571428571429,
          6.571428571428571,
          5.928571428571429,
          6.785714285714286,
          5.714285714285714,
          6.5,
          6.285714285714286,
          6.857142857142857,
          7.142857142857143,
          5.928571428571429,
          6.071428571428571,
          7.142857142857143,
          5.846153846153846,
          7.214285714285714,
          4.923076923076923,
          7.142857142857143,
          6.928571428571429,
          7.769230769230769,
          5.857142857142857,
          6.3076923076923075,
          8.142857142857142,
          8.615384615384615,
          6,
          6.357142857142857,
          5.642857142857143,
          5.846153846153846,
          6.111111111111111,
          5.777777777777778,
          7.666666666666667,
          8.11111111111111,
          6.666666666666667,
          8.11111111111111,
          7,
          4.777777777777778,
          7.444444444444445,
          4.666666666666667,
          7.1,
          8.1,
          8,
          6.333333333333333,
          7.4,
          7.2,
          5.8,
          7.8,
          6.888888888888889,
          7.1875,
          6.1875,
          5.8125,
          7.166666666666667,
          7,
          7.444444444444445,
          4.2,
          6.588235294117647,
          7.705882352941177,
          7.277777777777778,
          5.529411764705882,
          5.277777777777778,
          4.8125,
          7.833333333333333,
          7.0588235294117645,
          5.555555555555555,
          6.9411764705882355,
          6.588235294117647,
          5.3125,
          5.933333333333334,
          4.777777777777778,
          6.833333333333333,
          5.842105263157895,
          7.4,
          7.352941176470588,
          7.421052631578948,
          7,
          7.529411764705882,
          8,
          7.647058823529412,
          6.944444444444445,
          6.882352941176471,
          7.5625,
          5.647058823529412,
          6.7368421052631575,
          6.611111111111111,
          5,
          6.411764705882353,
          6.5625,
          6.555555555555555,
          6.470588235294118,
          5.555555555555555,
          6.666666666666667,
          8.105263157894736,
          7.2105263157894735,
          6.7894736842105265,
          7.75,
          6.9411764705882355,
          7.861111111111111,
          4.277777777777778,
          6.647058823529412,
          7.105263157894737,
          6.444444444444445,
          5.888888888888889,
          6.277777777777778,
          5.823529411764706,
          5.5,
          8.352941176470589,
          6.5,
          7.176470588235294,
          6.0588235294117645,
          6.555555555555555,
          6.0588235294117645,
          6.888888888888889,
          6.722222222222222,
          7.9411764705882355,
          6.888888888888889,
          7,
          7.352941176470588,
          7.647058823529412,
          7.833333333333333,
          6.705882352941177,
          7,
          6.0588235294117645,
          3.875,
          7.625,
          6,
          7.25,
          6.285714285714286,
          7.75,
          6.125,
          7.333333333333333,
          5.833333333333333,
          6,
          4.166666666666667,
          4.833333333333333,
          4.833333333333333,
          6.833333333333333,
          5.833333333333333,
          5.928571428571429,
          4.5,
          6.5,
          6.714285714285714,
          6.357142857142857,
          6.571428571428571,
          7.5,
          6,
          6.642857142857143,
          6,
          8.1,
          7.4,
          6.1,
          7.666666666666667,
          7.5,
          6.9,
          5.8,
          6.9,
          7.9,
          7.7,
          7,
          4.8,
          7,
          4.888888888888889,
          6.6,
          6.6,
          7,
          7.2,
          6.6,
          6.666666666666667
         ],
         "yaxis": "y2"
        },
        {
         "mode": "markers",
         "name": "amb score",
         "type": "scatter",
         "x": [
          0.5,
          0.6,
          0.5,
          0.6,
          0.3,
          0.5,
          0.7,
          0.8,
          0.7,
          0.4,
          0.4,
          0.4,
          0.4,
          0.8,
          0.3,
          0.3,
          0.8,
          0.3,
          0.9,
          0.9,
          0.1875,
          0.1875,
          0.375,
          0.5,
          0.875,
          0.9375,
          0.9375,
          0.5,
          0.1875,
          0.25,
          0.8125,
          0.5625,
          0.25,
          0.6875,
          0.6875,
          0.5,
          0.1875,
          0.4375,
          0.125,
          0.21052631578947367,
          0,
          0.21052631578947367,
          0.15789473684210525,
          0.21052631578947367,
          0.21052631578947367,
          0.47368421052631576,
          0.05263157894736842,
          0.42105263157894735,
          0.42105263157894735,
          0.5789473684210527,
          0.2631578947368421,
          0.21052631578947367,
          0.47368421052631576,
          0,
          0.3157894736842105,
          0.7,
          0.2,
          0.5,
          0,
          0.2,
          0.2,
          0.8,
          0.1,
          0.2,
          0.4,
          0.3,
          0.4,
          0.2,
          0.7,
          0.3,
          0.4,
          0.2,
          0.4,
          0.3,
          0.2,
          0.5,
          0.4444444444444444,
          0.2777777777777778,
          0.5,
          0.2777777777777778,
          0.7777777777777778,
          0.5555555555555556,
          0.7222222222222222,
          0.5,
          0.3888888888888889,
          0.7777777777777778,
          0.5555555555555556,
          0.3333333333333333,
          0.4444444444444444,
          0.16666666666666666,
          0.8888888888888888,
          0.6111111111111112,
          0.7777777777777778,
          0.16666666666666666,
          0.1111111111111111,
          0,
          0.5555555555555556,
          0.1111111111111111,
          0.9444444444444444,
          0.2777777777777778,
          0,
          0.1111111111111111,
          0.2777777777777778,
          0.5,
          0.5555555555555556,
          0.2777777777777778,
          0.6666666666666666,
          0.5555555555555556,
          0.4444444444444444,
          0.2777777777777778,
          0.1111111111111111,
          0.8,
          0.4,
          0.2,
          0.5,
          0.6,
          0.5,
          0.8,
          0.7,
          0.2,
          0.7,
          0.4,
          0,
          0.8,
          0.3,
          0.5,
          0.7,
          0.3,
          0.7,
          0.1,
          0.4444444444444444,
          0.8888888888888888,
          0.1111111111111111,
          0.3333333333333333,
          0.5555555555555556,
          0.3333333333333333,
          0.6666666666666666,
          0.8888888888888888,
          0.7777777777777778,
          0.7777777777777778,
          0.6666666666666666,
          0.3333333333333333,
          0.1111111111111111,
          0,
          0.7777777777777778,
          0,
          0.8888888888888888,
          0.2222222222222222,
          0.5238095238095238,
          0.23809523809523808,
          0.42857142857142855,
          0.3333333333333333,
          0.7619047619047619,
          0.5238095238095238,
          0.6666666666666666,
          0.3333333333333333,
          0.47619047619047616,
          0.42857142857142855,
          0.42857142857142855,
          0.6666666666666666,
          0.6190476190476191,
          0.3333333333333333,
          0.8095238095238095,
          0.23809523809523808,
          0.9523809523809523,
          0.7619047619047619,
          0.5714285714285714,
          0.47619047619047616,
          0.5238095238095238,
          0.3333333333333333,
          0.2857142857142857,
          0.047619047619047616,
          0.3333333333333333,
          0.5714285714285714,
          0,
          0.5714285714285714,
          0.2857142857142857,
          0.19047619047619047,
          0.38095238095238093,
          0.14285714285714285,
          0.3333333333333333,
          0.09523809523809523,
          0,
          0,
          0.47619047619047616,
          0.5714285714285714,
          0.3333333333333333,
          0.23809523809523808,
          0.38095238095238093,
          0.2857142857142857,
          0.6428571428571429,
          0.14285714285714285,
          0.35714285714285715,
          0.5714285714285714,
          0.21428571428571427,
          0.35714285714285715,
          0.21428571428571427,
          0.2857142857142857,
          0,
          0.5714285714285714,
          0.2857142857142857,
          0.21428571428571427,
          0.14285714285714285,
          0.6428571428571429,
          0.07142857142857142,
          0.5,
          0.21428571428571427,
          0.5714285714285714,
          0.5,
          0.6428571428571429,
          0.07142857142857142,
          0.35714285714285715,
          0.6428571428571429,
          0.6428571428571429,
          0.07142857142857142,
          0.21428571428571427,
          0,
          0.35714285714285715,
          0.2222222222222222,
          0.5555555555555556,
          0.4444444444444444,
          0.3333333333333333,
          0.2222222222222222,
          0.8888888888888888,
          0.5555555555555556,
          0.3333333333333333,
          0.5555555555555556,
          0.1111111111111111,
          0.4,
          0.8,
          0.5,
          0.6,
          0.4,
          0.4,
          0.3,
          0.7,
          0.7,
          0.3888888888888889,
          0.16666666666666666,
          0.16666666666666666,
          0.3888888888888889,
          0.3333333333333333,
          0.7777777777777778,
          0.05555555555555555,
          0.05555555555555555,
          0.6666666666666666,
          0.7222222222222222,
          0.3333333333333333,
          0.2222222222222222,
          0.05555555555555555,
          0.5,
          0.6111111111111112,
          0.2222222222222222,
          0.6111111111111112,
          0.5555555555555556,
          0.2777777777777778,
          0.2222222222222222,
          0.2,
          0.45,
          0.25,
          0.45,
          0.5,
          0.9,
          0.6,
          0.55,
          0.5,
          0.7,
          0.5,
          0.5,
          0.65,
          0.3,
          0.55,
          0.5,
          0.15,
          0.35,
          0.5263157894736842,
          0.2631578947368421,
          0.42105263157894735,
          0.42105263157894735,
          0.5789473684210527,
          0.6842105263157895,
          0.5263157894736842,
          0.3157894736842105,
          0.7368421052631579,
          0.47368421052631576,
          0.8947368421052632,
          0.15789473684210525,
          0.5263157894736842,
          0.47368421052631576,
          0.3157894736842105,
          0.2631578947368421,
          0.2631578947368421,
          0.2631578947368421,
          0.3333333333333333,
          0.6666666666666666,
          0.3333333333333333,
          0.7777777777777778,
          0.5,
          0.1111111111111111,
          0.16666666666666666,
          0.6111111111111112,
          0.2777777777777778,
          0.3333333333333333,
          0.7222222222222222,
          0.5,
          0.6111111111111112,
          0.7222222222222222,
          0.5,
          0.3333333333333333,
          0.6111111111111112,
          0.4444444444444444,
          0.05555555555555555,
          0.875,
          0.125,
          0.625,
          0.125,
          0.875,
          0.5,
          0.8333333333333334,
          0.3333333333333333,
          0.5,
          0,
          0.16666666666666666,
          0.16666666666666666,
          0.6666666666666666,
          0.5,
          0.6428571428571429,
          0.5,
          0.5,
          0.42857142857142855,
          0.7857142857142857,
          0.2857142857142857,
          0.5,
          0.2857142857142857,
          0.7142857142857143,
          0.6428571428571429,
          0.5,
          0.5,
          0.4,
          0.2,
          0.5,
          0.4,
          0.5,
          0.3,
          0.6,
          0.3,
          0.3,
          0,
          0.1,
          0.1,
          0.5,
          0.16666666666666666,
          1,
          0.16666666666666666,
          0.3333333333333333,
          0.6666666666666666
         ],
         "xaxis": "x3",
         "y": [
          8,
          7.5,
          7.111111111111111,
          7.7,
          7.8,
          8,
          7.5,
          7.444444444444445,
          6.9,
          6.2,
          6.4,
          6.9,
          5.9,
          6.6,
          6.5,
          6,
          6.7,
          7.5,
          7.1,
          8.4,
          6.666666666666667,
          6.071428571428571,
          6.4,
          6.714285714285714,
          6,
          6.5,
          6.571428571428571,
          6.625,
          6.533333333333333,
          7.285714285714286,
          7.6,
          7.466666666666667,
          7.266666666666667,
          7.25,
          7.2,
          7.133333333333334,
          6.4,
          7.714285714285714,
          6.2,
          6,
          6.631578947368421,
          6.777777777777778,
          6.333333333333333,
          5.894736842105263,
          6.526315789473684,
          6.294117647058823,
          5.947368421052632,
          5.631578947368421,
          7.055555555555555,
          7.666666666666667,
          6.078947368421052,
          6.444444444444445,
          7.277777777777778,
          6.473684210526316,
          6.777777777777778,
          7,
          5.7,
          6.333333333333333,
          4,
          6,
          5.7,
          6.5,
          5.888888888888889,
          6.5,
          6.2,
          6.625,
          7,
          6,
          7.111111111111111,
          8.444444444444445,
          7.333333333333333,
          5.6,
          8.25,
          7.2,
          7.25,
          6.533333333333333,
          6.333333333333333,
          5.25,
          6.25,
          6.733333333333333,
          8,
          5.9375,
          7.0625,
          6.875,
          6.2,
          7.266666666666667,
          6.466666666666667,
          6.533333333333333,
          7.352941176470588,
          6.0625,
          8.1875,
          6.666666666666667,
          6.9,
          7.529411764705882,
          6.722222222222222,
          7,
          7.357142857142857,
          6.0588235294117645,
          7.647058823529412,
          7.6,
          7,
          6.25,
          7.176470588235294,
          7,
          7.647058823529412,
          6.9411764705882355,
          7.4375,
          6.944444444444445,
          7.277777777777778,
          7.235294117647059,
          7.117647058823529,
          6.2,
          6,
          6.111111111111111,
          6.444444444444445,
          6.3,
          7.444444444444445,
          6.7,
          6.9,
          5.4,
          7.333333333333333,
          6.888888888888889,
          8.444444444444445,
          8.222222222222221,
          7.888888888888889,
          6.111111111111111,
          6.625,
          6.444444444444445,
          6.777777777777778,
          6.333333333333333,
          7.285714285714286,
          5.857142857142857,
          5.857142857142857,
          6.166666666666667,
          7.125,
          5.5,
          7.333333333333333,
          7.142857142857143,
          5.888888888888889,
          5.444444444444445,
          7.777777777777778,
          7.333333333333333,
          5.75,
          6.333333333333333,
          7.666666666666667,
          7.888888888888889,
          8.444444444444445,
          5.857142857142857,
          6.894736842105263,
          5.833333333333333,
          6.75,
          5.55,
          6.894736842105263,
          6.5,
          6.555555555555555,
          6.833333333333333,
          6.833333333333333,
          5.842105263157895,
          6.055555555555555,
          6.421052631578948,
          6.277777777777778,
          5.45,
          6.25,
          5.388888888888889,
          7.7631578947368425,
          7.166666666666667,
          6.473684210526316,
          5.722222222222222,
          6.526315789473684,
          6.35,
          6.095238095238095,
          6.7,
          6.142857142857143,
          6.45,
          6.523809523809524,
          6.904761904761905,
          6.105263157894737,
          5.95,
          6.3,
          6.2,
          6.1,
          6.142857142857143,
          6.1,
          6.05,
          6.55,
          6.65,
          6.380952380952381,
          7.857142857142857,
          7.0476190476190474,
          6.904761904761905,
          6.928571428571429,
          5.6923076923076925,
          7.071428571428571,
          6,
          5.571428571428571,
          6.071428571428571,
          5.769230769230769,
          7,
          5.857142857142857,
          6.285714285714286,
          6,
          6.214285714285714,
          5.384615384615385,
          6.3076923076923075,
          7.714285714285714,
          7,
          5.785714285714286,
          7.5,
          7.357142857142857,
          7.166666666666667,
          7.571428571428571,
          7.230769230769231,
          8.428571428571429,
          7.615384615384615,
          7.538461538461538,
          6.833333333333333,
          7.076923076923077,
          6.916666666666667,
          6.222222222222222,
          6.555555555555555,
          6.75,
          7,
          6.555555555555555,
          7.444444444444445,
          6.888888888888889,
          5.875,
          7.333333333333333,
          5.666666666666667,
          6.5,
          6.428571428571429,
          6.777777777777778,
          8.125,
          6.5,
          6.666666666666667,
          7.375,
          7.3,
          7.142857142857143,
          6.5625,
          6.4375,
          7.25,
          7.444444444444445,
          6.625,
          7.555555555555555,
          4.6,
          6.294117647058823,
          7.352941176470588,
          7.111111111111111,
          6.117647058823529,
          5.5,
          5.3125,
          7.166666666666667,
          6.705882352941177,
          6.888888888888889,
          6.882352941176471,
          8.529411764705882,
          6.625,
          6.533333333333333,
          6.75,
          6.7368421052631575,
          6.631578947368421,
          6.894736842105263,
          7.5,
          7.5625,
          7.0588235294117645,
          7,
          7,
          7.588235294117647,
          7,
          6.3125,
          8.125,
          7.133333333333334,
          6.647058823529412,
          8.157894736842104,
          6,
          6.3125,
          7.705882352941177,
          7.0625,
          6.875,
          6.647058823529412,
          6.4,
          6.722222222222222,
          6.5,
          6.625,
          7.0588235294117645,
          6.588235294117647,
          7.323529411764706,
          6.235294117647059,
          6.533333333333333,
          7,
          6.470588235294118,
          5.705882352941177,
          6.555555555555555,
          6.1875,
          7.3125,
          7.076923076923077,
          7.625,
          8.352941176470589,
          8,
          8.4375,
          7,
          7.357142857142857,
          8.294117647058824,
          8,
          7.4375,
          7.222222222222222,
          7.384615384615385,
          7.428571428571429,
          8.266666666666667,
          7.5,
          7.6,
          7.823529411764706,
          5.1875,
          7.5,
          6.375,
          7.285714285714286,
          7.428571428571429,
          7.125,
          6.142857142857143,
          7.833333333333333,
          7.166666666666667,
          6.833333333333333,
          7.833333333333333,
          7.833333333333333,
          6.333333333333333,
          8.666666666666666,
          7.833333333333333,
          5.642857142857143,
          7.142857142857143,
          5.785714285714286,
          5.928571428571429,
          5.642857142857143,
          6.642857142857143,
          7.357142857142857,
          5.071428571428571,
          6,
          5.5,
          8.2,
          7.4,
          7.7,
          8.2,
          8.3,
          7.5,
          7,
          8.4,
          8.6,
          8.3,
          7.9,
          8.1,
          8,
          8,
          6.2,
          6.6,
          7.5,
          5,
          8,
          7.666666666666667
         ],
         "yaxis": "y3"
        },
        {
         "mode": "markers",
         "name": "intel score",
         "type": "scatter",
         "x": [
          0.5,
          0.6,
          0.5,
          0.6,
          0.3,
          0.5,
          0.7,
          0.8,
          0.7,
          0.4,
          0.4,
          0.4,
          0.4,
          0.8,
          0.3,
          0.3,
          0.8,
          0.3,
          0.9,
          0.9,
          0.1875,
          0.1875,
          0.375,
          0.5,
          0.875,
          0.9375,
          0.9375,
          0.5,
          0.1875,
          0.25,
          0.8125,
          0.5625,
          0.25,
          0.6875,
          0.6875,
          0.5,
          0.1875,
          0.4375,
          0.125,
          0.21052631578947367,
          0,
          0.21052631578947367,
          0.15789473684210525,
          0.21052631578947367,
          0.21052631578947367,
          0.47368421052631576,
          0.05263157894736842,
          0.42105263157894735,
          0.42105263157894735,
          0.5789473684210527,
          0.2631578947368421,
          0.21052631578947367,
          0.47368421052631576,
          0,
          0.3157894736842105,
          0.7,
          0.2,
          0.5,
          0,
          0.2,
          0.2,
          0.8,
          0.1,
          0.2,
          0.4,
          0.3,
          0.4,
          0.2,
          0.7,
          0.3,
          0.4,
          0.2,
          0.4,
          0.3,
          0.2,
          0.5,
          0.4444444444444444,
          0.2777777777777778,
          0.5,
          0.2777777777777778,
          0.7777777777777778,
          0.5555555555555556,
          0.7222222222222222,
          0.5,
          0.3888888888888889,
          0.7777777777777778,
          0.5555555555555556,
          0.3333333333333333,
          0.4444444444444444,
          0.16666666666666666,
          0.8888888888888888,
          0.6111111111111112,
          0.7777777777777778,
          0.16666666666666666,
          0.1111111111111111,
          0,
          0.5555555555555556,
          0.1111111111111111,
          0.9444444444444444,
          0.2777777777777778,
          0,
          0.1111111111111111,
          0.2777777777777778,
          0.5,
          0.5555555555555556,
          0.2777777777777778,
          0.6666666666666666,
          0.5555555555555556,
          0.4444444444444444,
          0.2777777777777778,
          0.1111111111111111,
          0.8,
          0.4,
          0.2,
          0.5,
          0.6,
          0.5,
          0.8,
          0.7,
          0.2,
          0.7,
          0.4,
          0,
          0.8,
          0.3,
          0.5,
          0.7,
          0.3,
          0.7,
          0.1,
          0.4444444444444444,
          0.8888888888888888,
          0.1111111111111111,
          0.3333333333333333,
          0.5555555555555556,
          0.3333333333333333,
          0.6666666666666666,
          0.8888888888888888,
          0.7777777777777778,
          0.7777777777777778,
          0.6666666666666666,
          0.3333333333333333,
          0.1111111111111111,
          0,
          0.7777777777777778,
          0,
          0.8888888888888888,
          0.2222222222222222,
          0.5238095238095238,
          0.23809523809523808,
          0.42857142857142855,
          0.3333333333333333,
          0.7619047619047619,
          0.5238095238095238,
          0.6666666666666666,
          0.3333333333333333,
          0.47619047619047616,
          0.42857142857142855,
          0.42857142857142855,
          0.6666666666666666,
          0.6190476190476191,
          0.3333333333333333,
          0.8095238095238095,
          0.23809523809523808,
          0.9523809523809523,
          0.7619047619047619,
          0.5714285714285714,
          0.47619047619047616,
          0.5238095238095238,
          0.3333333333333333,
          0.2857142857142857,
          0.047619047619047616,
          0.3333333333333333,
          0.5714285714285714,
          0,
          0.5714285714285714,
          0.2857142857142857,
          0.19047619047619047,
          0.38095238095238093,
          0.14285714285714285,
          0.3333333333333333,
          0.09523809523809523,
          0,
          0,
          0.47619047619047616,
          0.5714285714285714,
          0.3333333333333333,
          0.23809523809523808,
          0.38095238095238093,
          0.2857142857142857,
          0.6428571428571429,
          0.14285714285714285,
          0.35714285714285715,
          0.5714285714285714,
          0.21428571428571427,
          0.35714285714285715,
          0.21428571428571427,
          0.2857142857142857,
          0,
          0.5714285714285714,
          0.2857142857142857,
          0.21428571428571427,
          0.14285714285714285,
          0.6428571428571429,
          0.07142857142857142,
          0.5,
          0.21428571428571427,
          0.5714285714285714,
          0.5,
          0.6428571428571429,
          0.07142857142857142,
          0.35714285714285715,
          0.6428571428571429,
          0.6428571428571429,
          0.07142857142857142,
          0.21428571428571427,
          0,
          0.35714285714285715,
          0.2222222222222222,
          0.5555555555555556,
          0.4444444444444444,
          0.3333333333333333,
          0.2222222222222222,
          0.8888888888888888,
          0.5555555555555556,
          0.3333333333333333,
          0.5555555555555556,
          0.1111111111111111,
          0.4,
          0.8,
          0.5,
          0.6,
          0.4,
          0.4,
          0.3,
          0.7,
          0.7,
          0.3888888888888889,
          0.16666666666666666,
          0.16666666666666666,
          0.3888888888888889,
          0.3333333333333333,
          0.7777777777777778,
          0.05555555555555555,
          0.05555555555555555,
          0.6666666666666666,
          0.7222222222222222,
          0.3333333333333333,
          0.2222222222222222,
          0.05555555555555555,
          0.5,
          0.6111111111111112,
          0.2222222222222222,
          0.6111111111111112,
          0.5555555555555556,
          0.2777777777777778,
          0.2222222222222222,
          0.2,
          0.45,
          0.25,
          0.45,
          0.5,
          0.9,
          0.6,
          0.55,
          0.5,
          0.7,
          0.5,
          0.5,
          0.65,
          0.3,
          0.55,
          0.5,
          0.15,
          0.35,
          0.5263157894736842,
          0.2631578947368421,
          0.42105263157894735,
          0.42105263157894735,
          0.5789473684210527,
          0.6842105263157895,
          0.5263157894736842,
          0.3157894736842105,
          0.7368421052631579,
          0.47368421052631576,
          0.8947368421052632,
          0.15789473684210525,
          0.5263157894736842,
          0.47368421052631576,
          0.3157894736842105,
          0.2631578947368421,
          0.2631578947368421,
          0.2631578947368421,
          0.3333333333333333,
          0.6666666666666666,
          0.3333333333333333,
          0.7777777777777778,
          0.5,
          0.1111111111111111,
          0.16666666666666666,
          0.6111111111111112,
          0.2777777777777778,
          0.3333333333333333,
          0.7222222222222222,
          0.5,
          0.6111111111111112,
          0.7222222222222222,
          0.5,
          0.3333333333333333,
          0.6111111111111112,
          0.4444444444444444,
          0.05555555555555555,
          0.875,
          0.125,
          0.625,
          0.125,
          0.875,
          0.5,
          0.8333333333333334,
          0.3333333333333333,
          0.5,
          0,
          0.16666666666666666,
          0.16666666666666666,
          0.6666666666666666,
          0.5,
          0.6428571428571429,
          0.5,
          0.5,
          0.42857142857142855,
          0.7857142857142857,
          0.2857142857142857,
          0.5,
          0.2857142857142857,
          0.7142857142857143,
          0.6428571428571429,
          0.5,
          0.5,
          0.4,
          0.2,
          0.5,
          0.4,
          0.5,
          0.3,
          0.6,
          0.3,
          0.3,
          0,
          0.1,
          0.1,
          0.5,
          0.16666666666666666,
          1,
          0.16666666666666666,
          0.3333333333333333,
          0.6666666666666666
         ],
         "xaxis": "x4",
         "y": [
          8,
          7.9,
          7.3,
          7.7,
          7.6,
          8.6,
          8.2,
          8.1,
          7.5,
          6.4,
          8.2,
          7.1,
          8.8,
          7.4,
          7.7,
          7.6,
          8.5,
          7.7,
          7.7,
          7.9,
          7.75,
          6.5,
          6.9375,
          7.333333333333333,
          6.933333333333334,
          7.266666666666667,
          6.866666666666666,
          7.25,
          6.533333333333333,
          7.333333333333333,
          7.4375,
          8.2,
          8.0625,
          7.333333333333333,
          7.866666666666666,
          7.133333333333334,
          7.4,
          7.733333333333333,
          6.866666666666666,
          6.473684210526316,
          6.666666666666667,
          6.888888888888889,
          6.947368421052632,
          6.7894736842105265,
          6.894736842105263,
          7.315789473684211,
          6.473684210526316,
          5.894736842105263,
          7.5,
          7.388888888888889,
          6.473684210526316,
          7.176470588235294,
          7.705882352941177,
          6.75,
          7,
          6.5,
          6.9,
          6.333333333333333,
          6.5,
          6.4,
          7.555555555555555,
          7.6,
          7,
          7.4,
          7,
          7.222222222222222,
          8,
          7.8,
          7.9,
          8.555555555555555,
          7.777777777777778,
          6.5,
          7.888888888888889,
          7.6,
          8.11111111111111,
          7.833333333333333,
          7.277777777777778,
          6.694444444444445,
          7.777777777777778,
          7.555555555555555,
          7.611111111111111,
          7.222222222222222,
          7.777777777777778,
          7.805555555555555,
          7.333333333333333,
          8,
          7.111111111111111,
          7.277777777777778,
          7.611111111111111,
          7.722222222222222,
          8.222222222222221,
          7.388888888888889,
          8,
          6.888888888888889,
          7,
          7.388888888888889,
          8.11111111111111,
          6.944444444444445,
          7.888888888888889,
          8,
          7.666666666666667,
          7.277777777777778,
          6.944444444444445,
          7.444444444444445,
          8.166666666666666,
          7.722222222222222,
          8,
          7.5,
          7.944444444444445,
          7.055555555555555,
          7.5,
          7.5,
          7,
          7.1,
          6.555555555555555,
          6.5,
          7.444444444444445,
          7,
          7.5,
          7.2,
          8.222222222222221,
          7.222222222222222,
          6.888888888888889,
          8.555555555555555,
          8.555555555555555,
          6.111111111111111,
          8.125,
          6.222222222222222,
          7.666666666666667,
          6.714285714285714,
          7.111111111111111,
          7,
          7.25,
          7.444444444444445,
          7.111111111111111,
          7.222222222222222,
          7,
          6.888888888888889,
          7.444444444444445,
          7.444444444444445,
          7,
          8.555555555555555,
          6.444444444444445,
          7.555555555555555,
          6.666666666666667,
          7.375,
          8,
          7.555555555555555,
          7.25,
          6.842105263157895,
          7.9,
          6.05,
          7.55,
          6.7,
          7.190476190476191,
          7.4,
          7.55,
          7.190476190476191,
          7.6,
          7.55,
          7.15,
          6.95,
          7.775,
          6,
          8.225,
          8,
          7.65,
          6.15,
          6.5,
          7.476190476190476,
          6.238095238095238,
          7.285714285714286,
          7.428571428571429,
          7.190476190476191,
          7,
          7.380952380952381,
          7.9523809523809526,
          7.619047619047619,
          6.857142857142857,
          7.1,
          7.0476190476190474,
          7,
          6.904761904761905,
          6.15,
          7.095238095238095,
          7.190476190476191,
          7.523809523809524,
          8.142857142857142,
          7.380952380952381,
          6.761904761904762,
          8.285714285714286,
          6.785714285714286,
          7.785714285714286,
          6.571428571428571,
          7.071428571428571,
          7.428571428571429,
          7.142857142857143,
          8.071428571428571,
          5.714285714285714,
          7.642857142857143,
          6.571428571428571,
          7.214285714285714,
          6.642857142857143,
          7.857142857142857,
          8.428571428571429,
          8.384615384615385,
          7.538461538461538,
          7.916666666666667,
          7.892857142857143,
          8.25,
          8.285714285714286,
          8.142857142857142,
          8,
          7.916666666666667,
          7.571428571428571,
          7.538461538461538,
          7.642857142857143,
          7.5,
          6.888888888888889,
          7.333333333333333,
          7,
          7.333333333333333,
          7.111111111111111,
          7.888888888888889,
          7.555555555555555,
          6.777777777777778,
          7.888888888888889,
          6,
          8.3,
          7.9,
          7.9,
          8.666666666666666,
          8,
          8.2,
          8,
          7.7,
          7.777777777777778,
          7.4375,
          6.75,
          7.8125,
          7.555555555555555,
          7.5625,
          7.888888888888889,
          5.866666666666666,
          7.176470588235294,
          7.529411764705882,
          7.611111111111111,
          7.0588235294117645,
          7,
          6.75,
          7,
          6.764705882352941,
          7.888888888888889,
          7.9411764705882355,
          8.411764705882353,
          7.46875,
          7.6,
          6.888888888888889,
          7.684210526315789,
          7.2105263157894735,
          7.7368421052631575,
          7.647058823529412,
          8.421052631578947,
          7.611111111111111,
          7.470588235294118,
          7,
          8.1875,
          7.2631578947368425,
          7.411764705882353,
          8.0625,
          7.411764705882353,
          6.894736842105263,
          8.526315789473685,
          6.9411764705882355,
          7.055555555555555,
          7.705882352941177,
          7.833333333333333,
          6.833333333333333,
          6.888888888888889,
          6.666666666666667,
          7.315789473684211,
          6.842105263157895,
          7.684210526315789,
          7.526315789473684,
          6.552631578947368,
          7.777777777777778,
          6.305555555555555,
          7.388888888888889,
          7.222222222222222,
          7.611111111111111,
          6.833333333333333,
          7.052631578947368,
          6.764705882352941,
          7.444444444444445,
          7.470588235294118,
          7.4,
          8.055555555555555,
          8.222222222222221,
          8.166666666666666,
          8.058823529411764,
          7.764705882352941,
          8.38888888888889,
          8.058823529411764,
          8.11111111111111,
          6.888888888888889,
          7.9375,
          8.11111111111111,
          8,
          7.611111111111111,
          7.944444444444445,
          7.8125,
          4.875,
          7.625,
          7.375,
          8.125,
          8.142857142857142,
          7.875,
          7,
          7.5,
          7.333333333333333,
          7.833333333333333,
          7.416666666666667,
          6.666666666666667,
          7,
          8.333333333333334,
          6.833333333333333,
          6.5,
          6.428571428571429,
          7.5,
          6.785714285714286,
          7.071428571428571,
          6.214285714285714,
          7,
          6.357142857142857,
          6.923076923076923,
          6.928571428571429,
          8.8,
          7.4,
          8.1,
          8.3,
          7.9,
          7.6,
          7.8,
          8.4,
          7.9,
          8.3,
          8.2,
          8.3,
          8.2,
          8.666666666666666,
          6.6,
          7.6,
          6.8,
          6.8,
          7.2,
          7
         ],
         "yaxis": "y4"
        },
        {
         "mode": "markers",
         "name": "sinc score",
         "type": "scatter",
         "x": [
          0.5,
          0.6,
          0.5,
          0.6,
          0.3,
          0.5,
          0.7,
          0.8,
          0.7,
          0.4,
          0.4,
          0.4,
          0.4,
          0.8,
          0.3,
          0.3,
          0.8,
          0.3,
          0.9,
          0.9,
          0.1875,
          0.1875,
          0.375,
          0.5,
          0.875,
          0.9375,
          0.9375,
          0.5,
          0.1875,
          0.25,
          0.8125,
          0.5625,
          0.25,
          0.6875,
          0.6875,
          0.5,
          0.1875,
          0.4375,
          0.125,
          0.21052631578947367,
          0,
          0.21052631578947367,
          0.15789473684210525,
          0.21052631578947367,
          0.21052631578947367,
          0.47368421052631576,
          0.05263157894736842,
          0.42105263157894735,
          0.42105263157894735,
          0.5789473684210527,
          0.2631578947368421,
          0.21052631578947367,
          0.47368421052631576,
          0,
          0.3157894736842105,
          0.7,
          0.2,
          0.5,
          0,
          0.2,
          0.2,
          0.8,
          0.1,
          0.2,
          0.4,
          0.3,
          0.4,
          0.2,
          0.7,
          0.3,
          0.4,
          0.2,
          0.4,
          0.3,
          0.2,
          0.5,
          0.4444444444444444,
          0.2777777777777778,
          0.5,
          0.2777777777777778,
          0.7777777777777778,
          0.5555555555555556,
          0.7222222222222222,
          0.5,
          0.3888888888888889,
          0.7777777777777778,
          0.5555555555555556,
          0.3333333333333333,
          0.4444444444444444,
          0.16666666666666666,
          0.8888888888888888,
          0.6111111111111112,
          0.7777777777777778,
          0.16666666666666666,
          0.1111111111111111,
          0,
          0.5555555555555556,
          0.1111111111111111,
          0.9444444444444444,
          0.2777777777777778,
          0,
          0.1111111111111111,
          0.2777777777777778,
          0.5,
          0.5555555555555556,
          0.2777777777777778,
          0.6666666666666666,
          0.5555555555555556,
          0.4444444444444444,
          0.2777777777777778,
          0.1111111111111111,
          0.8,
          0.4,
          0.2,
          0.5,
          0.6,
          0.5,
          0.8,
          0.7,
          0.2,
          0.7,
          0.4,
          0,
          0.8,
          0.3,
          0.5,
          0.7,
          0.3,
          0.7,
          0.1,
          0.4444444444444444,
          0.8888888888888888,
          0.1111111111111111,
          0.3333333333333333,
          0.5555555555555556,
          0.3333333333333333,
          0.6666666666666666,
          0.8888888888888888,
          0.7777777777777778,
          0.7777777777777778,
          0.6666666666666666,
          0.3333333333333333,
          0.1111111111111111,
          0,
          0.7777777777777778,
          0,
          0.8888888888888888,
          0.2222222222222222,
          0.5238095238095238,
          0.23809523809523808,
          0.42857142857142855,
          0.3333333333333333,
          0.7619047619047619,
          0.5238095238095238,
          0.6666666666666666,
          0.3333333333333333,
          0.47619047619047616,
          0.42857142857142855,
          0.42857142857142855,
          0.6666666666666666,
          0.6190476190476191,
          0.3333333333333333,
          0.8095238095238095,
          0.23809523809523808,
          0.9523809523809523,
          0.7619047619047619,
          0.5714285714285714,
          0.47619047619047616,
          0.5238095238095238,
          0.3333333333333333,
          0.2857142857142857,
          0.047619047619047616,
          0.3333333333333333,
          0.5714285714285714,
          0,
          0.5714285714285714,
          0.2857142857142857,
          0.19047619047619047,
          0.38095238095238093,
          0.14285714285714285,
          0.3333333333333333,
          0.09523809523809523,
          0,
          0,
          0.47619047619047616,
          0.5714285714285714,
          0.3333333333333333,
          0.23809523809523808,
          0.38095238095238093,
          0.2857142857142857,
          0.6428571428571429,
          0.14285714285714285,
          0.35714285714285715,
          0.5714285714285714,
          0.21428571428571427,
          0.35714285714285715,
          0.21428571428571427,
          0.2857142857142857,
          0,
          0.5714285714285714,
          0.2857142857142857,
          0.21428571428571427,
          0.14285714285714285,
          0.6428571428571429,
          0.07142857142857142,
          0.5,
          0.21428571428571427,
          0.5714285714285714,
          0.5,
          0.6428571428571429,
          0.07142857142857142,
          0.35714285714285715,
          0.6428571428571429,
          0.6428571428571429,
          0.07142857142857142,
          0.21428571428571427,
          0,
          0.35714285714285715,
          0.2222222222222222,
          0.5555555555555556,
          0.4444444444444444,
          0.3333333333333333,
          0.2222222222222222,
          0.8888888888888888,
          0.5555555555555556,
          0.3333333333333333,
          0.5555555555555556,
          0.1111111111111111,
          0.4,
          0.8,
          0.5,
          0.6,
          0.4,
          0.4,
          0.3,
          0.7,
          0.7,
          0.3888888888888889,
          0.16666666666666666,
          0.16666666666666666,
          0.3888888888888889,
          0.3333333333333333,
          0.7777777777777778,
          0.05555555555555555,
          0.05555555555555555,
          0.6666666666666666,
          0.7222222222222222,
          0.3333333333333333,
          0.2222222222222222,
          0.05555555555555555,
          0.5,
          0.6111111111111112,
          0.2222222222222222,
          0.6111111111111112,
          0.5555555555555556,
          0.2777777777777778,
          0.2222222222222222,
          0.2,
          0.45,
          0.25,
          0.45,
          0.5,
          0.9,
          0.6,
          0.55,
          0.5,
          0.7,
          0.5,
          0.5,
          0.65,
          0.3,
          0.55,
          0.5,
          0.15,
          0.35,
          0.5263157894736842,
          0.2631578947368421,
          0.42105263157894735,
          0.42105263157894735,
          0.5789473684210527,
          0.6842105263157895,
          0.5263157894736842,
          0.3157894736842105,
          0.7368421052631579,
          0.47368421052631576,
          0.8947368421052632,
          0.15789473684210525,
          0.5263157894736842,
          0.47368421052631576,
          0.3157894736842105,
          0.2631578947368421,
          0.2631578947368421,
          0.2631578947368421,
          0.3333333333333333,
          0.6666666666666666,
          0.3333333333333333,
          0.7777777777777778,
          0.5,
          0.1111111111111111,
          0.16666666666666666,
          0.6111111111111112,
          0.2777777777777778,
          0.3333333333333333,
          0.7222222222222222,
          0.5,
          0.6111111111111112,
          0.7222222222222222,
          0.5,
          0.3333333333333333,
          0.6111111111111112,
          0.4444444444444444,
          0.05555555555555555,
          0.875,
          0.125,
          0.625,
          0.125,
          0.875,
          0.5,
          0.8333333333333334,
          0.3333333333333333,
          0.5,
          0,
          0.16666666666666666,
          0.16666666666666666,
          0.6666666666666666,
          0.5,
          0.6428571428571429,
          0.5,
          0.5,
          0.42857142857142855,
          0.7857142857142857,
          0.2857142857142857,
          0.5,
          0.2857142857142857,
          0.7142857142857143,
          0.6428571428571429,
          0.5,
          0.5,
          0.4,
          0.2,
          0.5,
          0.4,
          0.5,
          0.3,
          0.6,
          0.3,
          0.3,
          0,
          0.1,
          0.1,
          0.5,
          0.16666666666666666,
          1,
          0.16666666666666666,
          0.3333333333333333,
          0.6666666666666666
         ],
         "xaxis": "x5",
         "y": [
          7.4,
          7.1,
          7.1,
          7.1,
          7.7,
          7.8,
          7.6,
          7.8,
          7.4,
          7,
          8.8,
          6.6,
          7.9,
          7.6,
          7.6,
          8.4,
          7.6,
          7.4,
          6.8,
          7.3,
          7.3125,
          6.625,
          7.266666666666667,
          6.933333333333334,
          7.266666666666667,
          7.133333333333334,
          7.4,
          7.4375,
          7.2,
          6.866666666666666,
          7.25,
          7.8,
          7.8125,
          7.3125,
          6.533333333333333,
          7,
          6.866666666666666,
          7.533333333333333,
          7.333333333333333,
          6.631578947368421,
          6.473684210526316,
          6.052631578947368,
          6.368421052631579,
          6.631578947368421,
          6.2105263157894735,
          6.7894736842105265,
          5.842105263157895,
          6.2631578947368425,
          7.055555555555555,
          6.578947368421052,
          4.868421052631579,
          6.647058823529412,
          7,
          6.315789473684211,
          7.052631578947368,
          6.8,
          7.7,
          7,
          7.25,
          7,
          7.1,
          7.1,
          6.5,
          6.2,
          7.3,
          7.555555555555555,
          8,
          5.8,
          7.6,
          7.444444444444445,
          8.222222222222221,
          7.4,
          7.666666666666667,
          7.3,
          7.666666666666667,
          6.944444444444445,
          7.235294117647059,
          6.882352941176471,
          7.833333333333333,
          7.944444444444445,
          7.277777777777778,
          7.777777777777778,
          8.055555555555555,
          7.666666666666667,
          7.722222222222222,
          7.888888888888889,
          7.166666666666667,
          7.611111111111111,
          7.388888888888889,
          8,
          8,
          7.764705882352941,
          7.972222222222222,
          5.352941176470588,
          6.888888888888889,
          7.166666666666667,
          7.055555555555555,
          7.666666666666667,
          7.666666666666667,
          7.944444444444445,
          7.611111111111111,
          7.176470588235294,
          7.176470588235294,
          6.888888888888889,
          7.888888888888889,
          7.666666666666667,
          8.055555555555555,
          7,
          7.555555555555555,
          6.411764705882353,
          7.222222222222222,
          7.3,
          6.7,
          6.8,
          6.333333333333333,
          6.777777777777778,
          7.222222222222222,
          7.6,
          6.6,
          6.5,
          8.777777777777779,
          8.666666666666666,
          5.666666666666667,
          8.333333333333334,
          8,
          5.888888888888889,
          8.444444444444445,
          7.888888888888889,
          8.777777777777779,
          7.857142857142857,
          7.888888888888889,
          7.555555555555555,
          6.888888888888889,
          7.666666666666667,
          7.555555555555555,
          7.555555555555555,
          7.111111111111111,
          7.666666666666667,
          7.333333333333333,
          6.555555555555555,
          7.222222222222222,
          6.333333333333333,
          7.444444444444445,
          7.666666666666667,
          6,
          6.777777777777778,
          6.666666666666667,
          7.333333333333333,
          7.761904761904762,
          6.25,
          7.1,
          6.2,
          7.2,
          7,
          7.25,
          6.052631578947368,
          6.85,
          6.35,
          7.45,
          7.142857142857143,
          6.9,
          6.476190476190476,
          7.875,
          6.6,
          8.175,
          7.7368421052631575,
          7,
          6.05,
          7,
          6.761904761904762,
          6.238095238095238,
          6.476190476190476,
          6.476190476190476,
          6.380952380952381,
          6.190476190476191,
          6.380952380952381,
          7.142857142857143,
          5.904761904761905,
          7.0476190476190474,
          7.2,
          6.761904761904762,
          6.714285714285714,
          6.714285714285714,
          4.85,
          6.809523809523809,
          7.0476190476190474,
          6.333333333333333,
          7.095238095238095,
          6.9523809523809526,
          6.571428571428571,
          7.642857142857143,
          6.928571428571429,
          7.428571428571429,
          7.357142857142857,
          7.214285714285714,
          7.714285714285714,
          6.785714285714286,
          7.5,
          5.642857142857143,
          7.142857142857143,
          7.357142857142857,
          7.214285714285714,
          7.571428571428571,
          7.928571428571429,
          8.142857142857142,
          8.285714285714286,
          6.923076923076923,
          7.928571428571429,
          7.857142857142857,
          8.214285714285714,
          7.714285714285714,
          7.428571428571429,
          7.571428571428571,
          7.714285714285714,
          7.571428571428571,
          7.714285714285714,
          7.071428571428571,
          6.571428571428571,
          6.777777777777778,
          7.888888888888889,
          7.333333333333333,
          7.777777777777778,
          8.222222222222221,
          7.555555555555555,
          7.777777777777778,
          6.888888888888889,
          7.222222222222222,
          6.777777777777778,
          8.444444444444445,
          7.666666666666667,
          7.222222222222222,
          7.75,
          7.777777777777778,
          8.333333333333334,
          7.555555555555555,
          7.333333333333333,
          6.375,
          7.625,
          6.75,
          7.75,
          7.277777777777778,
          7.625,
          7.888888888888889,
          6.466666666666667,
          7.470588235294118,
          8.117647058823529,
          7.777777777777778,
          7.411764705882353,
          7.944444444444445,
          7.8125,
          7.166666666666667,
          7.411764705882353,
          7.666666666666667,
          7.9411764705882355,
          7.588235294117647,
          6.8125,
          7.875,
          6.611111111111111,
          6.947368421052632,
          7.631578947368421,
          7.85,
          7.411764705882353,
          8.263157894736842,
          8.055555555555555,
          7.882352941176471,
          7,
          7.823529411764706,
          7.3,
          6.9411764705882355,
          8.117647058823529,
          7.470588235294118,
          7,
          7.368421052631579,
          6.611111111111111,
          7,
          7.0588235294117645,
          7.444444444444445,
          6.833333333333333,
          6.882352941176471,
          7.777777777777778,
          7.526315789473684,
          7.842105263157895,
          8.052631578947368,
          7.666666666666667,
          6.555555555555555,
          7.277777777777778,
          5.944444444444445,
          6.842105263157895,
          7.631578947368421,
          7.833333333333333,
          7.111111111111111,
          6.894736842105263,
          7,
          7.722222222222222,
          7.333333333333333,
          6.8,
          7.666666666666667,
          8.277777777777779,
          8.333333333333334,
          8.166666666666666,
          8.333333333333334,
          8.333333333333334,
          7.388888888888889,
          8.777777777777779,
          7.055555555555555,
          8.411764705882353,
          8.055555555555555,
          7.777777777777778,
          7.444444444444445,
          8.055555555555555,
          7.470588235294118,
          4.5625,
          7.625,
          8,
          7.875,
          8.285714285714286,
          7.625,
          6.875,
          8,
          7.333333333333333,
          8,
          6.333333333333333,
          4.166666666666667,
          7.333333333333333,
          7.5,
          6.666666666666667,
          7.071428571428571,
          5.785714285714286,
          7.785714285714286,
          6.928571428571429,
          7.428571428571429,
          5.928571428571429,
          6.285714285714286,
          6.928571428571429,
          7,
          5.928571428571429,
          8,
          7,
          7.9,
          7.8,
          7,
          7,
          7.3,
          8.1,
          6.3,
          7.4,
          7.3,
          7.3,
          7.2,
          8.555555555555555,
          7.4,
          7.833333333333333,
          6.2,
          7.666666666666667,
          6.4,
          6.666666666666667
         ],
         "yaxis": "y5"
        },
        {
         "mode": "markers",
         "name": "shar score",
         "type": "scatter",
         "x": [
          0.5,
          0.6,
          0.5,
          0.6,
          0.3,
          0.5,
          0.7,
          0.8,
          0.7,
          0.4,
          0.4,
          0.4,
          0.4,
          0.8,
          0.3,
          0.3,
          0.8,
          0.3,
          0.9,
          0.9,
          0.1875,
          0.1875,
          0.375,
          0.5,
          0.875,
          0.9375,
          0.9375,
          0.5,
          0.1875,
          0.25,
          0.8125,
          0.5625,
          0.25,
          0.6875,
          0.6875,
          0.5,
          0.1875,
          0.4375,
          0.125,
          0.21052631578947367,
          0,
          0.21052631578947367,
          0.15789473684210525,
          0.21052631578947367,
          0.21052631578947367,
          0.47368421052631576,
          0.05263157894736842,
          0.42105263157894735,
          0.42105263157894735,
          0.5789473684210527,
          0.2631578947368421,
          0.21052631578947367,
          0.47368421052631576,
          0,
          0.3157894736842105,
          0.7,
          0.2,
          0.5,
          0,
          0.2,
          0.2,
          0.8,
          0.1,
          0.2,
          0.4,
          0.3,
          0.4,
          0.2,
          0.7,
          0.3,
          0.4,
          0.2,
          0.4,
          0.3,
          0.2,
          0.5,
          0.4444444444444444,
          0.2777777777777778,
          0.5,
          0.2777777777777778,
          0.7777777777777778,
          0.5555555555555556,
          0.7222222222222222,
          0.5,
          0.3888888888888889,
          0.7777777777777778,
          0.5555555555555556,
          0.3333333333333333,
          0.4444444444444444,
          0.16666666666666666,
          0.8888888888888888,
          0.6111111111111112,
          0.7777777777777778,
          0.16666666666666666,
          0.1111111111111111,
          0,
          0.5555555555555556,
          0.1111111111111111,
          0.9444444444444444,
          0.2777777777777778,
          0,
          0.1111111111111111,
          0.2777777777777778,
          0.5,
          0.5555555555555556,
          0.2777777777777778,
          0.6666666666666666,
          0.5555555555555556,
          0.4444444444444444,
          0.2777777777777778,
          0.1111111111111111,
          0.8,
          0.4,
          0.2,
          0.5,
          0.6,
          0.5,
          0.8,
          0.7,
          0.2,
          0.7,
          0.4,
          0,
          0.8,
          0.3,
          0.5,
          0.7,
          0.3,
          0.7,
          0.1,
          0.4444444444444444,
          0.8888888888888888,
          0.1111111111111111,
          0.3333333333333333,
          0.5555555555555556,
          0.3333333333333333,
          0.6666666666666666,
          0.8888888888888888,
          0.7777777777777778,
          0.7777777777777778,
          0.6666666666666666,
          0.3333333333333333,
          0.1111111111111111,
          0,
          0.7777777777777778,
          0,
          0.8888888888888888,
          0.2222222222222222,
          0.5238095238095238,
          0.23809523809523808,
          0.42857142857142855,
          0.3333333333333333,
          0.7619047619047619,
          0.5238095238095238,
          0.6666666666666666,
          0.3333333333333333,
          0.47619047619047616,
          0.42857142857142855,
          0.42857142857142855,
          0.6666666666666666,
          0.6190476190476191,
          0.3333333333333333,
          0.8095238095238095,
          0.23809523809523808,
          0.9523809523809523,
          0.7619047619047619,
          0.5714285714285714,
          0.47619047619047616,
          0.5238095238095238,
          0.3333333333333333,
          0.2857142857142857,
          0.047619047619047616,
          0.3333333333333333,
          0.5714285714285714,
          0,
          0.5714285714285714,
          0.2857142857142857,
          0.19047619047619047,
          0.38095238095238093,
          0.14285714285714285,
          0.3333333333333333,
          0.09523809523809523,
          0,
          0,
          0.47619047619047616,
          0.5714285714285714,
          0.3333333333333333,
          0.23809523809523808,
          0.38095238095238093,
          0.2857142857142857,
          0.6428571428571429,
          0.14285714285714285,
          0.35714285714285715,
          0.5714285714285714,
          0.21428571428571427,
          0.35714285714285715,
          0.21428571428571427,
          0.2857142857142857,
          0,
          0.5714285714285714,
          0.2857142857142857,
          0.21428571428571427,
          0.14285714285714285,
          0.6428571428571429,
          0.07142857142857142,
          0.5,
          0.21428571428571427,
          0.5714285714285714,
          0.5,
          0.6428571428571429,
          0.07142857142857142,
          0.35714285714285715,
          0.6428571428571429,
          0.6428571428571429,
          0.07142857142857142,
          0.21428571428571427,
          0,
          0.35714285714285715,
          0.2222222222222222,
          0.5555555555555556,
          0.4444444444444444,
          0.3333333333333333,
          0.2222222222222222,
          0.8888888888888888,
          0.5555555555555556,
          0.3333333333333333,
          0.5555555555555556,
          0.1111111111111111,
          0.4,
          0.8,
          0.5,
          0.6,
          0.4,
          0.4,
          0.3,
          0.7,
          0.7,
          0.3888888888888889,
          0.16666666666666666,
          0.16666666666666666,
          0.3888888888888889,
          0.3333333333333333,
          0.7777777777777778,
          0.05555555555555555,
          0.05555555555555555,
          0.6666666666666666,
          0.7222222222222222,
          0.3333333333333333,
          0.2222222222222222,
          0.05555555555555555,
          0.5,
          0.6111111111111112,
          0.2222222222222222,
          0.6111111111111112,
          0.5555555555555556,
          0.2777777777777778,
          0.2222222222222222,
          0.2,
          0.45,
          0.25,
          0.45,
          0.5,
          0.9,
          0.6,
          0.55,
          0.5,
          0.7,
          0.5,
          0.5,
          0.65,
          0.3,
          0.55,
          0.5,
          0.15,
          0.35,
          0.5263157894736842,
          0.2631578947368421,
          0.42105263157894735,
          0.42105263157894735,
          0.5789473684210527,
          0.6842105263157895,
          0.5263157894736842,
          0.3157894736842105,
          0.7368421052631579,
          0.47368421052631576,
          0.8947368421052632,
          0.15789473684210525,
          0.5263157894736842,
          0.47368421052631576,
          0.3157894736842105,
          0.2631578947368421,
          0.2631578947368421,
          0.2631578947368421,
          0.3333333333333333,
          0.6666666666666666,
          0.3333333333333333,
          0.7777777777777778,
          0.5,
          0.1111111111111111,
          0.16666666666666666,
          0.6111111111111112,
          0.2777777777777778,
          0.3333333333333333,
          0.7222222222222222,
          0.5,
          0.6111111111111112,
          0.7222222222222222,
          0.5,
          0.3333333333333333,
          0.6111111111111112,
          0.4444444444444444,
          0.05555555555555555,
          0.875,
          0.125,
          0.625,
          0.125,
          0.875,
          0.5,
          0.8333333333333334,
          0.3333333333333333,
          0.5,
          0,
          0.16666666666666666,
          0.16666666666666666,
          0.6666666666666666,
          0.5,
          0.6428571428571429,
          0.5,
          0.5,
          0.42857142857142855,
          0.7857142857142857,
          0.2857142857142857,
          0.5,
          0.2857142857142857,
          0.7142857142857143,
          0.6428571428571429,
          0.5,
          0.5,
          0.4,
          0.2,
          0.5,
          0.4,
          0.5,
          0.3,
          0.6,
          0.3,
          0.3,
          0,
          0.1,
          0.1,
          0.5,
          0.16666666666666666,
          1,
          0.16666666666666666,
          0.3333333333333333,
          0.6666666666666666
         ],
         "xaxis": "x6",
         "y": [
          7.1,
          6.5,
          6,
          7.2,
          6.2,
          6.3,
          6.7,
          6.8,
          6.3,
          5.777777777777778,
          5.222222222222222,
          6.111111111111111,
          5.888888888888889,
          7.444444444444445,
          6.666666666666667,
          4.666666666666667,
          6.666666666666667,
          5.555555555555555,
          7.7,
          7.3,
          5,
          4,
          4.923076923076923,
          5.285714285714286,
          4.846153846153846,
          6.153846153846154,
          5.785714285714286,
          5.642857142857143,
          4.6923076923076925,
          4.916666666666667,
          5.818181818181818,
          5.428571428571429,
          5.533333333333333,
          5.214285714285714,
          5.214285714285714,
          5.230769230769231,
          5,
          6,
          5.357142857142857,
          4.8,
          3.642857142857143,
          4.8,
          3.9375,
          4.157894736842105,
          4.055555555555555,
          5.625,
          4.611111111111111,
          5.111111111111111,
          5.9411764705882355,
          5.875,
          4.352941176470588,
          4.823529411764706,
          5.5,
          5,
          5.277777777777778,
          4.888888888888889,
          4.666666666666667,
          5.888888888888889,
          3.75,
          4.666666666666667,
          4.3,
          6.375,
          4.625,
          4.7,
          5.7,
          4.625,
          4.666666666666667,
          4.7,
          5.9,
          6.222222222222222,
          5.222222222222222,
          4.8,
          5.444444444444445,
          4.9,
          4.666666666666667,
          6.066666666666666,
          5.785714285714286,
          4.6923076923076925,
          6.2,
          4.928571428571429,
          6.666666666666667,
          5.3,
          6.366666666666666,
          5.8125,
          5.928571428571429,
          6.388888888888889,
          5.607142857142857,
          6.3125,
          4.666666666666667,
          4.066666666666666,
          6.733333333333333,
          5.733333333333333,
          6.3125,
          4.6,
          5.0625,
          4.75,
          5.8,
          4.352941176470588,
          7.3125,
          5.642857142857143,
          4.294117647058823,
          4.277777777777778,
          5.133333333333334,
          5.8125,
          6.588235294117647,
          5,
          7.176470588235294,
          6.111111111111111,
          6.4375,
          5.9375,
          5.5,
          6.4,
          6.1,
          5.111111111111111,
          6.888888888888889,
          6.2,
          7,
          5.888888888888889,
          6.2,
          4,
          7.5,
          4.333333333333333,
          1.375,
          6.777777777777778,
          6.375,
          5.111111111111111,
          5,
          5.333333333333333,
          4.875,
          1.4285714285714286,
          4.666666666666667,
          4.857142857142857,
          3.7142857142857144,
          4,
          5.875,
          4.714285714285714,
          5.285714285714286,
          5.857142857142857,
          6,
          5.222222222222222,
          6.111111111111111,
          5.625,
          4.375,
          4,
          5.444444444444445,
          4.75,
          7.666666666666667,
          5.375,
          5.764705882352941,
          4.588235294117647,
          5.526315789473684,
          5.157894736842105,
          6.052631578947368,
          6.2105263157894735,
          5.611111111111111,
          5.875,
          5.7894736842105265,
          5.473684210526316,
          5.333333333333333,
          5.7894736842105265,
          5.777777777777778,
          4.45,
          6.305555555555555,
          4.9411764705882355,
          7.264705882352941,
          6.2631578947368425,
          5.8,
          5.166666666666667,
          5.588235294117647,
          5,
          4.894736842105263,
          4.947368421052632,
          5.285714285714286,
          5.6,
          4,
          5.35,
          5.25,
          5.238095238095238,
          5.315789473684211,
          4.444444444444445,
          4.75,
          4.476190476190476,
          4.333333333333333,
          4.052631578947368,
          5.277777777777778,
          4.944444444444445,
          4.9,
          5.238095238095238,
          4.842105263157895,
          4.333333333333333,
          6.5,
          5.166666666666667,
          5.3076923076923075,
          5.6923076923076925,
          4.538461538461538,
          5.083333333333333,
          5.333333333333333,
          5.615384615384615,
          5.076923076923077,
          6.333333333333333,
          5.153846153846154,
          5,
          4.416666666666667,
          5.916666666666667,
          5.3076923076923075,
          6.333333333333333,
          3.8333333333333335,
          6.423076923076923,
          7.214285714285714,
          7.285714285714286,
          5.3076923076923075,
          5.576923076923077,
          7,
          6.583333333333333,
          5.769230769230769,
          6.166666666666667,
          5.666666666666667,
          4.666666666666667,
          5.125,
          5.666666666666667,
          7,
          6.75,
          5.777777777777778,
          7.111111111111111,
          6.222222222222222,
          4.888888888888889,
          6.111111111111111,
          4.875,
          4.888888888888889,
          6.444444444444445,
          6.111111111111111,
          5.625,
          5.222222222222222,
          5.5,
          3.7777777777777777,
          6.444444444444445,
          5.777777777777778,
          5.9375,
          5.333333333333333,
          5.6,
          6.722222222222222,
          5.6875,
          7.555555555555555,
          2.6666666666666665,
          5.117647058823529,
          6.4375,
          6.388888888888889,
          4.9411764705882355,
          4.611111111111111,
          3.5625,
          7.333333333333333,
          6,
          6,
          6.0625,
          6.294117647058823,
          4.625,
          5.6,
          4.466666666666667,
          5.9411764705882355,
          4.3125,
          6.1,
          6.846153846153846,
          7.333333333333333,
          7.625,
          7.066666666666666,
          5.666666666666667,
          6.933333333333334,
          5.777777777777778,
          6.076923076923077,
          7.076923076923077,
          5.153846153846154,
          5.5,
          6,
          4.857142857142857,
          5.733333333333333,
          6.5,
          6.055555555555555,
          6.461538461538462,
          5.6875,
          5.461538461538462,
          7.15625,
          6.285714285714286,
          5.8125,
          6,
          5.538461538461538,
          5.294117647058823,
          2.625,
          6.785714285714286,
          6.466666666666667,
          6.142857142857143,
          5.466666666666667,
          5.533333333333333,
          5.357142857142857,
          5.615384615384615,
          6.6,
          6,
          6.916666666666667,
          5.714285714285714,
          5,
          4.6923076923076925,
          5.846153846153846,
          6.214285714285714,
          6.28125,
          7.533333333333333,
          6.428571428571429,
          6.933333333333334,
          6.928571428571429,
          6.785714285714286,
          5.583333333333333,
          6.3076923076923075,
          4.928571428571429,
          2.25,
          6.857142857142857,
          5.857142857142857,
          6.142857142857143,
          6.714285714285714,
          6.625,
          5.375,
          5.833333333333333,
          4.2,
          5.4,
          4.2,
          3.5,
          4.666666666666667,
          6.666666666666667,
          4,
          4.923076923076923,
          4.214285714285714,
          5.538461538461538,
          5.071428571428571,
          5.230769230769231,
          4.538461538461538,
          5.384615384615385,
          5.076923076923077,
          5.25,
          4.5,
          7.111111111111111,
          6.555555555555555,
          4.5,
          5.75,
          5.2,
          5.75,
          5.444444444444445,
          4.8,
          5.5,
          6.111111111111111,
          5.5,
          4.666666666666667,
          4,
          3.7777777777777777,
          5.166666666666667,
          6.666666666666667,
          6.4,
          5.6,
          5.833333333333333,
          5
         ],
         "yaxis": "y6"
        }
       ],
       "layout": {
        "height": 500,
        "template": {
         "data": {
          "bar": [
           {
            "error_x": {
             "color": "#2a3f5f"
            },
            "error_y": {
             "color": "#2a3f5f"
            },
            "marker": {
             "line": {
              "color": "#E5ECF6",
              "width": 0.5
             },
             "pattern": {
              "fillmode": "overlay",
              "size": 10,
              "solidity": 0.2
             }
            },
            "type": "bar"
           }
          ],
          "barpolar": [
           {
            "marker": {
             "line": {
              "color": "#E5ECF6",
              "width": 0.5
             },
             "pattern": {
              "fillmode": "overlay",
              "size": 10,
              "solidity": 0.2
             }
            },
            "type": "barpolar"
           }
          ],
          "carpet": [
           {
            "aaxis": {
             "endlinecolor": "#2a3f5f",
             "gridcolor": "white",
             "linecolor": "white",
             "minorgridcolor": "white",
             "startlinecolor": "#2a3f5f"
            },
            "baxis": {
             "endlinecolor": "#2a3f5f",
             "gridcolor": "white",
             "linecolor": "white",
             "minorgridcolor": "white",
             "startlinecolor": "#2a3f5f"
            },
            "type": "carpet"
           }
          ],
          "choropleth": [
           {
            "colorbar": {
             "outlinewidth": 0,
             "ticks": ""
            },
            "type": "choropleth"
           }
          ],
          "contour": [
           {
            "colorbar": {
             "outlinewidth": 0,
             "ticks": ""
            },
            "colorscale": [
             [
              0,
              "#0d0887"
             ],
             [
              0.1111111111111111,
              "#46039f"
             ],
             [
              0.2222222222222222,
              "#7201a8"
             ],
             [
              0.3333333333333333,
              "#9c179e"
             ],
             [
              0.4444444444444444,
              "#bd3786"
             ],
             [
              0.5555555555555556,
              "#d8576b"
             ],
             [
              0.6666666666666666,
              "#ed7953"
             ],
             [
              0.7777777777777778,
              "#fb9f3a"
             ],
             [
              0.8888888888888888,
              "#fdca26"
             ],
             [
              1,
              "#f0f921"
             ]
            ],
            "type": "contour"
           }
          ],
          "contourcarpet": [
           {
            "colorbar": {
             "outlinewidth": 0,
             "ticks": ""
            },
            "type": "contourcarpet"
           }
          ],
          "heatmap": [
           {
            "colorbar": {
             "outlinewidth": 0,
             "ticks": ""
            },
            "colorscale": [
             [
              0,
              "#0d0887"
             ],
             [
              0.1111111111111111,
              "#46039f"
             ],
             [
              0.2222222222222222,
              "#7201a8"
             ],
             [
              0.3333333333333333,
              "#9c179e"
             ],
             [
              0.4444444444444444,
              "#bd3786"
             ],
             [
              0.5555555555555556,
              "#d8576b"
             ],
             [
              0.6666666666666666,
              "#ed7953"
             ],
             [
              0.7777777777777778,
              "#fb9f3a"
             ],
             [
              0.8888888888888888,
              "#fdca26"
             ],
             [
              1,
              "#f0f921"
             ]
            ],
            "type": "heatmap"
           }
          ],
          "heatmapgl": [
           {
            "colorbar": {
             "outlinewidth": 0,
             "ticks": ""
            },
            "colorscale": [
             [
              0,
              "#0d0887"
             ],
             [
              0.1111111111111111,
              "#46039f"
             ],
             [
              0.2222222222222222,
              "#7201a8"
             ],
             [
              0.3333333333333333,
              "#9c179e"
             ],
             [
              0.4444444444444444,
              "#bd3786"
             ],
             [
              0.5555555555555556,
              "#d8576b"
             ],
             [
              0.6666666666666666,
              "#ed7953"
             ],
             [
              0.7777777777777778,
              "#fb9f3a"
             ],
             [
              0.8888888888888888,
              "#fdca26"
             ],
             [
              1,
              "#f0f921"
             ]
            ],
            "type": "heatmapgl"
           }
          ],
          "histogram": [
           {
            "marker": {
             "pattern": {
              "fillmode": "overlay",
              "size": 10,
              "solidity": 0.2
             }
            },
            "type": "histogram"
           }
          ],
          "histogram2d": [
           {
            "colorbar": {
             "outlinewidth": 0,
             "ticks": ""
            },
            "colorscale": [
             [
              0,
              "#0d0887"
             ],
             [
              0.1111111111111111,
              "#46039f"
             ],
             [
              0.2222222222222222,
              "#7201a8"
             ],
             [
              0.3333333333333333,
              "#9c179e"
             ],
             [
              0.4444444444444444,
              "#bd3786"
             ],
             [
              0.5555555555555556,
              "#d8576b"
             ],
             [
              0.6666666666666666,
              "#ed7953"
             ],
             [
              0.7777777777777778,
              "#fb9f3a"
             ],
             [
              0.8888888888888888,
              "#fdca26"
             ],
             [
              1,
              "#f0f921"
             ]
            ],
            "type": "histogram2d"
           }
          ],
          "histogram2dcontour": [
           {
            "colorbar": {
             "outlinewidth": 0,
             "ticks": ""
            },
            "colorscale": [
             [
              0,
              "#0d0887"
             ],
             [
              0.1111111111111111,
              "#46039f"
             ],
             [
              0.2222222222222222,
              "#7201a8"
             ],
             [
              0.3333333333333333,
              "#9c179e"
             ],
             [
              0.4444444444444444,
              "#bd3786"
             ],
             [
              0.5555555555555556,
              "#d8576b"
             ],
             [
              0.6666666666666666,
              "#ed7953"
             ],
             [
              0.7777777777777778,
              "#fb9f3a"
             ],
             [
              0.8888888888888888,
              "#fdca26"
             ],
             [
              1,
              "#f0f921"
             ]
            ],
            "type": "histogram2dcontour"
           }
          ],
          "mesh3d": [
           {
            "colorbar": {
             "outlinewidth": 0,
             "ticks": ""
            },
            "type": "mesh3d"
           }
          ],
          "parcoords": [
           {
            "line": {
             "colorbar": {
              "outlinewidth": 0,
              "ticks": ""
             }
            },
            "type": "parcoords"
           }
          ],
          "pie": [
           {
            "automargin": true,
            "type": "pie"
           }
          ],
          "scatter": [
           {
            "marker": {
             "colorbar": {
              "outlinewidth": 0,
              "ticks": ""
             }
            },
            "type": "scatter"
           }
          ],
          "scatter3d": [
           {
            "line": {
             "colorbar": {
              "outlinewidth": 0,
              "ticks": ""
             }
            },
            "marker": {
             "colorbar": {
              "outlinewidth": 0,
              "ticks": ""
             }
            },
            "type": "scatter3d"
           }
          ],
          "scattercarpet": [
           {
            "marker": {
             "colorbar": {
              "outlinewidth": 0,
              "ticks": ""
             }
            },
            "type": "scattercarpet"
           }
          ],
          "scattergeo": [
           {
            "marker": {
             "colorbar": {
              "outlinewidth": 0,
              "ticks": ""
             }
            },
            "type": "scattergeo"
           }
          ],
          "scattergl": [
           {
            "marker": {
             "colorbar": {
              "outlinewidth": 0,
              "ticks": ""
             }
            },
            "type": "scattergl"
           }
          ],
          "scattermapbox": [
           {
            "marker": {
             "colorbar": {
              "outlinewidth": 0,
              "ticks": ""
             }
            },
            "type": "scattermapbox"
           }
          ],
          "scatterpolar": [
           {
            "marker": {
             "colorbar": {
              "outlinewidth": 0,
              "ticks": ""
             }
            },
            "type": "scatterpolar"
           }
          ],
          "scatterpolargl": [
           {
            "marker": {
             "colorbar": {
              "outlinewidth": 0,
              "ticks": ""
             }
            },
            "type": "scatterpolargl"
           }
          ],
          "scatterternary": [
           {
            "marker": {
             "colorbar": {
              "outlinewidth": 0,
              "ticks": ""
             }
            },
            "type": "scatterternary"
           }
          ],
          "surface": [
           {
            "colorbar": {
             "outlinewidth": 0,
             "ticks": ""
            },
            "colorscale": [
             [
              0,
              "#0d0887"
             ],
             [
              0.1111111111111111,
              "#46039f"
             ],
             [
              0.2222222222222222,
              "#7201a8"
             ],
             [
              0.3333333333333333,
              "#9c179e"
             ],
             [
              0.4444444444444444,
              "#bd3786"
             ],
             [
              0.5555555555555556,
              "#d8576b"
             ],
             [
              0.6666666666666666,
              "#ed7953"
             ],
             [
              0.7777777777777778,
              "#fb9f3a"
             ],
             [
              0.8888888888888888,
              "#fdca26"
             ],
             [
              1,
              "#f0f921"
             ]
            ],
            "type": "surface"
           }
          ],
          "table": [
           {
            "cells": {
             "fill": {
              "color": "#EBF0F8"
             },
             "line": {
              "color": "white"
             }
            },
            "header": {
             "fill": {
              "color": "#C8D4E3"
             },
             "line": {
              "color": "white"
             }
            },
            "type": "table"
           }
          ]
         },
         "layout": {
          "annotationdefaults": {
           "arrowcolor": "#2a3f5f",
           "arrowhead": 0,
           "arrowwidth": 1
          },
          "autotypenumbers": "strict",
          "coloraxis": {
           "colorbar": {
            "outlinewidth": 0,
            "ticks": ""
           }
          },
          "colorscale": {
           "diverging": [
            [
             0,
             "#8e0152"
            ],
            [
             0.1,
             "#c51b7d"
            ],
            [
             0.2,
             "#de77ae"
            ],
            [
             0.3,
             "#f1b6da"
            ],
            [
             0.4,
             "#fde0ef"
            ],
            [
             0.5,
             "#f7f7f7"
            ],
            [
             0.6,
             "#e6f5d0"
            ],
            [
             0.7,
             "#b8e186"
            ],
            [
             0.8,
             "#7fbc41"
            ],
            [
             0.9,
             "#4d9221"
            ],
            [
             1,
             "#276419"
            ]
           ],
           "sequential": [
            [
             0,
             "#0d0887"
            ],
            [
             0.1111111111111111,
             "#46039f"
            ],
            [
             0.2222222222222222,
             "#7201a8"
            ],
            [
             0.3333333333333333,
             "#9c179e"
            ],
            [
             0.4444444444444444,
             "#bd3786"
            ],
            [
             0.5555555555555556,
             "#d8576b"
            ],
            [
             0.6666666666666666,
             "#ed7953"
            ],
            [
             0.7777777777777778,
             "#fb9f3a"
            ],
            [
             0.8888888888888888,
             "#fdca26"
            ],
            [
             1,
             "#f0f921"
            ]
           ],
           "sequentialminus": [
            [
             0,
             "#0d0887"
            ],
            [
             0.1111111111111111,
             "#46039f"
            ],
            [
             0.2222222222222222,
             "#7201a8"
            ],
            [
             0.3333333333333333,
             "#9c179e"
            ],
            [
             0.4444444444444444,
             "#bd3786"
            ],
            [
             0.5555555555555556,
             "#d8576b"
            ],
            [
             0.6666666666666666,
             "#ed7953"
            ],
            [
             0.7777777777777778,
             "#fb9f3a"
            ],
            [
             0.8888888888888888,
             "#fdca26"
            ],
            [
             1,
             "#f0f921"
            ]
           ]
          },
          "colorway": [
           "#636efa",
           "#EF553B",
           "#00cc96",
           "#ab63fa",
           "#FFA15A",
           "#19d3f3",
           "#FF6692",
           "#B6E880",
           "#FF97FF",
           "#FECB52"
          ],
          "font": {
           "color": "#2a3f5f"
          },
          "geo": {
           "bgcolor": "white",
           "lakecolor": "white",
           "landcolor": "#E5ECF6",
           "showlakes": true,
           "showland": true,
           "subunitcolor": "white"
          },
          "hoverlabel": {
           "align": "left"
          },
          "hovermode": "closest",
          "mapbox": {
           "style": "light"
          },
          "paper_bgcolor": "white",
          "plot_bgcolor": "#E5ECF6",
          "polar": {
           "angularaxis": {
            "gridcolor": "white",
            "linecolor": "white",
            "ticks": ""
           },
           "bgcolor": "#E5ECF6",
           "radialaxis": {
            "gridcolor": "white",
            "linecolor": "white",
            "ticks": ""
           }
          },
          "scene": {
           "xaxis": {
            "backgroundcolor": "#E5ECF6",
            "gridcolor": "white",
            "gridwidth": 2,
            "linecolor": "white",
            "showbackground": true,
            "ticks": "",
            "zerolinecolor": "white"
           },
           "yaxis": {
            "backgroundcolor": "#E5ECF6",
            "gridcolor": "white",
            "gridwidth": 2,
            "linecolor": "white",
            "showbackground": true,
            "ticks": "",
            "zerolinecolor": "white"
           },
           "zaxis": {
            "backgroundcolor": "#E5ECF6",
            "gridcolor": "white",
            "gridwidth": 2,
            "linecolor": "white",
            "showbackground": true,
            "ticks": "",
            "zerolinecolor": "white"
           }
          },
          "shapedefaults": {
           "line": {
            "color": "#2a3f5f"
           }
          },
          "ternary": {
           "aaxis": {
            "gridcolor": "white",
            "linecolor": "white",
            "ticks": ""
           },
           "baxis": {
            "gridcolor": "white",
            "linecolor": "white",
            "ticks": ""
           },
           "bgcolor": "#E5ECF6",
           "caxis": {
            "gridcolor": "white",
            "linecolor": "white",
            "ticks": ""
           }
          },
          "title": {
           "x": 0.05
          },
          "xaxis": {
           "automargin": true,
           "gridcolor": "white",
           "linecolor": "white",
           "ticks": "",
           "title": {
            "standoff": 15
           },
           "zerolinecolor": "white",
           "zerolinewidth": 2
          },
          "yaxis": {
           "automargin": true,
           "gridcolor": "white",
           "linecolor": "white",
           "ticks": "",
           "title": {
            "standoff": 15
           },
           "zerolinecolor": "white",
           "zerolinewidth": 2
          }
         }
        },
        "title": {
         "text": "Positive response rate"
        },
        "width": 900,
        "xaxis": {
         "anchor": "y",
         "domain": [
          0,
          0.2888888888888889
         ]
        },
        "xaxis2": {
         "anchor": "y2",
         "domain": [
          0.35555555555555557,
          0.6444444444444445
         ]
        },
        "xaxis3": {
         "anchor": "y3",
         "domain": [
          0.7111111111111111,
          1
         ]
        },
        "xaxis4": {
         "anchor": "y4",
         "domain": [
          0,
          0.2888888888888889
         ]
        },
        "xaxis5": {
         "anchor": "y5",
         "domain": [
          0.35555555555555557,
          0.6444444444444445
         ]
        },
        "xaxis6": {
         "anchor": "y6",
         "domain": [
          0.7111111111111111,
          1
         ]
        },
        "yaxis": {
         "anchor": "x",
         "domain": [
          0.575,
          1
         ]
        },
        "yaxis2": {
         "anchor": "x2",
         "domain": [
          0.575,
          1
         ]
        },
        "yaxis3": {
         "anchor": "x3",
         "domain": [
          0.575,
          1
         ]
        },
        "yaxis4": {
         "anchor": "x4",
         "domain": [
          0,
          0.425
         ]
        },
        "yaxis5": {
         "anchor": "x5",
         "domain": [
          0,
          0.425
         ]
        },
        "yaxis6": {
         "anchor": "x6",
         "domain": [
          0,
          0.425
         ]
        }
       }
      }
     },
     "metadata": {},
     "output_type": "display_data"
    }
   ],
   "source": [
    "fig9 = make_subplots(rows=2, cols=3)\n",
    "\n",
    "fig9.add_trace(\n",
    "    go.Scatter(x=average_score, y=average_attr, name='attr score', mode='markers'),\n",
    "    row=1, col=1\n",
    ")\n",
    "\n",
    "fig9.add_trace(\n",
    "    go.Scatter(x=average_score, y=average_fun, name='fun score', mode='markers'),\n",
    "    row=1, col=2\n",
    ")\n",
    "\n",
    "fig9.add_trace(\n",
    "    go.Scatter(x=average_score, y=average_amb, name='amb score', mode='markers'),\n",
    "    row=1, col=3\n",
    ")\n",
    "\n",
    "fig9.add_trace(\n",
    "    go.Scatter(x=average_score, y=average_intel, name='intel score', mode='markers'),\n",
    "    row=2, col=1\n",
    ")\n",
    "\n",
    "fig9.add_trace(\n",
    "    go.Scatter(x=average_score, y=average_sinc, name='sinc score', mode='markers'),\n",
    "    row=2, col=2\n",
    ")\n",
    "\n",
    "fig9.add_trace(\n",
    "    go.Scatter(x=average_score, y=average_shar, name='shar score', mode='markers'),\n",
    "    row=2, col=3\n",
    ")\n",
    "\n",
    "fig9.update_layout(height=500, width=900, title_text=\"Positive response rate\")\n",
    "fig9.show()"
   ]
  },
  {
   "cell_type": "markdown",
   "metadata": {},
   "source": [
    "The correlation squared (r2 or R2) has special meaning in simple linear regression. It represents the proportion of variation in Y explained by X."
   ]
  },
  {
   "cell_type": "code",
   "execution_count": 30,
   "metadata": {},
   "outputs": [
    {
     "name": "stdout",
     "output_type": "stream",
     "text": [
      "R^2 score Attractive :  0.645853877146505\n",
      "R^2 score Funny :  0.46521010586555356\n",
      "R^2 score Ambition :  0.0854107373428108\n",
      "R^2 score Interest :  0.40755820768549944\n",
      "R^2 score Intelligence :  0.07614228354894248\n",
      "R^2 score Sincerity :  0.0686338122196869\n"
     ]
    }
   ],
   "source": [
    "from sklearn.linear_model import LinearRegression\n",
    "from sklearn.metrics import r2_score\n",
    "\n",
    "# regression attr\n",
    "regression_attr = LinearRegression().fit(average_score.values.reshape(-1, 1), average_attr.values)\n",
    "average_attr_pred = regression_attr.predict(average_score.values.reshape(-1, 1))\n",
    "print('R^2 score Attractive : ', r2_score(average_attr.values, average_attr_pred))\n",
    "\n",
    "# regression fun\n",
    "regression_fun = LinearRegression().fit(average_score.values.reshape(-1, 1), average_fun.values)\n",
    "average_fun_pred = regression_fun.predict(average_score.values.reshape(-1, 1))\n",
    "print('R^2 score Funny : ', r2_score(average_fun.values, average_fun_pred))\n",
    "\n",
    "# regression amb\n",
    "regression_amb = LinearRegression().fit(average_score.values.reshape(-1, 1), average_amb.values)\n",
    "average_amb_pred = regression_amb.predict(average_score.values.reshape(-1, 1))\n",
    "print('R^2 score Ambition : ', r2_score(average_amb.values, average_amb_pred))\n",
    "\n",
    "# regression shar\n",
    "regression_shar = LinearRegression().fit(average_score.values.reshape(-1, 1), average_shar.values)\n",
    "average_shar_pred = regression_shar.predict(average_score.values.reshape(-1, 1))\n",
    "print('R^2 score Interest : ', r2_score(average_shar.values, average_shar_pred))\n",
    "\n",
    "# regression intel\n",
    "regression_intel = LinearRegression().fit(average_score.values.reshape(-1, 1), average_intel.values)\n",
    "average_intel_pred = regression_intel.predict(average_score.values.reshape(-1, 1))\n",
    "print('R^2 score Intelligence : ', r2_score(average_intel.values, average_intel_pred))\n",
    "\n",
    "# regression sinc\n",
    "regression_sinc = LinearRegression().fit(average_score.values.reshape(-1, 1), average_sinc.values)\n",
    "average_sinc_pred = regression_sinc.predict(average_score.values.reshape(-1, 1))\n",
    "print('R^2 score Sincerity : ', r2_score(average_sinc.values, average_sinc_pred))"
   ]
  },
  {
   "cell_type": "markdown",
   "metadata": {},
   "source": [
    "The attribute Attractive has the highest correlation score, then Fun, then Interest. On the other hand, being intelligent, ambitious or sincere does not mean the personn get a higher score of positive response. We could argue that those quality are difficult to judge in 4 minutes and maybe participant do value these attributes but the nature of the experiment doesn't allow us to measure it."
   ]
  },
  {
   "cell_type": "markdown",
   "metadata": {},
   "source": [
    "**Stated interest versus actual interests**"
   ]
  },
  {
   "cell_type": "code",
   "execution_count": 31,
   "metadata": {},
   "outputs": [],
   "source": [
    "attributes7_3_female = df_cleaned.loc[mask_female, ['attr7_3', 'sinc7_3', 'intel7_3', 'fun7_3', 'amb7_3', 'shar7_3']].mean()\n",
    "attributes7_3_male = df_cleaned.loc[mask_male, ['attr7_3', 'sinc7_3', 'intel7_3', 'fun7_3', 'amb7_3', 'shar7_3']].mean()"
   ]
  },
  {
   "cell_type": "code",
   "execution_count": 32,
   "metadata": {},
   "outputs": [],
   "source": [
    "attributes7_3_male.rename({\n",
    "    'attr7_3':'attr',\n",
    "    'sinc7_3':'sinc', \n",
    "    'intel7_3':'intel', \n",
    "    'fun7_3':'fun', \n",
    "    'amb7_3':'amb', \n",
    "    'shar7_3':'shar'\n",
    "    }, inplace=True)\n",
    "\n",
    "attributes7_3_female.rename({\n",
    "    'attr7_3':'attr',\n",
    "    'sinc7_3':'sinc', \n",
    "    'intel7_3':'intel', \n",
    "    'fun7_3':'fun', \n",
    "    'amb7_3':'amb', \n",
    "    'shar7_3':'shar'\n",
    "    }, inplace=True)\n",
    "\n",
    "attributes1_1_male.rename({\n",
    "    'attr1_1':'attr',\n",
    "    'sinc1_1':'sinc', \n",
    "    'intel1_1':'intel', \n",
    "    'fun1_1':'fun', \n",
    "    'amb1_1':'amb', \n",
    "    'shar1_1':'shar'\n",
    "    }, inplace=True)\n",
    "\n",
    "attributes1_1_female.rename({\n",
    "    'attr1_1':'attr',\n",
    "    'sinc1_1':'sinc', \n",
    "    'intel1_1':'intel', \n",
    "    'fun1_1':'fun', \n",
    "    'amb1_1':'amb', \n",
    "    'shar1_1':'shar'\n",
    "    }, inplace=True)"
   ]
  },
  {
   "cell_type": "code",
   "execution_count": 33,
   "metadata": {},
   "outputs": [
    {
     "data": {
      "application/vnd.plotly.v1+json": {
       "config": {
        "plotlyServerURL": "https://plot.ly"
       },
       "data": [
        {
         "fill": "toself",
         "name": "stated interest",
         "r": [
          29.60187260168843,
          16.244819646968512,
          19.492225633154277,
          17.42687981510015,
          7.379489559164739,
          10.329961330239739
         ],
         "subplot": "polar",
         "theta": [
          "attr",
          "sinc",
          "intel",
          "fun",
          "amb",
          "shar"
         ],
         "type": "scatterpolar"
        },
        {
         "fill": "toself",
         "name": "actual interest",
         "r": [
          37.556618819776716,
          13.296650717703349,
          15.762360446570973,
          17.86602870813397,
          6.2631578947368425,
          10.084529505582138
         ],
         "subplot": "polar",
         "theta": [
          "attr",
          "sinc",
          "intel",
          "fun",
          "amb",
          "shar"
         ],
         "type": "scatterpolar"
        },
        {
         "fill": "toself",
         "name": "stated interest",
         "r": [
          18.555886661526586,
          18.385069390902068,
          21.805231303006924,
          16.99725134926753,
          12.508045489591366,
          11.748639167309175
         ],
         "subplot": "polar2",
         "theta": [
          "attr",
          "sinc",
          "intel",
          "fun",
          "amb",
          "shar"
         ],
         "type": "scatterpolar"
        },
        {
         "fill": "toself",
         "name": "actual interest",
         "r": [
          26.13842482100239,
          17.758949880668258,
          17.121718377088307,
          15.13365155131265,
          9.834128878281623,
          14.204057279236277
         ],
         "subplot": "polar2",
         "theta": [
          "attr",
          "sinc",
          "intel",
          "fun",
          "amb",
          "shar"
         ],
         "type": "scatterpolar"
        }
       ],
       "layout": {
        "annotations": [
         {
          "font": {
           "size": 16
          },
          "showarrow": false,
          "text": "Males",
          "x": 0.225,
          "xanchor": "center",
          "xref": "paper",
          "y": 1,
          "yanchor": "bottom",
          "yref": "paper"
         },
         {
          "font": {
           "size": 16
          },
          "showarrow": false,
          "text": "Females",
          "x": 0.775,
          "xanchor": "center",
          "xref": "paper",
          "y": 1,
          "yanchor": "bottom",
          "yref": "paper"
         }
        ],
        "polar": {
         "domain": {
          "x": [
           0,
           0.45
          ],
          "y": [
           0,
           1
          ]
         }
        },
        "polar2": {
         "domain": {
          "x": [
           0.55,
           1
          ],
          "y": [
           0,
           1
          ]
         }
        },
        "template": {
         "data": {
          "bar": [
           {
            "error_x": {
             "color": "#2a3f5f"
            },
            "error_y": {
             "color": "#2a3f5f"
            },
            "marker": {
             "line": {
              "color": "#E5ECF6",
              "width": 0.5
             },
             "pattern": {
              "fillmode": "overlay",
              "size": 10,
              "solidity": 0.2
             }
            },
            "type": "bar"
           }
          ],
          "barpolar": [
           {
            "marker": {
             "line": {
              "color": "#E5ECF6",
              "width": 0.5
             },
             "pattern": {
              "fillmode": "overlay",
              "size": 10,
              "solidity": 0.2
             }
            },
            "type": "barpolar"
           }
          ],
          "carpet": [
           {
            "aaxis": {
             "endlinecolor": "#2a3f5f",
             "gridcolor": "white",
             "linecolor": "white",
             "minorgridcolor": "white",
             "startlinecolor": "#2a3f5f"
            },
            "baxis": {
             "endlinecolor": "#2a3f5f",
             "gridcolor": "white",
             "linecolor": "white",
             "minorgridcolor": "white",
             "startlinecolor": "#2a3f5f"
            },
            "type": "carpet"
           }
          ],
          "choropleth": [
           {
            "colorbar": {
             "outlinewidth": 0,
             "ticks": ""
            },
            "type": "choropleth"
           }
          ],
          "contour": [
           {
            "colorbar": {
             "outlinewidth": 0,
             "ticks": ""
            },
            "colorscale": [
             [
              0,
              "#0d0887"
             ],
             [
              0.1111111111111111,
              "#46039f"
             ],
             [
              0.2222222222222222,
              "#7201a8"
             ],
             [
              0.3333333333333333,
              "#9c179e"
             ],
             [
              0.4444444444444444,
              "#bd3786"
             ],
             [
              0.5555555555555556,
              "#d8576b"
             ],
             [
              0.6666666666666666,
              "#ed7953"
             ],
             [
              0.7777777777777778,
              "#fb9f3a"
             ],
             [
              0.8888888888888888,
              "#fdca26"
             ],
             [
              1,
              "#f0f921"
             ]
            ],
            "type": "contour"
           }
          ],
          "contourcarpet": [
           {
            "colorbar": {
             "outlinewidth": 0,
             "ticks": ""
            },
            "type": "contourcarpet"
           }
          ],
          "heatmap": [
           {
            "colorbar": {
             "outlinewidth": 0,
             "ticks": ""
            },
            "colorscale": [
             [
              0,
              "#0d0887"
             ],
             [
              0.1111111111111111,
              "#46039f"
             ],
             [
              0.2222222222222222,
              "#7201a8"
             ],
             [
              0.3333333333333333,
              "#9c179e"
             ],
             [
              0.4444444444444444,
              "#bd3786"
             ],
             [
              0.5555555555555556,
              "#d8576b"
             ],
             [
              0.6666666666666666,
              "#ed7953"
             ],
             [
              0.7777777777777778,
              "#fb9f3a"
             ],
             [
              0.8888888888888888,
              "#fdca26"
             ],
             [
              1,
              "#f0f921"
             ]
            ],
            "type": "heatmap"
           }
          ],
          "heatmapgl": [
           {
            "colorbar": {
             "outlinewidth": 0,
             "ticks": ""
            },
            "colorscale": [
             [
              0,
              "#0d0887"
             ],
             [
              0.1111111111111111,
              "#46039f"
             ],
             [
              0.2222222222222222,
              "#7201a8"
             ],
             [
              0.3333333333333333,
              "#9c179e"
             ],
             [
              0.4444444444444444,
              "#bd3786"
             ],
             [
              0.5555555555555556,
              "#d8576b"
             ],
             [
              0.6666666666666666,
              "#ed7953"
             ],
             [
              0.7777777777777778,
              "#fb9f3a"
             ],
             [
              0.8888888888888888,
              "#fdca26"
             ],
             [
              1,
              "#f0f921"
             ]
            ],
            "type": "heatmapgl"
           }
          ],
          "histogram": [
           {
            "marker": {
             "pattern": {
              "fillmode": "overlay",
              "size": 10,
              "solidity": 0.2
             }
            },
            "type": "histogram"
           }
          ],
          "histogram2d": [
           {
            "colorbar": {
             "outlinewidth": 0,
             "ticks": ""
            },
            "colorscale": [
             [
              0,
              "#0d0887"
             ],
             [
              0.1111111111111111,
              "#46039f"
             ],
             [
              0.2222222222222222,
              "#7201a8"
             ],
             [
              0.3333333333333333,
              "#9c179e"
             ],
             [
              0.4444444444444444,
              "#bd3786"
             ],
             [
              0.5555555555555556,
              "#d8576b"
             ],
             [
              0.6666666666666666,
              "#ed7953"
             ],
             [
              0.7777777777777778,
              "#fb9f3a"
             ],
             [
              0.8888888888888888,
              "#fdca26"
             ],
             [
              1,
              "#f0f921"
             ]
            ],
            "type": "histogram2d"
           }
          ],
          "histogram2dcontour": [
           {
            "colorbar": {
             "outlinewidth": 0,
             "ticks": ""
            },
            "colorscale": [
             [
              0,
              "#0d0887"
             ],
             [
              0.1111111111111111,
              "#46039f"
             ],
             [
              0.2222222222222222,
              "#7201a8"
             ],
             [
              0.3333333333333333,
              "#9c179e"
             ],
             [
              0.4444444444444444,
              "#bd3786"
             ],
             [
              0.5555555555555556,
              "#d8576b"
             ],
             [
              0.6666666666666666,
              "#ed7953"
             ],
             [
              0.7777777777777778,
              "#fb9f3a"
             ],
             [
              0.8888888888888888,
              "#fdca26"
             ],
             [
              1,
              "#f0f921"
             ]
            ],
            "type": "histogram2dcontour"
           }
          ],
          "mesh3d": [
           {
            "colorbar": {
             "outlinewidth": 0,
             "ticks": ""
            },
            "type": "mesh3d"
           }
          ],
          "parcoords": [
           {
            "line": {
             "colorbar": {
              "outlinewidth": 0,
              "ticks": ""
             }
            },
            "type": "parcoords"
           }
          ],
          "pie": [
           {
            "automargin": true,
            "type": "pie"
           }
          ],
          "scatter": [
           {
            "marker": {
             "colorbar": {
              "outlinewidth": 0,
              "ticks": ""
             }
            },
            "type": "scatter"
           }
          ],
          "scatter3d": [
           {
            "line": {
             "colorbar": {
              "outlinewidth": 0,
              "ticks": ""
             }
            },
            "marker": {
             "colorbar": {
              "outlinewidth": 0,
              "ticks": ""
             }
            },
            "type": "scatter3d"
           }
          ],
          "scattercarpet": [
           {
            "marker": {
             "colorbar": {
              "outlinewidth": 0,
              "ticks": ""
             }
            },
            "type": "scattercarpet"
           }
          ],
          "scattergeo": [
           {
            "marker": {
             "colorbar": {
              "outlinewidth": 0,
              "ticks": ""
             }
            },
            "type": "scattergeo"
           }
          ],
          "scattergl": [
           {
            "marker": {
             "colorbar": {
              "outlinewidth": 0,
              "ticks": ""
             }
            },
            "type": "scattergl"
           }
          ],
          "scattermapbox": [
           {
            "marker": {
             "colorbar": {
              "outlinewidth": 0,
              "ticks": ""
             }
            },
            "type": "scattermapbox"
           }
          ],
          "scatterpolar": [
           {
            "marker": {
             "colorbar": {
              "outlinewidth": 0,
              "ticks": ""
             }
            },
            "type": "scatterpolar"
           }
          ],
          "scatterpolargl": [
           {
            "marker": {
             "colorbar": {
              "outlinewidth": 0,
              "ticks": ""
             }
            },
            "type": "scatterpolargl"
           }
          ],
          "scatterternary": [
           {
            "marker": {
             "colorbar": {
              "outlinewidth": 0,
              "ticks": ""
             }
            },
            "type": "scatterternary"
           }
          ],
          "surface": [
           {
            "colorbar": {
             "outlinewidth": 0,
             "ticks": ""
            },
            "colorscale": [
             [
              0,
              "#0d0887"
             ],
             [
              0.1111111111111111,
              "#46039f"
             ],
             [
              0.2222222222222222,
              "#7201a8"
             ],
             [
              0.3333333333333333,
              "#9c179e"
             ],
             [
              0.4444444444444444,
              "#bd3786"
             ],
             [
              0.5555555555555556,
              "#d8576b"
             ],
             [
              0.6666666666666666,
              "#ed7953"
             ],
             [
              0.7777777777777778,
              "#fb9f3a"
             ],
             [
              0.8888888888888888,
              "#fdca26"
             ],
             [
              1,
              "#f0f921"
             ]
            ],
            "type": "surface"
           }
          ],
          "table": [
           {
            "cells": {
             "fill": {
              "color": "#EBF0F8"
             },
             "line": {
              "color": "white"
             }
            },
            "header": {
             "fill": {
              "color": "#C8D4E3"
             },
             "line": {
              "color": "white"
             }
            },
            "type": "table"
           }
          ]
         },
         "layout": {
          "annotationdefaults": {
           "arrowcolor": "#2a3f5f",
           "arrowhead": 0,
           "arrowwidth": 1
          },
          "autotypenumbers": "strict",
          "coloraxis": {
           "colorbar": {
            "outlinewidth": 0,
            "ticks": ""
           }
          },
          "colorscale": {
           "diverging": [
            [
             0,
             "#8e0152"
            ],
            [
             0.1,
             "#c51b7d"
            ],
            [
             0.2,
             "#de77ae"
            ],
            [
             0.3,
             "#f1b6da"
            ],
            [
             0.4,
             "#fde0ef"
            ],
            [
             0.5,
             "#f7f7f7"
            ],
            [
             0.6,
             "#e6f5d0"
            ],
            [
             0.7,
             "#b8e186"
            ],
            [
             0.8,
             "#7fbc41"
            ],
            [
             0.9,
             "#4d9221"
            ],
            [
             1,
             "#276419"
            ]
           ],
           "sequential": [
            [
             0,
             "#0d0887"
            ],
            [
             0.1111111111111111,
             "#46039f"
            ],
            [
             0.2222222222222222,
             "#7201a8"
            ],
            [
             0.3333333333333333,
             "#9c179e"
            ],
            [
             0.4444444444444444,
             "#bd3786"
            ],
            [
             0.5555555555555556,
             "#d8576b"
            ],
            [
             0.6666666666666666,
             "#ed7953"
            ],
            [
             0.7777777777777778,
             "#fb9f3a"
            ],
            [
             0.8888888888888888,
             "#fdca26"
            ],
            [
             1,
             "#f0f921"
            ]
           ],
           "sequentialminus": [
            [
             0,
             "#0d0887"
            ],
            [
             0.1111111111111111,
             "#46039f"
            ],
            [
             0.2222222222222222,
             "#7201a8"
            ],
            [
             0.3333333333333333,
             "#9c179e"
            ],
            [
             0.4444444444444444,
             "#bd3786"
            ],
            [
             0.5555555555555556,
             "#d8576b"
            ],
            [
             0.6666666666666666,
             "#ed7953"
            ],
            [
             0.7777777777777778,
             "#fb9f3a"
            ],
            [
             0.8888888888888888,
             "#fdca26"
            ],
            [
             1,
             "#f0f921"
            ]
           ]
          },
          "colorway": [
           "#636efa",
           "#EF553B",
           "#00cc96",
           "#ab63fa",
           "#FFA15A",
           "#19d3f3",
           "#FF6692",
           "#B6E880",
           "#FF97FF",
           "#FECB52"
          ],
          "font": {
           "color": "#2a3f5f"
          },
          "geo": {
           "bgcolor": "white",
           "lakecolor": "white",
           "landcolor": "#E5ECF6",
           "showlakes": true,
           "showland": true,
           "subunitcolor": "white"
          },
          "hoverlabel": {
           "align": "left"
          },
          "hovermode": "closest",
          "mapbox": {
           "style": "light"
          },
          "paper_bgcolor": "white",
          "plot_bgcolor": "#E5ECF6",
          "polar": {
           "angularaxis": {
            "gridcolor": "white",
            "linecolor": "white",
            "ticks": ""
           },
           "bgcolor": "#E5ECF6",
           "radialaxis": {
            "gridcolor": "white",
            "linecolor": "white",
            "ticks": ""
           }
          },
          "scene": {
           "xaxis": {
            "backgroundcolor": "#E5ECF6",
            "gridcolor": "white",
            "gridwidth": 2,
            "linecolor": "white",
            "showbackground": true,
            "ticks": "",
            "zerolinecolor": "white"
           },
           "yaxis": {
            "backgroundcolor": "#E5ECF6",
            "gridcolor": "white",
            "gridwidth": 2,
            "linecolor": "white",
            "showbackground": true,
            "ticks": "",
            "zerolinecolor": "white"
           },
           "zaxis": {
            "backgroundcolor": "#E5ECF6",
            "gridcolor": "white",
            "gridwidth": 2,
            "linecolor": "white",
            "showbackground": true,
            "ticks": "",
            "zerolinecolor": "white"
           }
          },
          "shapedefaults": {
           "line": {
            "color": "#2a3f5f"
           }
          },
          "ternary": {
           "aaxis": {
            "gridcolor": "white",
            "linecolor": "white",
            "ticks": ""
           },
           "baxis": {
            "gridcolor": "white",
            "linecolor": "white",
            "ticks": ""
           },
           "bgcolor": "#E5ECF6",
           "caxis": {
            "gridcolor": "white",
            "linecolor": "white",
            "ticks": ""
           }
          },
          "title": {
           "x": 0.05
          },
          "xaxis": {
           "automargin": true,
           "gridcolor": "white",
           "linecolor": "white",
           "ticks": "",
           "title": {
            "standoff": 15
           },
           "zerolinecolor": "white",
           "zerolinewidth": 2
          },
          "yaxis": {
           "automargin": true,
           "gridcolor": "white",
           "linecolor": "white",
           "ticks": "",
           "title": {
            "standoff": 15
           },
           "zerolinecolor": "white",
           "zerolinewidth": 2
          }
         }
        }
       }
      }
     },
     "metadata": {},
     "output_type": "display_data"
    }
   ],
   "source": [
    "fig9 = make_subplots(rows=1, cols=2, subplot_titles=(\"Males\", \"Females\"),  specs=[[{'type': 'polar'}]*2])\n",
    "\n",
    "fig9.add_trace(\n",
    "    go.Scatterpolar(\n",
    "        r = attributes1_1_male.values,\n",
    "        theta = attributes1_1_male.index,\n",
    "        fill = 'toself',\n",
    "        name = 'stated interest'\n",
    "        ), 1, 1\n",
    ")\n",
    "    \n",
    "fig9.add_trace(\n",
    "    go.Scatterpolar(\n",
    "        r = attributes7_3_male.values,\n",
    "        theta = attributes7_3_male.index,\n",
    "        fill = 'toself',\n",
    "        name = 'actual interest'\n",
    "        ), 1, 1\n",
    ")\n",
    "fig9.add_trace(\n",
    "    go.Scatterpolar(\n",
    "        r = attributes1_1_female.values,\n",
    "        theta = attributes1_1_female.index,\n",
    "        fill = 'toself',\n",
    "        name = 'stated interest'\n",
    "        ),1, 2\n",
    ")\n",
    "fig9.add_trace(\n",
    "    go.Scatterpolar(\n",
    "        r = attributes7_3_female.values,\n",
    "        theta = attributes7_3_female.index,\n",
    "        fill = 'toself',\n",
    "        name = 'actual interest'\n",
    "        ), 1, 2\n",
    ")\n",
    "\n",
    "fig9.show()"
   ]
  },
  {
   "cell_type": "markdown",
   "metadata": {},
   "source": [
    "Participant where asked at the end of their dates on what attributes they based their decision.\n",
    "\n",
    "We observe that both male and female participants declared they found attractivness more important than they thought at the beginning of the experiment.\n",
    "Female were slighly more likely to give out a postive response if their date had shared interest with her. This is not the case for male.\n",
    "As we saw earlier, sincerity, intelligence or ambition apparently do not contribute to get a second date.\n",
    "Participant are honest about the fact they agreed on a second date because their partners are attracative, but they didn't realize that they also based their decision on whether or not the personn was funny and that they have interests in common."
   ]
  },
  {
   "cell_type": "markdown",
   "metadata": {},
   "source": [
    "**In terms of getting a second date, is it better to be someone's first speed date of the night or their last?**"
   ]
  },
  {
   "cell_type": "code",
   "execution_count": 34,
   "metadata": {},
   "outputs": [],
   "source": [
    "df['normalized_order'] = df['order']/df['round']"
   ]
  },
  {
   "cell_type": "code",
   "execution_count": 35,
   "metadata": {},
   "outputs": [
    {
     "data": {
      "text/plain": [
       "0       0.400000\n",
       "1       0.300000\n",
       "2       1.000000\n",
       "3       0.500000\n",
       "4       0.700000\n",
       "          ...   \n",
       "6832    1.000000\n",
       "6833    0.166667\n",
       "6834    0.333333\n",
       "6835    0.500000\n",
       "6836    0.166667\n",
       "Name: normalized_order, Length: 6837, dtype: float64"
      ]
     },
     "execution_count": 35,
     "metadata": {},
     "output_type": "execute_result"
    }
   ],
   "source": [
    "df['normalized_order']"
   ]
  },
  {
   "cell_type": "code",
   "execution_count": 36,
   "metadata": {},
   "outputs": [],
   "source": [
    "def cat_round (x):\n",
    "    if x < 0.1 :\n",
    "      y = '0-0.1'\n",
    "    elif x < 0.4 :\n",
    "      y = '0.1-0.4'\n",
    "    elif x < 0.6 :\n",
    "      y = '0.4-0.6'\n",
    "    elif x < 0.9 :\n",
    "      y = '0.6-0.9'\n",
    "    else:\n",
    "      y = '0.9-1'\n",
    "    return y\n",
    "\n",
    "df['normalized_order_cat'] = df['normalized_order'].apply(lambda x: cat_round(x)).astype(str)"
   ]
  },
  {
   "cell_type": "code",
   "execution_count": 51,
   "metadata": {},
   "outputs": [
    {
     "data": {
      "image/png": "[encoded data removed]",
      "text/plain": [
       "<Figure size 556x504 with 1 Axes>"
      ]
     },
     "metadata": {
      "needs_background": "light"
     },
     "output_type": "display_data"
    }
   ],
   "source": [
    "cat_order = ['0-0.1', '0.1-0.4', '0.4-0.6', '0.6-0.9', '0.9-1']\n",
    "\n",
    "df1 = df.groupby('normalized_order_cat')['dec'].value_counts(normalize=True)\n",
    "df1 = df1.mul(100)\n",
    "df1 = df1.rename('percent').reset_index()\n",
    "\n",
    "g = sns.catplot(\n",
    "    x='normalized_order_cat',\n",
    "    y='percent',\n",
    "    hue='dec',\n",
    "    kind='bar',\n",
    "    data=df1,\n",
    "    order=cat_order,\n",
    "    height=7\n",
    "    )\n",
    "\n",
    "g.ax.set_ylim(0,70)\n",
    "\n",
    "for p in g.ax.patches:\n",
    "    txt = str(p.get_height().round(2)) + '%'\n",
    "    txt_x = p.get_x() \n",
    "    txt_y = p.get_height()\n",
    "    g.ax.text(txt_x,txt_y,txt)"
   ]
  },
  {
   "cell_type": "markdown",
   "metadata": {},
   "source": [
    "We observe that people are more likely to give a positive answer to their date at the begining of event, \n",
    "then the positive response rate decrease during the middle of the event, probably because people get socially tired after \n",
    "several dates and therefore less likely to engage conversation or because they already gave positive answers and don't see the point\n",
    "of getting more match. At the end of the event, the rate increase maybe due to people trying to get a late match because they didn't had much success\n",
    "during the event."
   ]
  }
 ],
 "metadata": {
  "interpreter": {
   "hash": "ad2bdc8ecc057115af97d19610ffacc2b4e99fae6737bb82f5d7fb13d2f2c186"
  },
  "kernelspec": {
   "display_name": "Python 3.9.12 ('base')",
   "language": "python",
   "name": "python3"
  },
  "language_info": {
   "codemirror_mode": {
    "name": "ipython",
    "version": 3
   },
   "file_extension": ".py",
   "mimetype": "text/x-python",
   "name": "python",
   "nbconvert_exporter": "python",
   "pygments_lexer": "ipython3",
   "version": "3.9.12"
  },
  "orig_nbformat": 4
 },
 "nbformat": 4,
 "nbformat_minor": 2
}
